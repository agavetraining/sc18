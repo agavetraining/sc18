{
 "cells": [
  {
   "cell_type": "code",
   "execution_count": 34,
   "metadata": {},
   "outputs": [
    {
     "name": "stdout",
     "output_type": "stream",
     "text": [
      "/home/jovyan/agave/aaron\n",
      "Requirement already up-to-date: setvar in /opt/conda/lib/python3.6/site-packages\n",
      "\u001b[33mYou are using pip version 9.0.1, however version 18.1 is available.\n",
      "You should consider upgrading via the 'pip install --upgrade pip' command.\u001b[0m\n",
      "\u001b[1;0mToken for sandbox:AaronHolt successfully refreshed and cached for 14400 seconds\n",
      "204ad87d6350d861b1315ff720dbd458\u001b[0m\n"
     ]
    }
   ],
   "source": [
    "!mkdir -p ~/agave/aaron\n",
    "\n",
    "%cd ~/agave/aaron\n",
    "\n",
    "!pip3 install --upgrade setvar\n",
    "\n",
    "import re\n",
    "import os\n",
    "import sys\n",
    "from setvar import *\n",
    "\n",
    "!auth-tokens-refresh"
   ]
  },
  {
   "cell_type": "code",
   "execution_count": 35,
   "metadata": {},
   "outputs": [],
   "source": [
    "#Empty Deploy Path\n",
    "os.environ[\"AGAVE_STORAGE_SYSTEM_ID\"] = \"sandbox-storage-AaronHolt\"\n",
    "#!files-mkdir -S ${AGAVE_STORAGE_SYSTEM_ID} -N /home/jovyan/funwave_deploy"
   ]
  },
  {
   "cell_type": "code",
   "execution_count": 37,
   "metadata": {},
   "outputs": [
    {
     "name": "stdout",
     "output_type": "stream",
     "text": [
      "\u001b[1;0mSuccessfully created folder /home/jovyan/FUNWAVE-TVD/build\u001b[0m\r\n"
     ]
    }
   ],
   "source": [
    "!files-mkdir -S ${AGAVE_STORAGE_SYSTEM_ID} -N /home/jovyan/FUNWAVE-TVD/build"
   ]
  },
  {
   "cell_type": "code",
   "execution_count": 45,
   "metadata": {},
   "outputs": [
    {
     "name": "stdout",
     "output_type": "stream",
     "text": [
      "Warning: Permanently added 'sandbox,172.21.0.4' (ECDSA) to the list of known hosts.\n",
      "fatal: A branch named 'dev' already exists.\n",
      "Writing file `version.txt'\n",
      "Uploading version.txt...\n",
      "######################################################################## 100.0%\n"
     ]
    }
   ],
   "source": [
    "!ssh sandbox \"cd ~/FUNWAVE-TVD && git checkout -b dev\"\n",
    "writefile(\"version.txt\",\"\"\"3\n",
    "2\n",
    "0\n",
    "dev\"\"\")\n",
    "#!files-upload -S ${AGAVE_STORAGE_SYSTEM_ID} -F version.txt /home/jovyan/funwave_deploy\n",
    "!files-upload -S ${AGAVE_STORAGE_SYSTEM_ID} -F version.txt /home/jovyan/FUNWAVE-TVD/build"
   ]
  },
  {
   "cell_type": "markdown",
   "metadata": {},
   "source": [
    "Build wrapper now clones FWV too"
   ]
  },
  {
   "cell_type": "code",
   "execution_count": 87,
   "metadata": {},
   "outputs": [
    {
     "name": "stdout",
     "output_type": "stream",
     "text": [
      "Writing file `funwave-build-wrapper.txt'\n",
      "Uploading funwave-build-wrapper.txt...\n",
      "######################################################################## 100.0%\n"
     ]
    }
   ],
   "source": [
    "writefile(\"funwave-build-wrapper.txt\",\"\"\"\n",
    "\n",
    "VERSION=$(cat version.txt | paste -sd \".\" -)\n",
    "\n",
    "git clone /home/jovyan/FUNWAVE-TVD\n",
    "cd FUNWAVE-TVD\n",
    "git checkout -b dev\n",
    "\n",
    "sudo docker build \\\n",
    "    --build-arg \"BUILD_DATE=\\${AGAVE_JOB_SUBMIT_TIME}\" \\\n",
    "    --build-arg \"VERSION=\\${VERSION}\" \\\n",
    "    --rm -t funwave-tvd:\\${VERSION} .\n",
    "\n",
    "docker inspect funwave-tvd:\\${VERSION}\n",
    "\n",
    "\"\"\")\n",
    "#!files-upload -S ${AGAVE_STORAGE_SYSTEM_ID} -F funwave-build-wrapper.txt /home/jovyan/funwave_deploy\n",
    "!files-upload -S ${AGAVE_STORAGE_SYSTEM_ID} -F funwave-build-wrapper.txt /home/jovyan/FUNWAVE-TVD/build"
   ]
  },
  {
   "cell_type": "code",
   "execution_count": 88,
   "metadata": {},
   "outputs": [
    {
     "name": "stdout",
     "output_type": "stream",
     "text": [
      "Writing file `Dockerfile'\n",
      "Uploading Dockerfile...\n",
      "######################################################################## 100.0%\n"
     ]
    }
   ],
   "source": [
    "writefile(\"Dockerfile\",\"\"\"\n",
    "FROM stevenrbrandt/science-base\n",
    "MAINTAINER Steven R. Brandt <sbrandt@cct.lsu.edu>\n",
    "\n",
    "ARG BUILD_DATE\n",
    "ARG VERSION\n",
    "\n",
    "\n",
    "LABEL org.agaveplatform.ax.architecture=\"x86_64\"                                \\\n",
    "      org.agaveplatform.ax.build-date=\"\\$BUILD_DATE\"                             \\\n",
    "      org.agaveplatform.ax.version=\"\\$VERSION\"                             \\\n",
    "      org.agaveplatform.ax.name=\"${AGAVE_USERNAME}/funwave-tvd\"    \\\n",
    "      org.agaveplatform.ax.summary=\"Funwave-TVD is a code to simulate the shallow water and Boussinesq equations written by Dr. Fengyan Shi.\" \\\n",
    "      org.agaveplatform.ax.vcs-type=\"git\"                                       \\\n",
    "      org.agaveplatform.ax.vcs-url=\"https://github.com/fengyanshi/FUNWAVE-TVD\" \\\n",
    "      org.agaveplatform.ax.license=\"BSD 3-clause\"\n",
    "      \n",
    "USER root\n",
    "RUN mkdir -p /home/install/FUNWAVE-TVD\n",
    "RUN chown jovyan /home/install/FUNWAVE-TVD\n",
    "RUN pwd\n",
    "RUN ls\n",
    "COPY --chown=jovyan:jovyan ./ /home/install/FUNWAVE-TVD\n",
    "\n",
    "USER jovyan\n",
    "\n",
    "WORKDIR /home/install/FUNWAVE-TVD/src\n",
    "RUN perl -p -i -e 's/FLAG_8 = -DCOUPLING/#$&/' Makefile && \\\n",
    "    make\n",
    "\n",
    "RUN mkdir -p /home/jovyan/rundir\n",
    "WORKDIR /home/jovyan/rundir\n",
    "\"\"\")\n",
    "!files-upload -S ${AGAVE_STORAGE_SYSTEM_ID} -F Dockerfile /home/jovyan/FUNWAVE-TVD"
   ]
  },
  {
   "cell_type": "code",
   "execution_count": 89,
   "metadata": {},
   "outputs": [
    {
     "name": "stdout",
     "output_type": "stream",
     "text": [
      "Writing file `funwave-build-app.txt'\n",
      "Uploading funwave-build-app.txt...\n",
      "######################################################################## 100.0%\n"
     ]
    }
   ],
   "source": [
    "writefile(\"funwave-build-app.txt\",\"\"\"\n",
    "{  \n",
    "   \"name\":\"${AGAVE_USERNAME}-${MACHINE_NAME}-funwave-dbuild\",\n",
    "   \"version\":\"1.0\",\n",
    "   \"label\":\"Builds the funwave docker image\",\n",
    "   \"shortDescription\":\"Funwave docker build\",\n",
    "   \"longDescription\":\"\",\n",
    "   \"deploymentSystem\":\"${AGAVE_STORAGE_SYSTEM_ID}\",\n",
    "   \"deploymentPath\":\"FUNWAVE-TVD/build/\",\n",
    "   \"templatePath\":\"funwave-build-wrapper.txt\",\n",
    "   \"testPath\":\"version.txt\",\n",
    "   \"executionSystem\":\"${AGAVE_EXECUTION_SYSTEM_ID}\",\n",
    "   \"executionType\":\"CLI\",\n",
    "   \"parallelism\":\"SERIAL\",\n",
    "   \"modules\":[],\n",
    "   \"inputs\":[],\n",
    "   \"parameters\":[{\n",
    "     \"id\" : \"code_version\",\n",
    "     \"value\" : {\n",
    "       \"visible\":true,\n",
    "       \"required\":true,\n",
    "       \"type\":\"string\",\n",
    "       \"order\":0,\n",
    "       \"enquote\":false,\n",
    "       \"default\":\"latest\"\n",
    "     },\n",
    "     \"details\":{\n",
    "         \"label\": \"Version of the code\",\n",
    "         \"description\": \"If true, output will be packed and compressed\",\n",
    "         \"argument\": null,\n",
    "         \"showArgument\": false,\n",
    "         \"repeatArgument\": false\n",
    "     },\n",
    "     \"semantics\":{\n",
    "         \"argument\": null,\n",
    "         \"showArgument\": false,\n",
    "         \"repeatArgument\": false\n",
    "     }\n",
    "   }],\n",
    "   \"outputs\":[]\n",
    "}\n",
    "\"\"\")\n",
    "!files-upload -S ${AGAVE_STORAGE_SYSTEM_ID} -F funwave-build-app.txt /home/jovyan/FUNWAVE-TVD/build\n",
    "#!files-upload -S ${AGAVE_STORAGE_SYSTEM_ID} -F funwave-build-app.txt /home/jovyan/funwave_deploy"
   ]
  },
  {
   "cell_type": "code",
   "execution_count": 90,
   "metadata": {},
   "outputs": [
    {
     "name": "stdout",
     "output_type": "stream",
     "text": [
      "/home/jovyan/agave/aaron\n",
      "Dockerfile\t\tfunwave-build.out\n",
      "funwave-build-app.txt\tfunwave-build-wrapper.txt\n",
      "funwave-build.err\tjob-8913959023177699816-242ac114-0001-007\n",
      "funwave-build-job.json\tversion.txt\n"
     ]
    }
   ],
   "source": [
    "!pwd\n",
    "!ls"
   ]
  },
  {
   "cell_type": "code",
   "execution_count": 91,
   "metadata": {},
   "outputs": [
    {
     "name": "stdout",
     "output_type": "stream",
     "text": [
      "Warning: Permanently added 'sandbox,172.21.0.4' (ECDSA) to the list of known hosts.\n",
      "+ cd /home/jovyan/FUNWAVE-TVD\n",
      "+ git add build\n",
      "+ git add Dockerfile\n",
      "Warning: Permanently added 'sandbox,172.21.0.4' (ECDSA) to the list of known hosts.\n",
      "[dev 44b8b64] Added Dockerfile and Agave build files.\n",
      " 1 file changed, 1 insertion(+), 1 deletion(-)\n"
     ]
    }
   ],
   "source": [
    "!ssh sandbox \"set -x && cd ~/FUNWAVE-TVD && git add build && git add Dockerfile\"\n",
    "!ssh sandbox \"cd ~/FUNWAVE-TVD && git commit -m 'Added Dockerfile and Agave build files.'\""
   ]
  },
  {
   "cell_type": "code",
   "execution_count": 92,
   "metadata": {},
   "outputs": [
    {
     "name": "stdout",
     "output_type": "stream",
     "text": [
      "\u001b[1;0m\u001b[1;0mSuccessfully added app AaronHolt-sandbox-funwave-dbuild-1.0\u001b[0m\u001b[0m\r\n"
     ]
    }
   ],
   "source": [
    "!apps-addupdate -F funwave-build-app.txt"
   ]
  },
  {
   "cell_type": "code",
   "execution_count": 93,
   "metadata": {},
   "outputs": [
    {
     "name": "stdout",
     "output_type": "stream",
     "text": [
      "WEBHOOK_URL=https://requestbin.agaveapi.co/10sbyuc1\n"
     ]
    }
   ],
   "source": [
    "requestbin_url = !requestbin-create\n",
    "os.environ['REQUESTBIN_URL'] = requestbin_url[0]\n",
    "setvar(\"\"\"\n",
    "WEBHOOK_URL=${REQUESTBIN_URL}\n",
    "\"\"\")"
   ]
  },
  {
   "cell_type": "code",
   "execution_count": 94,
   "metadata": {},
   "outputs": [
    {
     "name": "stdout",
     "output_type": "stream",
     "text": [
      "/home/jovyan/agave/aaron\n",
      "Writing file `funwave-build-job.json'\n"
     ]
    }
   ],
   "source": [
    "!pwd\n",
    "writefile(\"funwave-build-job.json\",\"\"\"\n",
    " {\n",
    "   \"name\":\"funwave-build\",\n",
    "   \"appId\": \"${AGAVE_USERNAME}-${MACHINE_NAME}-funwave-dbuild-1.0\",\n",
    "   \"maxRunTime\":\"00:10:00\",\n",
    "   \"archive\": false,\n",
    "   \"notifications\": [\n",
    "    {\n",
    "      \"url\":\"${WEBHOOK_URL}\",\n",
    "      \"event\":\"*\",\n",
    "      \"persistent\":\"true\"\n",
    "    }\n",
    "   ],\n",
    "   \"parameters\": {\n",
    "     \"code_version\":\"latest\"\n",
    "   }\n",
    " }\n",
    "\"\"\")"
   ]
  },
  {
   "cell_type": "code",
   "execution_count": 95,
   "metadata": {},
   "outputs": [
    {
     "name": "stdout",
     "output_type": "stream",
     "text": [
      "OUTPUT=Successfully submitted job 9219280139352281576-242ac114-0001-007\n",
      "JOB_ID=9219280139352281576-242ac114-0001-007\n"
     ]
    }
   ],
   "source": [
    "setvar(\"\"\"\n",
    "# Capture the output of the job submit command\n",
    "OUTPUT=$(jobs-submit -F funwave-build-job.json)\n",
    "# Parse out the job id from the output\n",
    "JOB_ID=$(echo $OUTPUT | cut -d' ' -f4)\n",
    "\"\"\")"
   ]
  },
  {
   "cell_type": "code",
   "execution_count": 96,
   "metadata": {},
   "outputs": [
    {
     "name": "stdout",
     "output_type": "stream",
     "text": [
      "STAT=PENDING\n",
      "STAT=STAGED\n",
      "STAT=STAGED\n",
      "STAT=STAGED\n",
      "STAT=STAGED\n",
      "STAT=STAGED\n",
      "STAT=SUBMITTING\n",
      "STAT=SUBMITTING\n",
      "STAT=SUBMITTING\n",
      "STAT=RUNNING\n",
      "STAT=RUNNING\n",
      "STAT=RUNNING\n",
      "STAT=RUNNING\n",
      "STAT=RUNNING\n",
      "STAT=RUNNING\n",
      "STAT=FINISHED\n"
     ]
    }
   ],
   "source": [
    "from time import sleep\n",
    "for iter in range(25):\n",
    "    setvar(\"STAT=$(jobs-status $JOB_ID)\")\n",
    "    stat = os.environ[\"STAT\"]\n",
    "    sleep(5.0)\n",
    "    if stat == \"FINISHED\" or stat == \"FAILED\":\n",
    "        break"
   ]
  },
  {
   "cell_type": "code",
   "execution_count": 83,
   "metadata": {},
   "outputs": [
    {
     "name": "stdout",
     "output_type": "stream",
     "text": [
      "\u001b[1;0m.agave.archive\r\n",
      ".agave.log\r\n",
      "funwave-build-app.txt\r\n",
      "funwave-build-wrapper.txt\r\n",
      "funwave-build.err\r\n",
      "funwave-build.ipcexe\r\n",
      "funwave-build.out\r\n",
      "funwave-build.pid\r\n",
      "FUNWAVE-TVD\r\n",
      "version.txt\u001b[0m\r\n"
     ]
    }
   ],
   "source": [
    "!jobs-output-list ${JOB_ID}"
   ]
  },
  {
   "cell_type": "code",
   "execution_count": 97,
   "metadata": {},
   "outputs": [
    {
     "name": "stdout",
     "output_type": "stream",
     "text": [
      "Sending build context to Docker daemon  187.3MB\n",
      "Step 1/16 : FROM stevenrbrandt/science-base\n",
      " ---> d16f0aff4390\n",
      "Step 2/16 : MAINTAINER Steven R. Brandt <sbrandt@cct.lsu.edu>\n",
      " ---> Using cache\n",
      " ---> 73b8632a8acd\n",
      "Step 3/16 : ARG BUILD_DATE\n",
      " ---> Using cache\n",
      " ---> 5ea9d4936abd\n",
      "Step 4/16 : ARG VERSION\n",
      " ---> Using cache\n",
      " ---> ee968cc63967\n",
      "Step 5/16 : LABEL org.agaveplatform.ax.architecture=\"x86_64\"                                      org.agaveplatform.ax.build-date=\"$BUILD_DATE\"                                   org.agaveplatform.ax.version=\"$VERSION\"                                   org.agaveplatform.ax.name=\"AaronHolt/funwave-tvd\"          org.agaveplatform.ax.summary=\"Funwave-TVD is a code to simulate the shallow water and Boussinesq equations written by Dr. Fengyan Shi.\"       org.agaveplatform.ax.vcs-type=\"git\"                                             org.agaveplatform.ax.vcs-url=\"https://github.com/fengyanshi/FUNWAVE-TVD\"       org.agaveplatform.ax.license=\"BSD 3-clause\"\n",
      " ---> Running in e74fc67a2520\n",
      "Removing intermediate container e74fc67a2520\n",
      " ---> b1663ba982cc\n",
      "Step 6/16 : USER root\n",
      " ---> Running in 343289bb1771\n",
      "Removing intermediate container 343289bb1771\n",
      " ---> 8d92d44edcc9\n",
      "Step 7/16 : RUN mkdir -p /home/install/FUNWAVE-TVD\n",
      " ---> Running in 4e1781959d4b\n",
      "Removing intermediate container 4e1781959d4b\n",
      " ---> 554b0770850d\n",
      "Step 8/16 : RUN chown jovyan /home/install/FUNWAVE-TVD\n",
      " ---> Running in fe073523f2e2\n",
      "Removing intermediate container fe073523f2e2\n",
      " ---> 2a550d3503c7\n",
      "Step 9/16 : RUN pwd\n",
      " ---> Running in cd9d55df8d8a\n",
      "/home/jovyan\n",
      "Removing intermediate container cd9d55df8d8a\n",
      " ---> 1557d7bc90b2\n",
      "Step 10/16 : RUN ls\n",
      " ---> Running in a7420d8eb175\n",
      "Removing intermediate container a7420d8eb175\n",
      " ---> a86d74d4912b\n",
      "Step 11/16 : COPY --chown=jovyan:jovyan ./ /home/install/FUNWAVE-TVD\n",
      " ---> 9bbf730a9c55\n",
      "Step 12/16 : USER jovyan\n",
      " ---> Running in 09dd53dd7d75\n",
      "Removing intermediate container 09dd53dd7d75\n",
      " ---> 35949578015e\n",
      "Step 13/16 : WORKDIR /home/install/FUNWAVE-TVD/src\n",
      " ---> Running in debe5472fde2\n",
      "Removing intermediate container debe5472fde2\n",
      " ---> 12dd38ff628c\n",
      "Step 14/16 : RUN perl -p -i -e 's/FLAG_8 = -DCOUPLING/#$&/' Makefile &&     make\n",
      " ---> Running in e6fd494a53ec\n",
      "/usr/bin/cpp  -P -traditional  -P -traditional  -DDOUBLE_PRECISION  -DPARALLEL  -DCARTESIAN                     mod_param.F > mod_param.f90\n",
      "mpif90  -c     mod_param.f90\n",
      "/bin/rm mod_param.f90\n",
      "/usr/bin/cpp  -P -traditional  -P -traditional  -DDOUBLE_PRECISION  -DPARALLEL  -DCARTESIAN                     mod_global.F > mod_global.f90\n",
      "mpif90  -c     mod_global.f90\n",
      "/bin/rm mod_global.f90\n",
      "/usr/bin/cpp  -P -traditional  -P -traditional  -DDOUBLE_PRECISION  -DPARALLEL  -DCARTESIAN                     mod_input.F > mod_input.f90\n",
      "mpif90  -c     mod_input.f90\n",
      "/bin/rm mod_input.f90\n",
      "/usr/bin/cpp  -P -traditional  -P -traditional  -DDOUBLE_PRECISION  -DPARALLEL  -DCARTESIAN                     mod_vessel.F > mod_vessel.f90\n",
      "mpif90  -c     mod_vessel.f90\n",
      "/bin/rm mod_vessel.f90\n",
      "/usr/bin/cpp  -P -traditional  -P -traditional  -DDOUBLE_PRECISION  -DPARALLEL  -DCARTESIAN                     mod_bathy_correction.F > mod_bathy_correction.f90\n",
      "mpif90  -c     mod_bathy_correction.f90\n",
      "/bin/rm mod_bathy_correction.f90\n",
      "/usr/bin/cpp  -P -traditional  -P -traditional  -DDOUBLE_PRECISION  -DPARALLEL  -DCARTESIAN                     mod_meteo.F > mod_meteo.f90\n",
      "mpif90  -c     mod_meteo.f90\n",
      "/bin/rm mod_meteo.f90\n",
      "/usr/bin/cpp  -P -traditional  -P -traditional  -DDOUBLE_PRECISION  -DPARALLEL  -DCARTESIAN                     mod_parallel_field_io.F > mod_parallel_field_io.f90\n",
      "mpif90  -c     mod_parallel_field_io.f90\n",
      "/bin/rm mod_parallel_field_io.f90\n",
      "/usr/bin/cpp  -P -traditional  -P -traditional  -DDOUBLE_PRECISION  -DPARALLEL  -DCARTESIAN                     main.F > main.f90\n",
      "mpif90  -c     main.f90\n",
      "/bin/rm main.f90\n",
      "/usr/bin/cpp  -P -traditional  -P -traditional  -DDOUBLE_PRECISION  -DPARALLEL  -DCARTESIAN                     bc.F > bc.f90\n",
      "mpif90  -c     bc.f90\n",
      "/bin/rm bc.f90\n",
      "/usr/bin/cpp  -P -traditional  -P -traditional  -DDOUBLE_PRECISION  -DPARALLEL  -DCARTESIAN                     fluxes.F > fluxes.f90\n",
      "mpif90  -c     fluxes.f90\n",
      "/bin/rm fluxes.f90\n",
      "/usr/bin/cpp  -P -traditional  -P -traditional  -DDOUBLE_PRECISION  -DPARALLEL  -DCARTESIAN                     init.F > init.f90\n",
      "mpif90  -c     init.f90\n",
      "/bin/rm init.f90\n",
      "/usr/bin/cpp  -P -traditional  -P -traditional  -DDOUBLE_PRECISION  -DPARALLEL  -DCARTESIAN                     io.F > io.f90\n",
      "mpif90  -c     io.f90\n",
      "/bin/rm io.f90\n",
      "/usr/bin/cpp  -P -traditional  -P -traditional  -DDOUBLE_PRECISION  -DPARALLEL  -DCARTESIAN                     tridiagnal.F > tridiagnal.f90\n",
      "mpif90  -c     tridiagnal.f90\n",
      "/bin/rm tridiagnal.f90\n",
      "/usr/bin/cpp  -P -traditional  -P -traditional  -DDOUBLE_PRECISION  -DPARALLEL  -DCARTESIAN                     breaker.F > breaker.f90\n",
      "mpif90  -c     breaker.f90\n",
      "/bin/rm breaker.f90\n",
      "/usr/bin/cpp  -P -traditional  -P -traditional  -DDOUBLE_PRECISION  -DPARALLEL  -DCARTESIAN                     derivatives.F > derivatives.f90\n",
      "mpif90  -c     derivatives.f90\n",
      "/bin/rm derivatives.f90\n",
      "/usr/bin/cpp  -P -traditional  -P -traditional  -DDOUBLE_PRECISION  -DPARALLEL  -DCARTESIAN                     dispersion.F > dispersion.f90\n",
      "mpif90  -c     dispersion.f90\n",
      "/bin/rm dispersion.f90\n",
      "/usr/bin/cpp  -P -traditional  -P -traditional  -DDOUBLE_PRECISION  -DPARALLEL  -DCARTESIAN                     etauv_solver.F > etauv_solver.f90\n",
      "mpif90  -c     etauv_solver.f90\n",
      "/bin/rm etauv_solver.f90\n",
      "/usr/bin/cpp  -P -traditional  -P -traditional  -DDOUBLE_PRECISION  -DPARALLEL  -DCARTESIAN                     sponge.F > sponge.f90\n",
      "mpif90  -c     sponge.f90\n",
      "/bin/rm sponge.f90\n",
      "/usr/bin/cpp  -P -traditional  -P -traditional  -DDOUBLE_PRECISION  -DPARALLEL  -DCARTESIAN                     sources.F > sources.f90\n",
      "mpif90  -c     sources.f90\n",
      "/bin/rm sources.f90\n",
      "/usr/bin/cpp  -P -traditional  -P -traditional  -DDOUBLE_PRECISION  -DPARALLEL  -DCARTESIAN                     masks.F > masks.f90\n",
      "mpif90  -c     masks.f90\n",
      "/bin/rm masks.f90\n",
      "/usr/bin/cpp  -P -traditional  -P -traditional  -DDOUBLE_PRECISION  -DPARALLEL  -DCARTESIAN                     parallel.F > parallel.f90\n",
      "mpif90  -c     parallel.f90\n",
      "/bin/rm parallel.f90\n",
      "/usr/bin/cpp  -P -traditional  -P -traditional  -DDOUBLE_PRECISION  -DPARALLEL  -DCARTESIAN                     statistics.F > statistics.f90\n",
      "mpif90  -c     statistics.f90\n",
      "/bin/rm statistics.f90\n",
      "/usr/bin/cpp  -P -traditional  -P -traditional  -DDOUBLE_PRECISION  -DPARALLEL  -DCARTESIAN                     wavemaker.F > wavemaker.f90\n",
      "mpif90  -c     wavemaker.f90\n",
      "/bin/rm wavemaker.f90\n",
      "/usr/bin/cpp  -P -traditional  -P -traditional  -DDOUBLE_PRECISION  -DPARALLEL  -DCARTESIAN                     mixing.F > mixing.f90\n",
      "mpif90  -c     mixing.f90\n",
      "/bin/rm mixing.f90\n",
      "/usr/bin/cpp  -P -traditional  -P -traditional  -DDOUBLE_PRECISION  -DPARALLEL  -DCARTESIAN                     nesting.F > nesting.f90\n",
      "mpif90  -c     nesting.f90\n",
      "/bin/rm nesting.f90\n",
      "/usr/bin/cpp  -P -traditional  -P -traditional  -DDOUBLE_PRECISION  -DPARALLEL  -DCARTESIAN                     misc.F > misc.f90\n",
      "mpif90  -c     misc.f90\n",
      "/bin/rm misc.f90\n",
      "/usr/bin/cpp  -P -traditional  -P -traditional  -DDOUBLE_PRECISION  -DPARALLEL  -DCARTESIAN                     samples.F > samples.f90\n",
      "mpif90  -c     samples.f90\n",
      "/bin/rm samples.f90\n",
      "mpif90     -o funwave_vessel mod_param.o mod_global.o mod_input.o mod_vessel.o mod_bathy_correction.o mod_meteo.o mod_parallel_field_io.o main.o bc.o fluxes.o init.o io.o tridiagnal.o breaker.o derivatives.o dispersion.o etauv_solver.o sponge.o sources.o masks.o parallel.o statistics.o wavemaker.o mixing.o nesting.o misc.o samples.o \n",
      "Removing intermediate container e6fd494a53ec\n",
      " ---> 5830d14b6267\n",
      "Step 15/16 : RUN mkdir -p /home/jovyan/rundir\n",
      " ---> Running in 930cd6304528\n",
      "Removing intermediate container 930cd6304528\n",
      " ---> fc5348b91f0c\n",
      "Step 16/16 : WORKDIR /home/jovyan/rundir\n",
      " ---> Running in a3ff99f1884a\n",
      "Removing intermediate container a3ff99f1884a\n",
      " ---> f0b3a8c19e21\n",
      "Successfully built f0b3a8c19e21\n",
      "Successfully tagged funwave-tvd:3.2.0.dev\n",
      "[]\n"
     ]
    }
   ],
   "source": [
    "!jobs-output-get -P ${JOB_ID} funwave-build.out"
   ]
  },
  {
   "cell_type": "code",
   "execution_count": 85,
   "metadata": {},
   "outputs": [
    {
     "name": "stdout",
     "output_type": "stream",
     "text": [
      "fatal: destination path 'FUNWAVE-TVD' already exists and is not an empty directoGot permission denied while trying to connect toGot permission denied while trying to connect to the Docker daemon socket at unix:///var/run/docker.sock: Get http://%2Fvar%2Frun%2Fdocker.sock/v1.38/containers/funwave-tvd:3.2.0.dev/json: dial unix /var/run/docker.sock: connect: permission denied\r\n"
     ]
    }
   ],
   "source": [
    "!jobs-output-get -P ${JOB_ID} funwave-build.err"
   ]
  },
  {
   "cell_type": "code",
   "execution_count": null,
   "metadata": {},
   "outputs": [],
   "source": []
  }
 ],
 "metadata": {
  "kernelspec": {
   "display_name": "Python 3",
   "language": "python",
   "name": "python3"
  },
  "language_info": {
   "codemirror_mode": {
    "name": "ipython",
    "version": 3
   },
   "file_extension": ".py",
   "mimetype": "text/x-python",
   "name": "python",
   "nbconvert_exporter": "python",
   "pygments_lexer": "ipython3",
   "version": "3.6.2"
  }
 },
 "nbformat": 4,
 "nbformat_minor": 2
}
