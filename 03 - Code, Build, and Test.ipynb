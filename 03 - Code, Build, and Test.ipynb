{
 "cells": [
  {
   "cell_type": "markdown",
   "metadata": {},
   "source": [
    "<h2>Funwave-TVD</h2>\n",
    "Funwave-TVD is a code to simulate the shallow water and Boussinesq equations written by Dr. Fengyan Shi. It is capable of running a variety of complex ocean simulations. For more information, see Dr. Fengyan Shi's website: https://fengyanshi.github.io/shi_website/_build/html/funwave.html\n",
    "\n",
    "We will use it as our example scientific code for this tutorial because it is reasonably complex, real scientific code but can be compiled and run quickly."
   ]
  },
  {
   "cell_type": "code",
   "execution_count": 1,
   "metadata": {},
   "outputs": [
    {
     "name": "stdout",
     "output_type": "stream",
     "text": [
      "/home/jovyan/agave\n",
      "Requirement already up-to-date: setvar in /opt/conda/lib/python3.6/site-packages\n"
     ]
    }
   ],
   "source": [
    "!mkdir -p ~/agave\n",
    "\n",
    "%cd ~/agave\n",
    "\n",
    "!pip3 install --upgrade setvar\n",
    "\n",
    "import re\n",
    "import os\n",
    "import sys\n",
    "from setvar import *\n",
    "from time import sleep\n",
    "\n",
    "# This cell enables inline plotting in the notebook\n",
    "%matplotlib inline\n",
    "\n",
    "import matplotlib\n",
    "import numpy as np\n",
    "import matplotlib.pyplot as plt"
   ]
  },
  {
   "cell_type": "markdown",
   "metadata": {},
   "source": [
    "The parameter file for Funwave-TVD is called \"input.txt\". Here we create it using writefile. You don't need to understand the details of how this file for this tutorial."
   ]
  },
  {
   "cell_type": "code",
   "execution_count": 2,
   "metadata": {},
   "outputs": [
    {
     "name": "stdout",
     "output_type": "stream",
     "text": [
      "Writing file `input.txt'\n"
     ]
    }
   ],
   "source": [
    "writefile(\"input.txt\",\"\"\"\n",
    "!INPUT FILE FOR FUNWAVE_TVD\n",
    "  ! NOTE: all input parameter are capital sensitive\n",
    "  ! --------------------TITLE-------------------------------------\n",
    "  ! title only for log file\n",
    "TITLE = VESSEL\n",
    "  ! -------------------HOT START---------------------------------\n",
    "HOT_START = F\n",
    "FileNumber_HOTSTART = 1\n",
    "  ! -------------------PARALLEL INFO-----------------------------\n",
    "  ! \n",
    "  !    PX,PY - processor numbers in X and Y\n",
    "  !    NOTE: make sure consistency with mpirun -np n (px*py)\n",
    "  !    \n",
    "PX = 2\n",
    "PY = 1\n",
    "  ! --------------------DEPTH-------------------------------------\n",
    "  ! Depth types, DEPTH_TYPE=DATA: from depth file\n",
    "  !              DEPTH_TYPE=FLAT: idealized flat, need depth_flat\n",
    "  !              DEPTH_TYPE=SLOPE: idealized slope, \n",
    "  !                                 need slope,SLP starting point, Xslp\n",
    "  !                                 and depth_flat\n",
    "DEPTH_TYPE = FLAT\n",
    "DEPTH_FLAT = 10.0\n",
    "  ! -------------------PRINT---------------------------------\n",
    "  ! PRINT*,\n",
    "  ! result folder\n",
    "RESULT_FOLDER = output/\n",
    "\n",
    "  ! ------------------DIMENSION-----------------------------\n",
    "  ! global grid dimension\n",
    "Mglob = 500\n",
    "Nglob = 100\n",
    "\n",
    "  ! ----------------- TIME----------------------------------\n",
    "  ! time: total computational time/ plot time / screen interval \n",
    "  ! all in seconds\n",
    "TOTAL_TIME = 3.0\n",
    "PLOT_INTV = 1.0\n",
    "PLOT_INTV_STATION = 50000.0\n",
    "SCREEN_INTV = 1.0\n",
    "HOTSTART_INTV = 360000000000.0\n",
    "\n",
    "WAVEMAKER = INI_GAU\n",
    "AMP = 3.0\n",
    "Xc = 250.0\n",
    "Yc = 50.0\n",
    "WID = 20.0\n",
    "\n",
    "  ! -----------------GRID----------------------------------\n",
    "  ! if use spherical grid, in decimal degrees\n",
    "  ! cartesian grid sizes\n",
    "DX = 1.0\n",
    "DY = 1.0\n",
    "  ! ----------------SHIP WAKES ----------------------------\n",
    "VESSEL_FOLDER = ./\n",
    "NumVessel = 2\n",
    "  ! -----------------OUTPUT-----------------------------\n",
    "ETA = T\n",
    "U = T\n",
    "V = T\n",
    "\"\"\")"
   ]
  },
  {
   "cell_type": "markdown",
   "metadata": {},
   "source": [
    "Here is a simple bash script to run the code...."
   ]
  },
  {
   "cell_type": "code",
   "execution_count": 3,
   "metadata": {},
   "outputs": [
    {
     "name": "stdout",
     "output_type": "stream",
     "text": [
      "Writing file `run.sh'\n"
     ]
    }
   ],
   "source": [
    "writefile(\"run.sh\",\"\"\"\n",
    "#!/bin/bash\n",
    "export LD_LIBRARY_PATH=/usr/local/lib\n",
    "mkdir -p rundir\n",
    "cd ./rundir\n",
    "cp ../input.txt .\n",
    "mpirun -np 2 ~/FUNWAVE-TVD/src/funwave_vessel\n",
    "\"\"\")"
   ]
  },
  {
   "cell_type": "markdown",
   "metadata": {},
   "source": [
    "## FOLLOWING ALONG AT HOME  \n",
    "\n",
    "If you are following along at home using the docker-compose stack, you will need to run the following cell to get the hsotname and port of your tcp tunnel so Agave can contact your system without a public IP address."
   ]
  },
  {
   "cell_type": "code",
   "execution_count": 4,
   "metadata": {},
   "outputs": [
    {
     "name": "stdout",
     "output_type": "stream",
     "text": [
      "0.tcp.ngrok.io:10322\n",
      "Reading file `ngrok_port.txt'\n",
      "Reading file `ngrok_host.txt'\n",
      "Reading file `ngrok_host.txt'\n",
      "Reading file `ngrok_port.txt'\n",
      "VM_PORT=10322\n",
      "VM_MACHINE=0.tcp.ngrok.io\n",
      "VM_IPADDRESS=52.15.194.28\n"
     ]
    }
   ],
   "source": [
    "if os.environ.get('USE_TUNNEL') == 'True': \n",
    "    # fetch the hostname and port of the reverse tunnel running in the sandbox \n",
    "    # so Agave can connect to our local sandbox\n",
    "    !echo $(ssh -q -o StrictHostKeyChecking=no -o UserKnownHostsFile=/dev/null sandbox 'curl -s  http://localhost:4040/api/tunnels | jq -r '.tunnels[0].public_url'') > ngrok_url.txt  \n",
    "    !cat ngrok_url.txt | sed 's|^tcp://||'\n",
    "    !cat ngrok_url.txt | sed 's|^tcp://||' | sed -r 's#(.*):(.*)#\\1#' > ngrok_host.txt\n",
    "    !cat ngrok_url.txt | sed 's|^tcp://||' | sed -r 's#(.*):(.*)#\\2#' > ngrok_port.txt\n",
    "\n",
    "    # set the environment variables otherwise set when running in a training cluster\n",
    "    os.environ['VM_PORT'] = readfile('ngrok_port.txt').strip()\n",
    "    os.environ['VM_MACHINE'] = readfile('ngrok_host.txt').strip()\n",
    "    os.environ['AGAVE_SYSTEM_HOST'] = readfile('ngrok_host.txt').strip()\n",
    "    os.environ['AGAVE_SYSTEM_PORT'] = readfile('ngrok_port.txt').strip()\n",
    "    !echo \"VM_PORT=$VM_PORT\"\n",
    "    !echo \"VM_MACHINE=$VM_MACHINE\"\n",
    "    setvar(\"VM_IPADDRESS=$(getent hosts ${VM_MACHINE}|cut -d' ' -f1)\")"
   ]
  },
  {
   "cell_type": "markdown",
   "metadata": {},
   "source": [
    "Here's how the average developer might run the code when doing their research."
   ]
  },
  {
   "cell_type": "code",
   "execution_count": 5,
   "metadata": {},
   "outputs": [
    {
     "name": "stdout",
     "output_type": "stream",
     "text": [
      "Warning: Permanently added '[52.15.194.28]:10322' (ECDSA) to the list of known hosts.\n",
      "input.txt                                     100% 1753     1.7KB/s   00:00    \n",
      "run.sh                                        100%  141     0.1KB/s   00:00    \n",
      "Warning: Permanently added '[52.15.194.28]:10322' (ECDSA) to the list of known hosts.\n",
      " BATHY_CORRECTION DOES NOT EXIST. USE DEFAULT VALUE\n",
      " INI_UVZ DOES NOT EXIST. USE DEFAULT VALUE\n",
      " WaterLevel DOES NOT EXIST. USE DEFAULT VALUE\n",
      " ETA_LIMITER DOES NOT EXIST. USE DEFAULT VALUE\n",
      " EqualEnergy DOES NOT EXIST. USE DEFAULT VALUE\n",
      " PERIODIC DOES NOT EXIST. USE DEFAULT VALUE\n",
      " DIFFUSION_SPONGE DOES NOT EXIST. USE DEFAULT VALUE\n",
      " DIRECT_SPONGE DOES NOT EXIST. USE DEFAULT VALUE\n",
      " FRICTION_SPONGE DOES NOT EXIST. USE DEFAULT VALUE\n",
      " OBSTACLE_FILE DOES NOT EXIST. USE DEFAULT VALUE\n",
      " BREAKWATER_FILE DOES NOT EXIST. USE DEFAULT VALUE\n",
      " DISPERSION DOES NOT EXIST. USE DEFAULT VALUE\n",
      "         DISPERSION Default:  DISPERSION\n",
      " Gamma1 DOES NOT EXIST. USE DEFAULT VALUE\n",
      "        Gamma1 Default:  1.0: DISPERSION\n",
      " Gamma2 DOES NOT EXIST. USE DEFAULT VALUE\n",
      "              Gamma2 Default:  1.0: Full nonlinear\n",
      " Beta_ref DOES NOT EXIST. USE DEFAULT VALUE\n",
      "               Beta_ref Default:  -0.531\n",
      " Gamma3 DOES NOT EXIST. USE DEFAULT VALUE\n",
      "                      Gamma3 Default:  1.0: NOT fully linear\n",
      " VISCOSITY_BREAKING DOES NOT EXIST. USE DEFAULT VALUE\n",
      "                   VISCOSITY_BREAKING Default:  SWE Breaking\n",
      " SWE_ETA_DEP DOES NOT EXIST. USE DEFAULT VALUE\n",
      "               SWE_ETA_DEP Default:  0.8\n",
      " Friction_Matrix DOES NOT EXIST. USE DEFAULT VALUE\n",
      "             Friction_Matrix Default:  constant Cd\n",
      " Cd DOES NOT EXIST. USE DEFAULT VALUE\n",
      "                  Cd_fixed Default:  0.0\n",
      " Time_Scheme DOES NOT EXIST. USE DEFAULT VALUE\n",
      "       Time_Scheme Default:  Runge_Kutta\n",
      " CONSTRUCTION DOES NOT EXIST. USE DEFAULT VALUE\n",
      " HIGH_ORDER DOES NOT EXIST. USE DEFAULT VALUE\n",
      "  HIGH_ORDER                     NOT DEFINED, USE FOURTH-ORDER\n",
      " CFL DOES NOT EXIST. USE DEFAULT VALUE\n",
      "                       CFL Default:  0.5\n",
      " DT_fixed DOES NOT EXIST. USE DEFAULT VALUE\n",
      " FroudeCap DOES NOT EXIST. USE DEFAULT VALUE\n",
      "                 FroudeCap Default:  3.0\n",
      " MinDepth DOES NOT EXIST. USE DEFAULT VALUE\n",
      "                MinDepth Default:  0.1 m\n",
      " MinDepthFrc DOES NOT EXIST. USE DEFAULT VALUE\n",
      "             MinDepthFrc Default:  0.1 m\n",
      " SHOW_BREAKING DOES NOT EXIST. USE DEFAULT VALUE\n",
      "            SHOW_BREAKING Default:  TRUE\n",
      " Cbrk1 DOES NOT EXIST. USE DEFAULT VALUE\n",
      "                    Cbrk1 Default:  0.65\n",
      " Cbrk2 DOES NOT EXIST. USE DEFAULT VALUE\n",
      "                    Cbrk2 Default:  0.35\n",
      " WAVEMAKER_Cbrk DOES NOT EXIST. USE DEFAULT VALUE\n",
      "            WAVEMAKER_Cbrk Default:  1.0\n",
      " WAVEMAKER_VIS DOES NOT EXIST. USE DEFAULT VALUE\n",
      "           WAVEMAKER_VIS Default:  FALSE\n",
      " T_INTV_mean DOES NOT EXIST. USE DEFAULT VALUE\n",
      "             T_INTV_mean Default:  LARGE\n",
      " STEADY_TIME DOES NOT EXIST. USE DEFAULT VALUE\n",
      "             STEADY_TIME Default:  LARGE\n",
      " C_smg DOES NOT EXIST. USE DEFAULT VALUE\n",
      "                     C_smg Default:  0.0\n",
      " nu_bkg DOES NOT EXIST. USE DEFAULT VALUE\n",
      "                    nu_bkg Default:  0.0\n",
      " FIELD_IO_TYPE DOES NOT EXIST. USE DEFAULT VALUE\n",
      " NumberStations DOES NOT EXIST. USE DEFAULT VALUE\n",
      " OUTPUT_RES DOES NOT EXIST. USE DEFAULT VALUE\n",
      "         OUTPUT_RES NOT FOUND, OUTPUT_RES=1: full resolution\n",
      " DEPTH_OUT DOES NOT EXIST. USE DEFAULT VALUE\n",
      " Hmax DOES NOT EXIST. USE DEFAULT VALUE\n",
      " Hmin DOES NOT EXIST. USE DEFAULT VALUE\n",
      " Umax DOES NOT EXIST. USE DEFAULT VALUE\n",
      " MFmax DOES NOT EXIST. USE DEFAULT VALUE\n",
      " VORmax DOES NOT EXIST. USE DEFAULT VALUE\n",
      " MASK DOES NOT EXIST. USE DEFAULT VALUE\n",
      " MASK9 DOES NOT EXIST. USE DEFAULT VALUE\n",
      " Umean DOES NOT EXIST. USE DEFAULT VALUE\n",
      " Vmean DOES NOT EXIST. USE DEFAULT VALUE\n",
      " ETAmean DOES NOT EXIST. USE DEFAULT VALUE\n",
      " WaveHeight DOES NOT EXIST. USE DEFAULT VALUE\n",
      " SXL DOES NOT EXIST. USE DEFAULT VALUE\n",
      " SXR DOES NOT EXIST. USE DEFAULT VALUE\n",
      " SYL DOES NOT EXIST. USE DEFAULT VALUE\n",
      " SYR DOES NOT EXIST. USE DEFAULT VALUE\n",
      " SourceX DOES NOT EXIST. USE DEFAULT VALUE\n",
      " SourceY DOES NOT EXIST. USE DEFAULT VALUE\n",
      " P DOES NOT EXIST. USE DEFAULT VALUE\n",
      " Q DOES NOT EXIST. USE DEFAULT VALUE\n",
      " Fx DOES NOT EXIST. USE DEFAULT VALUE\n",
      " Fy DOES NOT EXIST. USE DEFAULT VALUE\n",
      " Gx DOES NOT EXIST. USE DEFAULT VALUE\n",
      " Gy DOES NOT EXIST. USE DEFAULT VALUE\n",
      " AGE DOES NOT EXIST. USE DEFAULT VALUE\n",
      " OUT_NU DOES NOT EXIST. USE DEFAULT VALUE\n",
      " TMP DOES NOT EXIST. USE DEFAULT VALUE\n",
      "      EtaBlowVal Default:  100xmax_depth\n",
      " ----------------- STATISTICS ----------------\n",
      "  TIME        DT\n",
      "  0.4428E-01  0.4428E-01\n",
      "  MassVolume  Energy      MaxEta      MinEta      Max U       Max V \n",
      "  0.1937E+04  0.1247E+08  0.2996E+01 -0.4596E-06  0.4050E-01  0.4050E-01\n",
      "  MaxTotalU   PhaseS      Froude \n",
      "  0.4050E-01  0.1066E+02  0.3800E-02\n",
      "   PRINTING FILE NO.     1  TIME/TOTAL:        0.044 /       3.000\n",
      " ----------------- STATISTICS ----------------\n",
      "  TIME        DT\n",
      "  0.1017E+01  0.4414E-01\n",
      "  MassVolume  Energy      MaxEta      MinEta      Max U       Max V \n",
      "  0.1927E+04  0.1246E+08  0.1900E+01 -0.1727E-05  0.7329E+00  0.7325E+00\n",
      "  MaxTotalU   PhaseS      Froude \n",
      "  0.7338E+00  0.1050E+02  0.6987E-01\n",
      "   PRINTING FILE NO.     2  TIME/TOTAL:        1.017 /       3.000\n",
      " ----------------- STATISTICS ----------------\n",
      "  TIME        DT\n",
      "  0.2037E+01  0.4473E-01\n",
      "  MassVolume  Energy      MaxEta      MinEta      Max U       Max V \n",
      "  0.1906E+04  0.1246E+08  0.7393E+00 -0.2109E-05  0.9186E+00  0.9148E+00\n",
      "  MaxTotalU   PhaseS      Froude \n",
      "  0.9215E+00  0.1024E+02  0.8998E-01\n",
      "   PRINTING FILE NO.     3  TIME/TOTAL:        2.037 /       3.000\n",
      " ----------------- STATISTICS ----------------\n",
      "  TIME        DT\n",
      "  0.3032E+01  0.4566E-01\n",
      "  MassVolume  Energy      MaxEta      MinEta      Max U       Max V \n",
      "  0.1890E+04  0.1246E+08  0.7188E+00 -0.9413E+00  0.7352E+00  0.6932E+00\n",
      "  MaxTotalU   PhaseS      Froude \n",
      "  0.7378E+00  0.1019E+02  0.7239E-01\n",
      "   PRINTING FILE NO.     4  TIME/TOTAL:        3.032 /       3.000\n",
      " Simulation takes   15.384583986000507      seconds\n",
      " Normal Termination!\n"
     ]
    }
   ],
   "source": [
    "!scp -o \"StrictHostKeyChecking=no\" -P $VM_PORT input.txt run.sh $VM_IPADDRESS:.\n",
    "!ssh -p $VM_PORT $VM_IPADDRESS bash run.sh"
   ]
  },
  {
   "cell_type": "markdown",
   "metadata": {},
   "source": [
    "Here's how they might retrieve the data."
   ]
  },
  {
   "cell_type": "code",
   "execution_count": 6,
   "metadata": {},
   "outputs": [
    {
     "name": "stdout",
     "output_type": "stream",
     "text": [
      "Warning: Permanently added '[52.15.194.28]:10322' (ECDSA) to the list of known hosts.\r",
      "\r\n"
     ]
    }
   ],
   "source": [
    "!ssh -p $VM_PORT $VM_IPADDRESS tar -C rundir -czf output.tgz output\n",
    "!rm -fr output.tgz output\n",
    "!scp -q -r -P $VM_PORT $VM_IPADDRESS:output.tgz .\n",
    "!tar xzf output.tgz"
   ]
  },
  {
   "cell_type": "code",
   "execution_count": 7,
   "metadata": {},
   "outputs": [
    {
     "name": "stdout",
     "output_type": "stream",
     "text": [
      "eta_00001  eta_00003  eta_00005  u_00002  u_00004  v_00001  v_00003  v_00005\r\n",
      "eta_00002  eta_00004  u_00001\t u_00003  u_00005  v_00002  v_00004\r\n"
     ]
    }
   ],
   "source": [
    "!ls output"
   ]
  },
  {
   "cell_type": "markdown",
   "metadata": {},
   "source": [
    "Now let's use Python to graph the output"
   ]
  },
  {
   "cell_type": "code",
   "execution_count": 8,
   "metadata": {},
   "outputs": [
    {
     "data": {
      "image/png": "[encoded data removed]",
      "text/plain": [
       "<matplotlib.figure.Figure at 0x7f20185c9588>"
      ]
     },
     "metadata": {},
     "output_type": "display_data"
    }
   ],
   "source": [
    "data = np.genfromtxt(\"output/v_00003\")\n",
    "fig = plt.figure(figsize=(12,12))\n",
    "pltres = plt.imshow(data[::-1,:])\n",
    "plt.show()"
   ]
  }
 ],
 "metadata": {
  "kernelspec": {
   "display_name": "Python 3",
   "language": "python",
   "name": "python3"
  },
  "language_info": {
   "codemirror_mode": {
    "name": "ipython",
    "version": 3
   },
   "file_extension": ".py",
   "mimetype": "text/x-python",
   "name": "python",
   "nbconvert_exporter": "python",
   "pygments_lexer": "ipython3",
   "version": "3.6.2"
  }
 },
 "nbformat": 4,
 "nbformat_minor": 1
}
