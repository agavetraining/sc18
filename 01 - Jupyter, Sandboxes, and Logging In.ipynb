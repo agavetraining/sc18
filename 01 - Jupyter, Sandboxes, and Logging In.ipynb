{
 "cells": [
  {
   "cell_type": "markdown",
   "metadata": {},
   "source": [
    "# Jupyter environment\n",
    "\n",
    "The Jupyter is an open-source web application that allows you to create and share documents that contain live code, equations, visualizations and explanatory text. Uses include: data cleaning and transformation, numerical simulation, statistical modeling, machine learning and much more.\n",
    "\n",
    "[Website](http://jupyter.org/) [Project repository](https://github.com/jupyter)\n",
    "\n",
    "We will be using a Jupyter server as the primary web interface for this workshop. Several notebooks have been provided to you, in advance, to guide you through the workshop. After the workshop, you may use the [Agave Jupyter image](https://hub.docker.com/r/agaveplatform/jupyter-notebook/) to recreate the notebook server and repeat the workshop, or continue on with your own work at your leisure.  \n",
    "\n",
    "The Agave image has several customizations to facilitate use of the platform and ease much of the heavy lifting done behind the scenes in this tutorial.\n",
    "\n",
    "\n",
    "### Custom Kernels\n",
    "\n",
    "Your Jupyter server is an extension of the Jupyter project's official datascience notebook server. It has multiple kernels available for use right away. We have preconfigured them with several useful libraries and tools to help you get up and running with common tasks easier. Additionally, we have bundled in Agave CLI and Python & R SDK into the Bash, Python 2, Python 3, and R kernels respectively. A brief rundown of each kernel environment is given below.\n",
    "\n",
    "**Python 2**\n",
    "* Standard CPython 2.7 environment\n",
    "* Agave Python SDK \n",
    "\n",
    "**Python 3**  \n",
    "* Conda Python 3.6 environment\n",
    "* pandas, matplotlib, scipy, seaborn, scikit-learn, scikit-image, sympy, cython, patsy, statsmodel, cloudpickle, dill, numba, bokeh pre-installed\n",
    "* Agave Python SDK\n",
    "\n",
    "**R Kernel**  \n",
    "* Conda R v3.3.x and channel\n",
    "* Cran and Microsoft application networks preconfigured.\n",
    "* plyr, devtools, shiny, rmarkdown, forecast, rsqlite, reshape2, nycflights13, caret, rcurl, and randomforest pre-installed\n",
    "* The [tidyverse](https://github.com/tidyverse/tidyverse) R packages are also installed, including ggplot2, dplyr, tidyr, readr, purrr, tibble, stringr, lubridate, and broom\n",
    "* Agave R SDK\n",
    "\n",
    "**Julia Kernel**  \n",
    "* Julia v0.6.x\n",
    "* Gadfly, RDatasets, and HDF5 pre-installed\n",
    "\n",
    "**Bash Kernel**  \n",
    "* Bash 4\n",
    "* jq, custom scripts, and preconfigured ssh keys pre-installed \n",
    "* Agave CLI\n",
    "\n",
    "\n",
    "### Notebook plugins  \n",
    "\n",
    "In addition to the custom kernels, the Jupyter Widget plugin is also installed to enable the creation of graphical user interface elements within your notebooks. \n",
    "\n",
    "\n",
    "### Shared file system\n",
    "\n",
    "The $HOME/work directory is a share file system between the Jupyter server and your sandbox, so you can copy data between the two environments quickly and easily.  \n",
    "\n",
    "### Web console\n",
    "\n",
    "Jupyter contains a web terminal that can be used to access your sandbox environment or interact with the Jupyter container itself. To login to your sandbox from the Jupyter web terminal, simply run the following command:  \n",
    "\n",
    "```\n",
    "ssh -p 10022 $VM_IPADDRESS  \n",
    "```  \n",
    "\n",
    "\n",
    "### Tutorial notebooks  \n",
    "\n",
    "This tutorial is presented as a series of Jupyter notebooks. Whether you are attending this tutorial in person, or following along after the fact, your first step should be to open the `INSTALL.ipynb` file in the home directory of your notebook server and through every cell. This will download the [latest version of the training notebooks](https://github.com/agavetraining/sc18) from Github and install them on your notebook server. \n",
    "\n",
    "If for whatever reason you need to restore the notebooks, you can simply rerun the `INSTALL.ipynb` notebook in its entirety and it will back up your current workspace and reinstall fresh copies of the training notebooks from Github. \n",
    "\n",
    "\n",
    "### API access  \n",
    "\n",
    "The tutorial walks you through the process of obtaining a set of API keys and authenticating to the Agave Platform. Once this is done, you no longer need to authenticate to follow the tutorial. Both the Agave CLI and SDKs will pick up your authorization cache and automatically refresh it as needed.\n",
    "\n",
    "\n",
    "### Extras\n",
    "\n",
    "Inside of the `examples` directory, you will find several notebooks to help you learn more about the Agave platform, containers, and SciOps. We leave these for you to follow after the tutorial.\n"
   ]
  },
  {
   "cell_type": "markdown",
   "metadata": {},
   "source": [
    "<hr>"
   ]
  },
  {
   "cell_type": "markdown",
   "metadata": {},
   "source": [
    "# Sandbox environment\n",
    "\n",
    "The tutorial sandbox is an Ubuntu 16.04 server running as a Docker container on a VM dedicated for your use in this tutorial. The sandbox has a standard HPC build environment with OpenMPI, Python 2, Python 3, build-essential, gfortran, openssl, git, jq, vim, and a host of other utilities. \n",
    "\n",
    "\n",
    "### Container runtimes  \n",
    "\n",
    "Docker and Singularity are both pre-installed in your Sandbox. All images used in this tutorial are available from the public Agave Docker Hub and Singularity Hub accounts. You may also use your own private registry accounts. You will need to login to the respective registries on your own.\n",
    "\n",
    "\n",
    "### Funwave example code   \n",
    "\n",
    "The sample code for this project is already present in `$HOME/FUNWAVE-TVD`.  \n",
    "\n",
    "\n",
    "### Shared file system\n",
    "\n",
    "Your `$HOME/work` directory on the Jupyter server is shared with your sandbox, so you can conveniently copy data between the two environments.\n",
    "\n",
    "\n",
    "### Accessibility  \n",
    "\n",
    "To login to the sandbox from outside the Jupyter server, use the host IP address. You will find the public IP address of your sandbox in the `$VM_IPADDRESS` environment variable. Valid ssh keys are available in the `~/.ssh` director of your Jupyter server. Alternatively, you can append your own public key to the `$HOME/.ssh/authorized_keys` file.  \n",
    "\n",
    "```\n",
    "ssh -i /path/to/private/key.pem -p 10022 jovyan@$VM_IPADDRESS\n",
    "```  \n",
    "\n",
    "### Persistence\n",
    "\n",
    "Your VM will remain available for a day or so following the tutorial. During that time, your data will remain available.  After that, the VM an any data saved with it will be destroyed. If you need to persist your data, it is recommended that you move it to another host, or [create your own account](https://public.agaveapi.co/create_account) in the Agave public tenant and save your data in the free cloud storage available there by default.\n"
   ]
  },
  {
   "cell_type": "markdown",
   "metadata": {},
   "source": [
    "<hr>"
   ]
  },
  {
   "cell_type": "markdown",
   "metadata": {},
   "source": [
    "# Logging In\n",
    "\n",
    "We have already configured resources for you to use in this tutorial. \n",
    "\n",
    "### Virtual Machine\n",
    "\n",
    "Each of you have a dedicated VM provided by the [Jetstream Cloud](https://jetstream-cloud.org/). You will use this VM for the duration of the tutorial. \n",
    "\n",
    "### Training Account\n",
    "\n",
    "A training account on the Agave Platform's public tenant has also been allocated to you.\n",
    "\n",
    "\n",
    "### Login\n",
    "\n",
    "Your Jupyter server is available at `<username>.sc18.training.agaveplatform.org`. \n",
    "\n",
    "Usernames will be `training[001-100]`. We will count off together to assign accounts to everyone in attendance. Your instructors will provide you with your login password during the training. \n",
    "\n",
    "When you first login, your server will contain three items:  \n",
    "\n",
    "* `src` - folder containing source code for each Agave SDK and the CLI. \n",
    "* `examples` - folder containing additional guides and information on topics related to the training.\n",
    "* `INSTALL.ipynb` - Notebook to fetch all the tutorial notebooks from Github and add them to your workspace.\n",
    "\n",
    "Open the [INSTALL.ipynb](INSTALL.ipynb) notebook by clicking on the notebook name. Once the notebook opens in a new tab, click on the \"Cell\" menu item, then click on \"Run All\" from the dropdown menu. This will fetch all the tutorial notebooks from Github and add them to your workspace.\n",
    "\n",
    "Once complete, open the [Config](Config.ipynb) notebook to being the meat of our tutorial."
   ]
  },
  {
   "cell_type": "markdown",
   "metadata": {
    "collapsed": true
   },
   "source": [
    "<hr>"
   ]
  },
  {
   "cell_type": "markdown",
   "metadata": {},
   "source": [
    "# Following along at home\n",
    "\n",
    "If you are following along with this tutorial at home, you can recreate the tutorial Jupyter server and sandbox environments by running the containers on your own server using the [docker-compose.yml](Docker Compose) file in the training repository."
   ]
  },
  {
   "cell_type": "markdown",
   "metadata": {},
   "source": [
    "Before running the Docker Compose file, you need to first set the environment variables `AGAVE_USERNAME`, `AGAVE_PASSWORD`, and `NGROK_TOKEN`. The first two should be your agave username and password as obtained from [the Agave registration page](https://public.agaveapi.co/create_account). The ngrok token should be obtained from [ngrok](https://ngrok.com)\n",
    "\n",
    "Ngrok will provide tunnelling for you so that Agave can ssh into your laptop or desktop machine. It will do this by setting the `VM_IPADDRESS`, `VM_HOSTNAME` and `VM_SSH_PORT` for you.\n",
    "\n",
    "Once you have these things setup, you should be able to run the following command from within the repository directory to start your local environment:  \n",
    "\n",
    "```bash  \n",
    "export AGAVE_USERNAME=<your Agave username>\n",
    "export AGAVE_PASSWORD=<your Agave password>\n",
    "export NGROK_TOKEN=<your ngrok token>\n",
    "\n",
    "git clone https://github.com/agavetraining/sc18.git agave-training\n",
    "cd agave-training\n",
    "docker-compose up -d  \n",
    "``` \n",
    "\n",
    "You should then be able to connect to the jupyter server on port 8888 of your Docker host. If you are running Docker for Mac, Docker for Windows, or Docker CE on Linux, the address should be: (http://localhost:8888).\n",
    "\n"
   ]
  }
 ],
 "metadata": {
  "kernelspec": {
   "display_name": "Python 3",
   "language": "python",
   "name": "python3"
  },
  "language_info": {
   "codemirror_mode": {
    "name": "ipython",
    "version": 3
   },
   "file_extension": ".py",
   "mimetype": "text/x-python",
   "name": "python",
   "nbconvert_exporter": "python",
   "pygments_lexer": "ipython3",
   "version": "3.6.2"
  }
 },
 "nbformat": 4,
 "nbformat_minor": 2
}
