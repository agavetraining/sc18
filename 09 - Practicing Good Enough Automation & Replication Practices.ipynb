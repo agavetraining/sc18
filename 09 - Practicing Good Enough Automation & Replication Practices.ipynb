{
 "cells": [
  {
   "cell_type": "markdown",
   "metadata": {},
   "source": [
    "# Practicing Good Enough Automation & Replication Practices\n",
    "\n",
    "Building on our [Automation and Benchmarking](08%20-%20Automation%20and%20Benchmarking.ipynb) notebook, we will introduce some best practices to help us improve the reliability, scalability, performance, and visibility of our digital research and development cycle. \n",
    "\n"
   ]
  },
  {
   "cell_type": "markdown",
   "metadata": {},
   "source": [
    "### Software\n",
    "\n",
    "\n",
    "> Back up (almost) everything created by a human being as soon as it is created   \n",
    "\n",
    "```bash\n",
    "notifications-addupdate -U \"https://public.\n",
    "```\n",
    "\n",
    "> Store each project in a folder that is mirrored off the researcher's working machine     \n",
    "\n",
    "\n"
   ]
  },
  {
   "cell_type": "markdown",
   "metadata": {},
   "source": [
    "### Manual Versioning  \n",
    "\n",
    "\n",
    "#### Add a file called `CHANGELOG.txt` to the project's `docs` subfolder\n",
    "\n",
    "\n",
    "#### Copy the entire project whenever a significant change has been made      \n",
    "\n"
   ]
  },
  {
   "cell_type": "markdown",
   "metadata": {},
   "source": [
    "### Version Control Systems  \n",
    "\n",
    "\n",
    "#### Use a version control system\n",
    "\n",
    "\n",
    "#### What not to put under version control     \n",
    "\n"
   ]
  },
  {
   "cell_type": "markdown",
   "metadata": {},
   "source": [
    "### What We Left Out  \n",
    "\n",
    "\n",
    "#### Build Tools\n",
    "\n",
    "\n",
    "#### Unit Tests  \n",
    "\n",
    "\n",
    "#### Continuous Integration  \n",
    "\n",
    "\n",
    "#### Unit Tests  \n",
    "\n",
    "\n",
    "#### Profiling and Performance Tuning  \n",
    "\n",
    "\n",
    "#### Documentation  \n",
    "\n"
   ]
  },
  {
   "cell_type": "code",
   "execution_count": null,
   "metadata": {
    "collapsed": true
   },
   "outputs": [],
   "source": []
  }
 ],
 "metadata": {
  "kernelspec": {
   "display_name": "Python 3",
   "language": "python",
   "name": "python3"
  },
  "language_info": {
   "codemirror_mode": {
    "name": "ipython",
    "version": 3
   },
   "file_extension": ".py",
   "mimetype": "text/x-python",
   "name": "python",
   "nbconvert_exporter": "python",
   "pygments_lexer": "ipython3",
   "version": "3.6.2"
  }
 },
 "nbformat": 4,
 "nbformat_minor": 1
}
