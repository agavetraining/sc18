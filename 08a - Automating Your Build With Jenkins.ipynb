{
 "cells": [
  {
   "cell_type": "code",
   "execution_count": 15,
   "metadata": {},
   "outputs": [
    {
     "name": "stdout",
     "output_type": "stream",
     "text": [
      "/home/jovyan/agave/funwave-tvd-jenkins-pipeline\n",
      "Requirement already up-to-date: setvar in /opt/conda/lib/python3.6/site-packages\n",
      "\u001b[33mYou are using pip version 9.0.1, however version 10.0.1 is available.\n",
      "You should consider upgrading via the 'pip install --upgrade pip' command.\u001b[0m\n",
      "\u001b[1;0mToken for agave.prod:sampedro successfully refreshed and cached for 14400 seconds\n",
      "2b9ccbe03b9cc6443e1e5485be73391c\u001b[0m\n"
     ]
    }
   ],
   "source": [
    "!mkdir -p ~/agave/funwave-tvd-jenkins-pipeline\n",
    "\n",
    "%cd ~/agave/funwave-tvd-jenkins-pipeline\n",
    "\n",
    "!pip3 install --upgrade setvar\n",
    "\n",
    "import re\n",
    "import os\n",
    "import sys\n",
    "from setvar import *\n",
    "\n",
    "!auth-tokens-refresh"
   ]
  },
  {
   "cell_type": "markdown",
   "metadata": {},
   "source": [
    "# Everything as Code\n",
    "* Every piece of config, infrastructure, and software should be stored in VCS\n",
    "* Single source of truth\n",
    "* Reproducibility, versioning, change management\n",
    "* Avoid config drift\n",
    "* Everything is managed with the same practice and rigor as application code\n",
    "\n",
    "## Managing third-party code\n",
    "* Industry uses mono repos, which works well. But what if you don't control 100% of your code?\n",
    "* Open science is built on open-source software\n",
    "  * This means a lot of third-party dependencies that you don't have direct control of.\n",
    "  * You can't fork everything, as it becomes a maintenance hassle and makes it difficult to contribute back upstream.\n",
    "* **Solution:** Submodules, explicit version requirements, meaningful tagging schemes, and bringing it all together in a single application repo."
   ]
  },
  {
   "cell_type": "markdown",
   "metadata": {},
   "source": [
    "\n",
    "## Commit Our App Configuration\n",
    "* From here on out, all changes will be made directly in the Funwave repo.\n",
    "* Put our build app in a place that will be accessible alongside the code\n",
    "* Build process and build app can now be managed alongside code, and treated as an aspect of development."
   ]
  },
  {
   "cell_type": "code",
   "execution_count": 12,
   "metadata": {},
   "outputs": [
    {
     "name": "stdout",
     "output_type": "stream",
     "text": [
      "Warning: Permanently added 'sandbox,172.18.0.4' (ECDSA) to the list of known hosts.\n",
      "Switched to a new branch 'dev'\n",
      "M\tsrc/Makefile\n"
     ]
    }
   ],
   "source": [
    "!ssh sandbox \"cd ~/FUNWAVE-TVD && git checkout -b dev\""
   ]
  },
  {
   "cell_type": "markdown",
   "metadata": {},
   "source": [
    "## Branching, Versioning, Tagging Strategies\n",
    "\n",
    "### GitFlow\n",
    "* [GitFlow](https://datasift.github.io/gitflow/IntroducingGitFlow.html), a successful git branching workflow for teams of any size.\n",
    "\n",
    "![The GitFlow Strategy](https://datasift.github.io/gitflow/GitFlowHotfixBranch.png)"
   ]
  },
  {
   "cell_type": "markdown",
   "metadata": {},
   "source": [
    "### Semantic Versioning\n",
    "* Components of a semantic version\n",
    "* Why use a semantic versioning scheme?\n",
    "  * Sets expectations\n",
    "  * Communicates changes\n",
    "  * Meaningful version flexibility for consumer"
   ]
  },
  {
   "cell_type": "code",
   "execution_count": 17,
   "metadata": {},
   "outputs": [
    {
     "name": "stdout",
     "output_type": "stream",
     "text": [
      "Writing file `version.txt'\n",
      "\u001b[1;31mLocal file  does not exist\u001b[0m\n",
      "\n",
      "Warning: Permanently added 'sandbox,172.18.0.4' (ECDSA) to the list of known hosts.\n",
      "fatal: pathspec 'version.txt' did not match any files\n"
     ]
    }
   ],
   "source": [
    "writefile(\"version.txt\",\"\"\"3\n",
    "2\n",
    "0\n",
    "dev\"\"\")\n",
    "!files-upload -S ${AGAVE_STORAGE_SYSTEM_ID} -F version.txt /home/jovyan/FUNWAVE-TVD/version.txt\n",
    "!ssh sandbox \"cd ~/FUNWAVE-TVD && git add version.txt && git commit -m 'Adding version tracker.' && git checkout -b build-automation\""
   ]
  },
  {
   "cell_type": "markdown",
   "metadata": {},
   "source": [
    "# Improving Our App for Automation\n",
    "* Restructure Dockerfile\n",
    "  * Explicit commit requirements for FunWave, so that a single version of our Agave app will only refer to a single version of the code.\n",
    "  * Copy repo into your Dockerfile, don't clone. This ensures that the Dockerfile cannot drift from the code version it is intended to match, and the two can reflect one another in git history."
   ]
  },
  {
   "cell_type": "code",
   "execution_count": null,
   "metadata": {},
   "outputs": [],
   "source": [
    "writefile(\"Dockerfile\",\"\"\"\n",
    "FROM stevenrbrandt/science-base\n",
    "MAINTAINER Steven R. Brandt <sbrandt@cct.lsu.edu>\n",
    "\n",
    "ARG BUILD_DATE\n",
    "ARG VERSION\n",
    "\n",
    "LABEL org.agaveplatform.ax.architecture=\"x86_64\"                                \\\n",
    "      org.agaveplatform.ax.build-date=\"\\$BUILD_DATE\"                             \\\n",
    "      org.agaveplatform.ax.version=\"\\$VERSION\"                             \\\n",
    "      org.agaveplatform.ax.name=\"${AGAVE_USERNAME}/funwave-tvd\"    \\\n",
    "      org.agaveplatform.ax.summary=\"Funwave-TVD is a code to simulate the shallow water and Boussinesq equations written by Dr. Fengyan Shi.\" \\\n",
    "      org.agaveplatform.ax.vcs-type=\"git\"                                       \\\n",
    "      org.agaveplatform.ax.vcs-url=\"https://github.com/fengyanshi/FUNWAVE-TVD\" \\\n",
    "      org.agaveplatform.ax.license=\"BSD 3-clause\"\n",
    "      \n",
    "USER root\n",
    "RUN mkdir -p /home/install/FUNWAVE-TVD\n",
    "RUN chown jovyan /home/install/FUNWAVE-TVD\n",
    "COPY --chown jovyan ./* /home/install/FUNWAVE-TVD/\n",
    "USER jovyan\n",
    "\n",
    "WORKDIR /home/install/FUNWAVE-TVD/src\n",
    "RUN perl -p -i -e 's/FLAG_8 = -DCOUPLING/#$&/' Makefile && \\\n",
    "    make\n",
    "\n",
    "RUN mkdir -p /home/jovyan/rundir\n",
    "WORKDIR /home/jovyan/rundir\n",
    "\"\"\")\n",
    "!files-upload -S ${AGAVE_STORAGE_SYSTEM_ID} -F Dockerfile /home/jovyan/FUNWAVE-TVD/Dockerfile\n",
    "!ssh sandbox \"cd ~/FUNWAVE-TVD && git add Dockerfile\""
   ]
  },
  {
   "cell_type": "code",
   "execution_count": null,
   "metadata": {},
   "outputs": [],
   "source": [
    "writefile(\"funwave-build-wrapper.txt\",\"\"\"\n",
    "\n",
    "VERSION=$(cat version.txt | paste -sd \".\" -)\n",
    "\n",
    "sudo docker build \\\n",
    "    --build-arg \"BUILD_DATE=\\${AGAVE_JOB_SUBMIT_TIME}\" \\\n",
    "    --build-arg \"VERSION=\\${VERSION}\" \\\n",
    "    --rm -t funwave-tvd:\\${VERSION} .\n",
    "\n",
    "docker inspect funwave-tvd:\\${VERSION}\n",
    "\n",
    "\"\"\")\n",
    "!files-upload -S ${AGAVE_STORAGE_SYSTEM_ID} -F funwave-build-wrapper.txt /home/jovyan/FUNWAVE-TVD/funwave-build-wrapper.txt\n",
    "!ssh sandbox \"cd ~/FUNWAVE-TVD && git add funwave-build-wrapper.txt\""
   ]
  },
  {
   "cell_type": "code",
   "execution_count": null,
   "metadata": {},
   "outputs": [],
   "source": [
    "writefile(\"funwave-build-app.txt\",\"\"\"\n",
    "{  \n",
    "   \"name\":\"${AGAVE_USERNAME}-${MACHINE_NAME}-funwave-dbuild\",\n",
    "   \"version\":\"1.0\",\n",
    "   \"label\":\"Builds the funwave docker image\",\n",
    "   \"shortDescription\":\"Funwave docker build\",\n",
    "   \"longDescription\":\"\",\n",
    "   \"deploymentSystem\":\"${AGAVE_STORAGE_SYSTEM_ID}\",\n",
    "   \"deploymentPath\":\"automation/funwave-tvd-docker-automation\",\n",
    "   \"templatePath\":\"funwave-build-wrapper.txt\",\n",
    "   \"testPath\":\"test.txt\",\n",
    "   \"executionSystem\":\"${AGAVE_EXECUTION_SYSTEM_ID}\",\n",
    "   \"executionType\":\"CLI\",\n",
    "   \"parallelism\":\"SERIAL\",\n",
    "   \"modules\":[],\n",
    "   \"inputs\":[],\n",
    "   \"parameters\":[{\n",
    "     \"id\" : \"code_version\",\n",
    "     \"value\" : {\n",
    "       \"visible\":true,\n",
    "       \"required\":true,\n",
    "       \"type\":\"string\",\n",
    "       \"order\":0,\n",
    "       \"enquote\":false,\n",
    "       \"default\":\"latest\"\n",
    "     },\n",
    "     \"details\":{\n",
    "         \"label\": \"Version of the code\",\n",
    "         \"description\": \"If true, output will be packed and compressed\",\n",
    "         \"argument\": null,\n",
    "         \"showArgument\": false,\n",
    "         \"repeatArgument\": false\n",
    "     },\n",
    "     \"semantics\":{\n",
    "         \"argument\": null,\n",
    "         \"showArgument\": false,\n",
    "         \"repeatArgument\": false\n",
    "     }\n",
    "   }],\n",
    "   \"outputs\":[]\n",
    "}\n",
    "\"\"\")\n",
    "!files-upload -S ${AGAVE_STORAGE_SYSTEM_ID} -F funwave-build-wrapper.txt /home/jovyan/FUNWAVE-TVD/funwave-build-wrapper.txt\n",
    "!ssh sandbox \"cd ~/FUNWAVE-TVD && git add funwave-build-wrapper.txt\""
   ]
  },
  {
   "cell_type": "markdown",
   "metadata": {},
   "source": [
    "# Build Automatically On Each Commit\n",
    "* Intro to Jenkins\n",
    "  * What is it?\n",
    "  * What is its primary use case?\n",
    "  * Deciding if it the right solution for you. What are alternatives?"
   ]
  },
  {
   "cell_type": "markdown",
   "metadata": {},
   "source": [
    "## Components of a Build Pipeline\n",
    "* Build environment (build app you just made)\n",
    "* Jenkinsfile, automating your build\n",
    "* Triggers, starting your build\n",
    "* Tests, validating your build\n",
    "* Secrets, and site-specific configuration"
   ]
  },
  {
   "cell_type": "markdown",
   "metadata": {},
   "source": [
    "## Modularize Our Config\n",
    "* Right now the build app is set up to configure from environment variables not accessible to the Jenkins host\n",
    "* We need to make this environment accessible to the build pipline, while also making it easy to understand and maintain\n",
    "\n",
    "### Strategies for Maintaining Credentials and Config\n",
    "* Travis CI encrypted values\n",
    "* Jenkins Freestyle job, injecting config as environment variables known only to build host\n",
    "* Consider your audience. How is your code meant to be used?\n",
    "  * Is it OSS?\n",
    "  * Do you want to encourage reuse?\n",
    "  * Will it be stored publicly or privately?\n",
    "  * Where will it be built?\n",
    "* **Admin Consideration:** Vault, secrets stores\n",
    "* For simplicity, we will simply include config in the Groovy script."
   ]
  },
  {
   "cell_type": "markdown",
   "metadata": {},
   "source": [
    "## Create Our Jenkins Pipeline\n",
    "* What is a Jenkins pipeline?\n",
    "* Purpose of a Jenkinsfile\n",
    "* How is it read by Jenkins?\n",
    "* Freestyle, Pipeline, Blue Ocean\n",
    "* Navigate to https://<username\\>.sc18.training.agaveplatform.org/jenkins/job to view the associated pipeline\n",
    "* What are the different components of this job?\n",
    "  * SCM\n",
    "  * Jenkinsfile location\n",
    "  * Triggers\n",
    "  * Branches, touch on concurrent builds\n",
    "  * Notification"
   ]
  },
  {
   "cell_type": "markdown",
   "metadata": {},
   "source": [
    "### Creating A Jenkins Pipeline\n"
   ]
  },
  {
   "cell_type": "code",
   "execution_count": null,
   "metadata": {},
   "outputs": [],
   "source": [
    "writefile(\".jenkinsfile\",\"\"\"\n",
    "\"\"\")\n",
    "!files-upload -S ${AGAVE_STORAGE_SYSTEM_ID} -F .jenkinsfile /home/jovyan/FUNWAVE-TVD/.jenkinsfile\n",
    "!ssh sandbox \"cd ~/FUNWAVE-TVD && git add .jenkinsfile\""
   ]
  },
  {
   "cell_type": "markdown",
   "metadata": {},
   "source": [
    "### Triggering our Jenkins Pipeline From a Commit\n",
    "* Polling, webhooks, git hooks\n",
    "* We'll use a post-commit git hook for simplicity.\n",
    "* What are git hooks?"
   ]
  },
  {
   "cell_type": "code",
   "execution_count": null,
   "metadata": {},
   "outputs": [],
   "source": [
    "# Post-commit hook to trigger Jenkins job via curl\n",
    "writefile(\"post-commit\",\"\"\"#!/bin/bash\n",
    "JENKINS_JOB_URL=\"https://<username>.sc18.training.agaveplatform.org/jenkins/job\"\n",
    "JEKNINS_JOB_NAME=\"funwave-build-pipeline\"\n",
    "BUILD_TOKEN=\"sc18-training-job\"\n",
    "curl -sk \"$JENKINS_JOB_URL/$JEKNINS_JOB_NAME/build?token=$BUILD_TOKEN\"\n",
    "\"\"\")\n",
    "!files-mkdir -S ${AGAVE_STORAGE_SYSTEM_ID} -N /home/jovyan/FUNWAVE-TVD/.git/hooks\n",
    "!files-upload -S ${AGAVE_STORAGE_SYSTEM_ID} -F post-commit /home/jovyan/FUNWAVE-TVD/.git/hooks\n",
    "# Set the hook to executable so that it won't be ignored.\n",
    "!ssh sandbox \"cd ~/FUNWAVE-TVD/.git/hooks && git add .git/hooks/post-commit && git update-index --chmod=+x post-commit\""
   ]
  },
  {
   "cell_type": "markdown",
   "metadata": {},
   "source": [
    "# Commit Your Code, Start Your Pipeline\n",
    "* We'll commit our changes and merge our feature branch back into `dev`\n",
    "* This will prompt the pipeline to start\n",
    "* Watch the pipeline run: https://<username\\>.sc18.training.agaveplatform.org/jenkins/job\n",
    "* In practice, merge requests should prompt two builds:\n",
    "  * One to validate the feature branch itself\n",
    "  * Another to validate that the build still passes after the merge\n",
    "* In the interest of time, we will only validate individual commits to the `dev` branch."
   ]
  },
  {
   "cell_type": "code",
   "execution_count": null,
   "metadata": {},
   "outputs": [],
   "source": [
    "!ssh sandbox \"cd ~/FUNWAVE-TVD && git commit -m 'Added jenkinsfile and post-commit hook.'\"\n",
    "!ssh sandbox \"cd ~/FUNWAVE-TVD && git checkout dev && git merge --squash build-automation\""
   ]
  },
  {
   "cell_type": "markdown",
   "metadata": {},
   "source": [
    "# Validating Your Build\n",
    "* Automation is great, but things can quickly go wrong.\n",
    "* This is why CI/CD strongly emphasizes good testing practices.\n",
    "* Testing is central to CI/CD\n",
    "  * It allows you assess viability of each commit\n",
    "  * It is the determination of whether or not code can be successfully integrated\n",
    "  * It allows for code to be automatically deployed to prod, without the direct oversight of a tightly controlled group of developers.\n",
    "* Production pipelines have multiple testing guards\n",
    "  * Types of tests: Unit, Functional, Acceptance, Benchmarks, ..."
   ]
  },
  {
   "cell_type": "markdown",
   "metadata": {},
   "source": [
    "## Adding a Benchmark\n",
    "* Let's add a simple benchmark to validate performance after each build.\n",
    "* We'll make a new feature branch for this benchmark"
   ]
  },
  {
   "cell_type": "code",
   "execution_count": null,
   "metadata": {},
   "outputs": [],
   "source": [
    "!ssh sandbox \"cd ~/FUNWAVE-TVD && git checkout -b benchmark\""
   ]
  },
  {
   "cell_type": "markdown",
   "metadata": {},
   "source": [
    "### Update the Jenkinsfile\n",
    "* We need to add a new stage to the Jenkins pipeline to run the benchmark if the preceeding stages of the build executed successfully."
   ]
  },
  {
   "cell_type": "code",
   "execution_count": null,
   "metadata": {},
   "outputs": [],
   "source": [
    "writefile(\".jenkinsfile\",\"\"\"\n",
    "\"\"\")\n",
    "!files-upload -S ${AGAVE_STORAGE_SYSTEM_ID} -F .jenkinsfile /home/jovyan/FUNWAVE-TVD/.jenkinsfile"
   ]
  },
  {
   "cell_type": "markdown",
   "metadata": {},
   "source": [
    "### Merge Your Benchmark\n",
    "* Let's merge our benchmark back into the `dev` branch and watch it run!"
   ]
  },
  {
   "cell_type": "code",
   "execution_count": null,
   "metadata": {},
   "outputs": [],
   "source": [
    "!ssh sandbox \"cd ~/FUNWAVE-TVD && git commit -m 'Added benchmark to pipeline.'\"\n",
    "!ssh sandbox \"cd ~/FUNWAVE-TVD && git checkout dev && git merge --squash benchmark\""
   ]
  },
  {
   "cell_type": "markdown",
   "metadata": {},
   "source": [
    "# Continuous Delivery and Deployment\n",
    "* Once your build pipeline has run, and your changeset has passed all testing guards, what do you do?\n",
    "* Continuous Delivery:\n",
    "  * Package and publish your code\n",
    "  * Singularity Registry, DockerHub, etc..\n",
    "* Continuous Deployment:\n",
    "  * Package your code and deploy it to pre-prod or prod servers."
   ]
  },
  {
   "cell_type": "code",
   "execution_count": null,
   "metadata": {},
   "outputs": [],
   "source": []
  }
 ],
 "metadata": {
  "kernelspec": {
   "display_name": "Python 3",
   "language": "python",
   "name": "python3"
  },
  "language_info": {
   "codemirror_mode": {
    "name": "ipython",
    "version": 3
   },
   "file_extension": ".py",
   "mimetype": "text/x-python",
   "name": "python",
   "nbconvert_exporter": "python",
   "pygments_lexer": "ipython3",
   "version": "3.6.2"
  }
 },
 "nbformat": 4,
 "nbformat_minor": 2
}
