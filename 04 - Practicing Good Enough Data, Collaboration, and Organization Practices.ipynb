{
 "cells": [
  {
   "cell_type": "markdown",
   "metadata": {},
   "source": [
    "# Good Enough Practices for Scientific Computing\n",
    "\n",
    "Building on our [Code, Build, and Test.ipynb](03%20-%20Code%2C%20Build%2C%20and%20Test.ipynb) notebook, we will introduce some best practices to help us improve our existing workflow and build towards a reproducible developement cycle. "
   ]
  },
  {
   "cell_type": "markdown",
   "metadata": {},
   "source": [
    "## Data Management\n",
    "\n",
    "1. Save the raw data and ensure that raw data is backed up in more than one location.\n",
    "\n",
    "2. Create the data you wish to see in the world  \n",
    "\n",
    "3. Create analysis-friendly data  \n",
    "\n",
    "4. Record all the steps used to process data  \n",
    "\n",
    "5. Submit data to a reputable DOI-issuing repository so that others can access and cite it\n"
   ]
  },
  {
   "cell_type": "markdown",
   "metadata": {},
   "source": [
    "## Collaboration  \n",
    "\n",
    "### 1. Create an overview of your project\n",
    "\n",
    "The README is a great place for a general project overview as it is the first thing people see when they discover your project repository. It also provides a consistent place to find a quick intro the software that is independent of how any other documentation may be generated, rendered, or discovered. We will expand the existing README file with some basic information about the project.  \n",
    "\n",
    "> README files come in all shapes and sizes. There isn't one standard, so find one that works for you and be consistent in using it across projects. Check out this [awesome readme repository](https://github.com/matiassingers/awesome-readme) for examples of good readme files.\n",
    "\n",
    "### 2. Create a shared \"to-do\" list   \n",
    "\n",
    "Github Projects, Atlassian Bitbucket and/or Jira, and Gitlab all provide solutions into this problem. In leu of those, it is just as effective to add a `TODO.md` file to your project. Using markdown checkboxes, lists, an headings, you can kedp track of the work that is done and yet needs to be done.\n",
    "\n",
    "\n",
    "### 3. Decide on communication strategies  \n",
    "\n",
    "\n",
    "\n",
    "### 4. Make the license explicit   \n",
    "\n",
    "The current FUNWAVE-TVD license is included in the header of one, but not all of the source files. We can improve this by updating the source to include the same license header by default.\n",
    "\n",
    "We can improve the clarity of our license even more by including a `LICENSE` file in the project root. This allows anyone interested in using the software to quickly find the license without digging though code. Funwavee uses the \"Simplified BSD\" license, also known as the \"BSD 2-Clause\" license. If you are having trouble figuring out which license to use, a good place to start is [https://opensource.org/licenses/BSD-2-Clause](). \n",
    "\n",
    "> Make sure you check with your organization's office of research before making a final decision as they may have blanket policy in place for software licensing.  \n",
    "\n",
    "### 5. Make the project citable  "
   ]
  },
  {
   "cell_type": "markdown",
   "metadata": {},
   "source": [
    "## Project Organization  \n",
    "\n",
    "1. Put each project in its own directory, which is named after the project  \n",
    "2. Put text documents associated with the project in the doc directory    \n",
    "3. Put raw data and metadata in a data directory, and files generated during cleanup and analysis in a results directory\n",
    "4. Put project source code in the src directory  \n",
    "5. Put compiled programs in the bin directory  \n",
    "6. Name all files to reflect their content or function  "
   ]
  },
  {
   "cell_type": "code",
   "execution_count": null,
   "metadata": {
    "collapsed": true
   },
   "outputs": [],
   "source": []
  }
 ],
 "metadata": {
  "kernelspec": {
   "display_name": "Python 3",
   "language": "python",
   "name": "python3"
  },
  "language_info": {
   "codemirror_mode": {
    "name": "ipython",
    "version": 3
   },
   "file_extension": ".py",
   "mimetype": "text/x-python",
   "name": "python",
   "nbconvert_exporter": "python",
   "pygments_lexer": "ipython3",
   "version": "3.6.2"
  }
 },
 "nbformat": 4,
 "nbformat_minor": 1
}
