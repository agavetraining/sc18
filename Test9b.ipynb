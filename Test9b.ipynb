{
 "cells": [
  {
   "cell_type": "code",
   "execution_count": 98,
   "metadata": {},
   "outputs": [
    {
     "name": "stdout",
     "output_type": "stream",
     "text": [
      "/home/jovyan/agave/aaron\n",
      "Requirement already up-to-date: setvar in /opt/conda/lib/python3.6/site-packages\n",
      "\u001b[33mYou are using pip version 9.0.1, however version 18.1 is available.\n",
      "You should consider upgrading via the 'pip install --upgrade pip' command.\u001b[0m\n",
      "\u001b[1;0mToken for sandbox:AaronHolt successfully refreshed and cached for 14400 seconds\n",
      "c32c3133b4f486ad31714231026f94\u001b[0m\n"
     ]
    }
   ],
   "source": [
    "!mkdir -p ~/agave/aaron\n",
    "\n",
    "%cd ~/agave/aaron\n",
    "\n",
    "!pip3 install --upgrade setvar\n",
    "\n",
    "import re\n",
    "import os\n",
    "import sys\n",
    "from setvar import *\n",
    "\n",
    "!auth-tokens-refresh"
   ]
  },
  {
   "cell_type": "code",
   "execution_count": 99,
   "metadata": {},
   "outputs": [],
   "source": [
    "#Empty Deploy Path\n",
    "os.environ[\"AGAVE_STORAGE_SYSTEM_ID\"] = \"sandbox-storage-AaronHolt\"\n",
    "#!files-mkdir -S ${AGAVE_STORAGE_SYSTEM_ID} -N /home/jovyan/funwave_deploy"
   ]
  },
  {
   "cell_type": "code",
   "execution_count": 100,
   "metadata": {},
   "outputs": [
    {
     "name": "stdout",
     "output_type": "stream",
     "text": [
      "\u001b[1;0mSuccessfully created folder /home/jovyan/FUNWAVE-TVD/build\u001b[0m\r\n"
     ]
    }
   ],
   "source": [
    "!files-mkdir -S ${AGAVE_STORAGE_SYSTEM_ID} -N /home/jovyan/FUNWAVE-TVD/build"
   ]
  },
  {
   "cell_type": "code",
   "execution_count": 101,
   "metadata": {},
   "outputs": [
    {
     "name": "stdout",
     "output_type": "stream",
     "text": [
      "Warning: Permanently added 'sandbox,172.21.0.4' (ECDSA) to the list of known hosts.\n",
      "fatal: A branch named 'dev' already exists.\n",
      "Writing file `version.txt'\n",
      "Uploading version.txt...\n",
      "######################################################################## 100.0%\n"
     ]
    }
   ],
   "source": [
    "!ssh sandbox \"cd ~/FUNWAVE-TVD && git checkout -b dev\"\n",
    "writefile(\"version.txt\",\"\"\"3\n",
    "2\n",
    "0\n",
    "dev\"\"\")\n",
    "#!files-upload -S ${AGAVE_STORAGE_SYSTEM_ID} -F version.txt /home/jovyan/funwave_deploy\n",
    "!files-upload -S ${AGAVE_STORAGE_SYSTEM_ID} -F version.txt /home/jovyan/FUNWAVE-TVD/build"
   ]
  },
  {
   "cell_type": "markdown",
   "metadata": {},
   "source": [
    "Build wrapper now clones FWV too"
   ]
  },
  {
   "cell_type": "code",
   "execution_count": 102,
   "metadata": {},
   "outputs": [
    {
     "name": "stdout",
     "output_type": "stream",
     "text": [
      "Writing file `funwave-build-wrapper.txt'\n",
      "Uploading funwave-build-wrapper.txt...\n",
      "######################################################################## 100.0%\n"
     ]
    }
   ],
   "source": [
    "writefile(\"funwave-build-wrapper.txt\",\"\"\"\n",
    "\n",
    "VERSION=$(cat version.txt | paste -sd \".\" -)\n",
    "\n",
    "git clone /home/jovyan/FUNWAVE-TVD\n",
    "cd FUNWAVE-TVD\n",
    "git checkout -b dev\n",
    "\n",
    "sudo docker build \\\n",
    "    --build-arg \"BUILD_DATE=\\${AGAVE_JOB_SUBMIT_TIME}\" \\\n",
    "    --build-arg \"VERSION=\\${VERSION}\" \\\n",
    "    --rm -t funwave-tvd:\\${VERSION} .\n",
    "\n",
    "docker inspect funwave-tvd:\\${VERSION}\n",
    "\n",
    "\"\"\")\n",
    "#!files-upload -S ${AGAVE_STORAGE_SYSTEM_ID} -F funwave-build-wrapper.txt /home/jovyan/funwave_deploy\n",
    "!files-upload -S ${AGAVE_STORAGE_SYSTEM_ID} -F funwave-build-wrapper.txt /home/jovyan/FUNWAVE-TVD/build"
   ]
  },
  {
   "cell_type": "code",
   "execution_count": 103,
   "metadata": {},
   "outputs": [
    {
     "name": "stdout",
     "output_type": "stream",
     "text": [
      "Writing file `Dockerfile'\n",
      "Uploading Dockerfile...\n",
      "######################################################################## 100.0%\n"
     ]
    }
   ],
   "source": [
    "writefile(\"Dockerfile\",\"\"\"\n",
    "FROM stevenrbrandt/science-base\n",
    "MAINTAINER Steven R. Brandt <sbrandt@cct.lsu.edu>\n",
    "\n",
    "ARG BUILD_DATE\n",
    "ARG VERSION\n",
    "\n",
    "\n",
    "LABEL org.agaveplatform.ax.architecture=\"x86_64\"                                \\\n",
    "      org.agaveplatform.ax.build-date=\"\\$BUILD_DATE\"                             \\\n",
    "      org.agaveplatform.ax.version=\"\\$VERSION\"                             \\\n",
    "      org.agaveplatform.ax.name=\"${AGAVE_USERNAME}/funwave-tvd\"    \\\n",
    "      org.agaveplatform.ax.summary=\"Funwave-TVD is a code to simulate the shallow water and Boussinesq equations written by Dr. Fengyan Shi.\" \\\n",
    "      org.agaveplatform.ax.vcs-type=\"git\"                                       \\\n",
    "      org.agaveplatform.ax.vcs-url=\"https://github.com/fengyanshi/FUNWAVE-TVD\" \\\n",
    "      org.agaveplatform.ax.license=\"BSD 3-clause\"\n",
    "      \n",
    "USER root\n",
    "RUN mkdir -p /home/install/FUNWAVE-TVD\n",
    "RUN chown jovyan /home/install/FUNWAVE-TVD\n",
    "RUN pwd\n",
    "RUN ls\n",
    "COPY --chown=jovyan:jovyan ./ /home/install/FUNWAVE-TVD\n",
    "\n",
    "USER jovyan\n",
    "\n",
    "WORKDIR /home/install/FUNWAVE-TVD/src\n",
    "RUN perl -p -i -e 's/FLAG_8 = -DCOUPLING/#$&/' Makefile && \\\n",
    "    make\n",
    "\n",
    "RUN mkdir -p /home/jovyan/rundir\n",
    "WORKDIR /home/jovyan/rundir\n",
    "\"\"\")\n",
    "!files-upload -S ${AGAVE_STORAGE_SYSTEM_ID} -F Dockerfile /home/jovyan/FUNWAVE-TVD"
   ]
  },
  {
   "cell_type": "code",
   "execution_count": 104,
   "metadata": {},
   "outputs": [
    {
     "name": "stdout",
     "output_type": "stream",
     "text": [
      "Writing file `funwave-build-app.txt'\n",
      "Uploading funwave-build-app.txt...\n",
      "######################################################################## 100.0%\n"
     ]
    }
   ],
   "source": [
    "writefile(\"funwave-build-app.txt\",\"\"\"\n",
    "{  \n",
    "   \"name\":\"${AGAVE_USERNAME}-${MACHINE_NAME}-funwave-dbuild\",\n",
    "   \"version\":\"1.0\",\n",
    "   \"label\":\"Builds the funwave docker image\",\n",
    "   \"shortDescription\":\"Funwave docker build\",\n",
    "   \"longDescription\":\"\",\n",
    "   \"deploymentSystem\":\"${AGAVE_STORAGE_SYSTEM_ID}\",\n",
    "   \"deploymentPath\":\"FUNWAVE-TVD/build/\",\n",
    "   \"templatePath\":\"funwave-build-wrapper.txt\",\n",
    "   \"testPath\":\"version.txt\",\n",
    "   \"executionSystem\":\"${AGAVE_EXECUTION_SYSTEM_ID}\",\n",
    "   \"executionType\":\"CLI\",\n",
    "   \"parallelism\":\"SERIAL\",\n",
    "   \"modules\":[],\n",
    "   \"inputs\":[],\n",
    "   \"parameters\":[{\n",
    "     \"id\" : \"code_version\",\n",
    "     \"value\" : {\n",
    "       \"visible\":true,\n",
    "       \"required\":true,\n",
    "       \"type\":\"string\",\n",
    "       \"order\":0,\n",
    "       \"enquote\":false,\n",
    "       \"default\":\"latest\"\n",
    "     },\n",
    "     \"details\":{\n",
    "         \"label\": \"Version of the code\",\n",
    "         \"description\": \"If true, output will be packed and compressed\",\n",
    "         \"argument\": null,\n",
    "         \"showArgument\": false,\n",
    "         \"repeatArgument\": false\n",
    "     },\n",
    "     \"semantics\":{\n",
    "         \"argument\": null,\n",
    "         \"showArgument\": false,\n",
    "         \"repeatArgument\": false\n",
    "     }\n",
    "   }],\n",
    "   \"outputs\":[]\n",
    "}\n",
    "\"\"\")\n",
    "!files-upload -S ${AGAVE_STORAGE_SYSTEM_ID} -F funwave-build-app.txt /home/jovyan/FUNWAVE-TVD/build\n",
    "#!files-upload -S ${AGAVE_STORAGE_SYSTEM_ID} -F funwave-build-app.txt /home/jovyan/funwave_deploy"
   ]
  },
  {
   "cell_type": "code",
   "execution_count": 105,
   "metadata": {},
   "outputs": [
    {
     "name": "stdout",
     "output_type": "stream",
     "text": [
      "/home/jovyan/agave/aaron\n",
      "Dockerfile\t\tfunwave-build.out\n",
      "funwave-build-app.txt\tfunwave-build-wrapper.txt\n",
      "funwave-build.err\tjob-8913959023177699816-242ac114-0001-007\n",
      "funwave-build-job.json\tversion.txt\n"
     ]
    }
   ],
   "source": [
    "!pwd\n",
    "!ls"
   ]
  },
  {
   "cell_type": "code",
   "execution_count": 106,
   "metadata": {},
   "outputs": [
    {
     "name": "stdout",
     "output_type": "stream",
     "text": [
      "Warning: Permanently added 'sandbox,172.21.0.4' (ECDSA) to the list of known hosts.\n",
      "+ cd /home/jovyan/FUNWAVE-TVD\n",
      "+ git add build\n",
      "+ git add Dockerfile\n",
      "Warning: Permanently added 'sandbox,172.21.0.4' (ECDSA) to the list of known hosts.\n",
      "On branch dev\n",
      "nothing to commit, working directory clean\n"
     ]
    }
   ],
   "source": [
    "!ssh sandbox \"set -x && cd ~/FUNWAVE-TVD && git add build && git add Dockerfile\"\n",
    "!ssh sandbox \"cd ~/FUNWAVE-TVD && git commit -m 'Added Dockerfile and Agave build files.'\""
   ]
  },
  {
   "cell_type": "code",
   "execution_count": 107,
   "metadata": {},
   "outputs": [
    {
     "name": "stdout",
     "output_type": "stream",
     "text": [
      "\u001b[1;0m\u001b[1;0mSuccessfully added app AaronHolt-sandbox-funwave-dbuild-1.0\u001b[0m\u001b[0m\r\n"
     ]
    }
   ],
   "source": [
    "!apps-addupdate -F funwave-build-app.txt"
   ]
  },
  {
   "cell_type": "code",
   "execution_count": 108,
   "metadata": {},
   "outputs": [
    {
     "name": "stdout",
     "output_type": "stream",
     "text": [
      "WEBHOOK_URL=https://requestbin.agaveapi.co/1jp98cj1\n"
     ]
    }
   ],
   "source": [
    "requestbin_url = !requestbin-create\n",
    "os.environ['REQUESTBIN_URL'] = requestbin_url[0]\n",
    "setvar(\"\"\"\n",
    "WEBHOOK_URL=${REQUESTBIN_URL}\n",
    "\"\"\")"
   ]
  },
  {
   "cell_type": "code",
   "execution_count": 109,
   "metadata": {},
   "outputs": [
    {
     "name": "stdout",
     "output_type": "stream",
     "text": [
      "/home/jovyan/agave/aaron\n",
      "Writing file `funwave-build-job.json'\n"
     ]
    }
   ],
   "source": [
    "!pwd\n",
    "writefile(\"funwave-build-job.json\",\"\"\"\n",
    " {\n",
    "   \"name\":\"funwave-build\",\n",
    "   \"appId\": \"${AGAVE_USERNAME}-${MACHINE_NAME}-funwave-dbuild-1.0\",\n",
    "   \"maxRunTime\":\"00:10:00\",\n",
    "   \"archive\": false,\n",
    "   \"notifications\": [\n",
    "    {\n",
    "      \"url\":\"${WEBHOOK_URL}\",\n",
    "      \"event\":\"*\",\n",
    "      \"persistent\":\"true\"\n",
    "    }\n",
    "   ],\n",
    "   \"parameters\": {\n",
    "     \"code_version\":\"latest\"\n",
    "   }\n",
    " }\n",
    "\"\"\")"
   ]
  },
  {
   "cell_type": "code",
   "execution_count": 110,
   "metadata": {},
   "outputs": [
    {
     "name": "stdout",
     "output_type": "stream",
     "text": [
      "OUTPUT=Successfully submitted job 517582389412303336-242ac114-0001-007\n",
      "JOB_ID=517582389412303336-242ac114-0001-007\n"
     ]
    }
   ],
   "source": [
    "setvar(\"\"\"\n",
    "# Capture the output of the job submit command\n",
    "OUTPUT=$(jobs-submit -F funwave-build-job.json)\n",
    "# Parse out the job id from the output\n",
    "JOB_ID=$(echo $OUTPUT | cut -d' ' -f4)\n",
    "\"\"\")"
   ]
  },
  {
   "cell_type": "code",
   "execution_count": 111,
   "metadata": {},
   "outputs": [
    {
     "name": "stdout",
     "output_type": "stream",
     "text": [
      "STAT=STAGED\n",
      "STAT=SUBMITTING\n",
      "STAT=SUBMITTING\n",
      "STAT=SUBMITTING\n",
      "STAT=RUNNING\n",
      "STAT=RUNNING\n",
      "STAT=RUNNING\n",
      "STAT=RUNNING\n",
      "STAT=RUNNING\n",
      "STAT=RUNNING\n",
      "STAT=RUNNING\n",
      "STAT=FINISHED\n"
     ]
    }
   ],
   "source": [
    "from time import sleep\n",
    "for iter in range(25):\n",
    "    setvar(\"STAT=$(jobs-status $JOB_ID)\")\n",
    "    stat = os.environ[\"STAT\"]\n",
    "    sleep(5.0)\n",
    "    if stat == \"FINISHED\" or stat == \"FAILED\":\n",
    "        break"
   ]
  },
  {
   "cell_type": "code",
   "execution_count": 112,
   "metadata": {},
   "outputs": [
    {
     "name": "stdout",
     "output_type": "stream",
     "text": [
      "\u001b[1;0m.agave.archive\r\n",
      ".agave.log\r\n",
      "funwave-build-app.txt\r\n",
      "funwave-build-wrapper.txt\r\n",
      "funwave-build.err\r\n",
      "funwave-build.ipcexe\r\n",
      "funwave-build.out\r\n",
      "funwave-build.pid\r\n",
      "FUNWAVE-TVD\r\n",
      "version.txt\u001b[0m\r\n"
     ]
    }
   ],
   "source": [
    "!jobs-output-list ${JOB_ID}"
   ]
  },
  {
   "cell_type": "code",
   "execution_count": 113,
   "metadata": {},
   "outputs": [
    {
     "name": "stdout",
     "output_type": "stream",
     "text": [
      "Sending build context to Docker daemon  187.3MB\r",
      "\r",
      "\r\n",
      "Step 1/16 : FROM stevenrbrandt/science-base\r\n",
      " ---> d16f0aff4390\r\n",
      "Step 2/16 : MAINTAINER Steven R. Brandt <sbrandt@cct.lsu.edu>\r\n",
      " ---> Using cache\r\n",
      " ---> 73b8632a8acd\r\n",
      "Step 3/16 : ARG BUILD_DATE\r\n",
      " ---> Using cache\r\n",
      " ---> 5ea9d4936abd\r\n",
      "Step 4/16 : ARG VERSION\r\n",
      " ---> Using cache\r\n",
      " ---> ee968cc63967\r\n",
      "Step 5/16 : LABEL org.agaveplatform.ax.architecture=\"x86_64\"                                      org.agaveplatform.ax.build-date=\"$BUILD_DATE\"                                   org.agaveplatform.ax.version=\"$VERSION\"                                   org.agaveplatform.ax.name=\"AaronHolt/funwave-tvd\"          org.agaveplatform.ax.summary=\"Funwave-TVD is a code to simulate the shallow water and Boussinesq equations written by Dr. Fengyan Shi.\"       org.agaveplatform.ax.vcs-type=\"git\"                                             org.agaveplatform.ax.vcs-url=\"https://github.com/fengyanshi/FUNWAVE-TVD\"       org.agaveplatform.ax.license=\"BSD 3-clause\"\r\n",
      " ---> Running in 1b0d20bcdb03\r\n",
      "Removing intermediate container 1b0d20bcdb03\r\n",
      " ---> 7c8f51442054\r\n",
      "Step 6/16 : USER root\r\n",
      " ---> Running in 43fdf84c91f6\r\n",
      "Removing intermediate container 43fdf84c91f6\r\n",
      " ---> 9d299c75eaf8\r\n",
      "Step 7/16 : RUN mkdir -p /home/install/FUNWAVE-TVD\r\n",
      " ---> Running in 2e2f9719d32f\r\n",
      "Removing intermediate container 2e2f9719d32f\r\n",
      " ---> 44d681fdc78a\r\n",
      "Step 8/16 : RUN chown jovyan /home/install/FUNWAVE-TVD\r\n",
      " ---> Running in 464a9bb41bde\r\n",
      "Removing intermediate container 464a9bb41bde\r\n",
      " ---> ac33516aa5f6\r\n",
      "Step 9/16 : RUN pwd\r\n",
      " ---> Running in 70ad3b36cb7e\r\n",
      "/home/jovyan\r\n",
      "Removing intermediate container 70ad3b36cb7e\r\n",
      " ---> 7c4994b2646a\r\n",
      "Step 10/16 : RUN ls\r\n",
      " ---> Running in 36a5daacea0a\r\n",
      "Removing intermediate container 36a5daacea0a\r\n",
      " ---> fdb38c5cd166\r\n",
      "Step 11/16 : COPY --chown=jovyan:jovyan ./ /home/install/FUNWAVE-TVD\r\n",
      " ---> 3599c8d15dbc\r\n",
      "Step 12/16 : USER jovyan\r\n",
      " ---> Running in e2309bac0ddb\r\n",
      "Removing intermediate container e2309bac0ddb\r\n",
      " ---> b84400895040\r\n",
      "Step 13/16 : WORKDIR /home/install/FUNWAVE-TVD/src\r\n",
      " ---> Running in 1549a130a7f7\r\n",
      "Removing intermediate container 1549a130a7f7\r\n",
      " ---> 1fcb9567f322\r\n",
      "Step 14/16 : RUN perl -p -i -e 's/FLAG_8 = -DCOUPLING/#$&/' Makefile &&     make\r\n",
      " ---> Running in b35f2ffe3c58\r\n",
      "/usr/bin/cpp  -P -traditional  -P -traditional  -DDOUBLE_PRECISION  -DPARALLEL  -DCARTESIAN                     mod_param.F > mod_param.f90\r\n",
      "mpif90  -c     mod_param.f90\r\n",
      "/bin/rm mod_param.f90\r\n",
      "/usr/bin/cpp  -P -traditional  -P -traditional  -DDOUBLE_PRECISION  -DPARALLEL  -DCARTESIAN                     mod_global.F > mod_global.f90\r\n",
      "mpif90  -c     mod_global.f90\r\n",
      "/bin/rm mod_global.f90\r\n",
      "/usr/bin/cpp  -P -traditional  -P -traditional  -DDOUBLE_PRECISION  -DPARALLEL  -DCARTESIAN                     mod_input.F > mod_input.f90\r\n",
      "mpif90  -c     mod_input.f90\r\n",
      "/bin/rm mod_input.f90\r\n",
      "/usr/bin/cpp  -P -traditional  -P -traditional  -DDOUBLE_PRECISION  -DPARALLEL  -DCARTESIAN                     mod_vessel.F > mod_vessel.f90\r\n",
      "mpif90  -c     mod_vessel.f90\r\n",
      "/bin/rm mod_vessel.f90\r\n",
      "/usr/bin/cpp  -P -traditional  -P -traditional  -DDOUBLE_PRECISION  -DPARALLEL  -DCARTESIAN                     mod_bathy_correction.F > mod_bathy_correction.f90\r\n",
      "mpif90  -c     mod_bathy_correction.f90\r\n",
      "/bin/rm mod_bathy_correction.f90\r\n",
      "/usr/bin/cpp  -P -traditional  -P -traditional  -DDOUBLE_PRECISION  -DPARALLEL  -DCARTESIAN                     mod_meteo.F > mod_meteo.f90\r\n",
      "mpif90  -c     mod_meteo.f90\r\n",
      "/bin/rm mod_meteo.f90\r\n",
      "/usr/bin/cpp  -P -traditional  -P -traditional  -DDOUBLE_PRECISION  -DPARALLEL  -DCARTESIAN                     mod_parallel_field_io.F > mod_parallel_field_io.f90\r\n",
      "mpif90  -c     mod_parallel_field_io.f90\r\n",
      "/bin/rm mod_parallel_field_io.f90\r\n",
      "/usr/bin/cpp  -P -traditional  -P -traditional  -DDOUBLE_PRECISION  -DPARALLEL  -DCARTESIAN                     main.F > main.f90\r\n",
      "mpif90  -c     main.f90\r\n",
      "/bin/rm main.f90\r\n",
      "/usr/bin/cpp  -P -traditional  -P -traditional  -DDOUBLE_PRECISION  -DPARALLEL  -DCARTESIAN                     bc.F > bc.f90\r\n",
      "mpif90  -c     bc.f90\r\n",
      "/bin/rm bc.f90\r\n",
      "/usr/bin/cpp  -P -traditional  -P -traditional  -DDOUBLE_PRECISION  -DPARALLEL  -DCARTESIAN                     fluxes.F > fluxes.f90\r\n",
      "mpif90  -c     fluxes.f90\r\n",
      "/bin/rm fluxes.f90\r\n",
      "/usr/bin/cpp  -P -traditional  -P -traditional  -DDOUBLE_PRECISION  -DPARALLEL  -DCARTESIAN                     init.F > init.f90\r\n",
      "mpif90  -c     init.f90\r\n",
      "/bin/rm init.f90\r\n",
      "/usr/bin/cpp  -P -traditional  -P -traditional  -DDOUBLE_PRECISION  -DPARALLEL  -DCARTESIAN                     io.F > io.f90\r\n",
      "mpif90  -c     io.f90\r\n",
      "/bin/rm io.f90\r\n",
      "/usr/bin/cpp  -P -traditional  -P -traditional  -DDOUBLE_PRECISION  -DPARALLEL  -DCARTESIAN                     tridiagnal.F > tridiagnal.f90\r\n",
      "mpif90  -c     tridiagnal.f90\r\n",
      "/bin/rm tridiagnal.f90\r\n",
      "/usr/bin/cpp  -P -traditional  -P -traditional  -DDOUBLE_PRECISION  -DPARALLEL  -DCARTESIAN                     breaker.F > breaker.f90\r\n",
      "mpif90  -c     breaker.f90\r\n",
      "/bin/rm breaker.f90\r\n",
      "/usr/bin/cpp  -P -traditional  -P -traditional  -DDOUBLE_PRECISION  -DPARALLEL  -DCARTESIAN                     derivatives.F > derivatives.f90\r\n",
      "mpif90  -c     derivatives.f90\r\n",
      "/bin/rm derivatives.f90\r\n",
      "/usr/bin/cpp  -P -traditional  -P -traditional  -DDOUBLE_PRECISION  -DPARALLEL  -DCARTESIAN                     dispersion.F > dispersion.f90\r\n",
      "mpif90  -c     dispersion.f90\r\n",
      "/bin/rm dispersion.f90\r\n",
      "/usr/bin/cpp  -P -traditional  -P -traditional  -DDOUBLE_PRECISION  -DPARALLEL  -DCARTESIAN                     etauv_solver.F > etauv_solver.f90\r\n",
      "mpif90  -c     etauv_solver.f90\r\n",
      "/bin/rm etauv_solver.f90\r\n",
      "/usr/bin/cpp  -P -traditional  -P -traditional  -DDOUBLE_PRECISION  -DPARALLEL  -DCARTESIAN                     sponge.F > sponge.f90\r\n",
      "mpif90  -c     sponge.f90\r\n",
      "/bin/rm sponge.f90\r\n",
      "/usr/bin/cpp  -P -traditional  -P -traditional  -DDOUBLE_PRECISION  -DPARALLEL  -DCARTESIAN                     sources.F > sources.f90\r\n",
      "mpif90  -c     sources.f90\r\n",
      "/bin/rm sources.f90\r\n",
      "/usr/bin/cpp  -P -traditional  -P -traditional  -DDOUBLE_PRECISION  -DPARALLEL  -DCARTESIAN                     masks.F > masks.f90\r\n",
      "mpif90  -c     masks.f90\r\n",
      "/bin/rm masks.f90\r\n",
      "/usr/bin/cpp  -P -traditional  -P -traditional  -DDOUBLE_PRECISION  -DPARALLEL  -DCARTESIAN                     parallel.F > parallel.f90\r\n",
      "mpif90  -c     parallel.f90\r\n",
      "/bin/rm parallel.f90\r\n",
      "/usr/bin/cpp  -P -traditional  -P -traditional  -DDOUBLE_PRECISION  -DPARALLEL  -DCARTESIAN                     statistics.F > statistics.f90\r\n",
      "mpif90  -c     statistics.f90\r\n",
      "/bin/rm statistics.f90\r\n",
      "/usr/bin/cpp  -P -traditional  -P -traditional  -DDOUBLE_PRECISION  -DPARALLEL  -DCARTESIAN                     wavemaker.F > wavemaker.f90\r\n",
      "mpif90  -c     wavemaker.f90\r\n",
      "/bin/rm wavemaker.f90\r\n",
      "/usr/bin/cpp  -P -traditional  -P -traditional  -DDOUBLE_PRECISION  -DPARALLEL  -DCARTESIAN                     mixing.F > mixing.f90\r\n",
      "mpif90  -c     mixing.f90\r\n",
      "/bin/rm mixing.f90\r\n",
      "/usr/bin/cpp  -P -traditional  -P -traditional  -DDOUBLE_PRECISION  -DPARALLEL  -DCARTESIAN                     nesting.F > nesting.f90\r\n",
      "mpif90  -c     nesting.f90\r\n",
      "/bin/rm nesting.f90\r\n",
      "/usr/bin/cpp  -P -traditional  -P -traditional  -DDOUBLE_PRECISION  -DPARALLEL  -DCARTESIAN                     misc.F > misc.f90\r\n",
      "mpif90  -c     misc.f90\r\n",
      "/bin/rm misc.f90\r\n",
      "/usr/bin/cpp  -P -traditional  -P -traditional  -DDOUBLE_PRECISION  -DPARALLEL  -DCARTESIAN                     samples.F > samples.f90\r\n",
      "mpif90  -c     samples.f90\r\n",
      "/bin/rm samples.f90\r\n",
      "mpif90     -o funwave_vessel mod_param.o mod_global.o mod_input.o mod_vessel.o mod_bathy_correction.o mod_meteo.o mod_parallel_field_io.o main.o bc.o fluxes.o init.o io.o tridiagnal.o breaker.o derivatives.o dispersion.o etauv_solver.o sponge.o sources.o masks.o parallel.o statistics.o wavemaker.o mixing.o nesting.o misc.o samples.o \r\n",
      "Removing intermediate container b35f2ffe3c58\r\n",
      " ---> d9c744c43210\r\n",
      "Step 15/16 : RUN mkdir -p /home/jovyan/rundir\r\n",
      " ---> Running in 19728b95dee5\r\n",
      "Removing intermediate container 19728b95dee5\r\n",
      " ---> cb91b9831d23\r\n",
      "Step 16/16 : WORKDIR /home/jovyan/rundir\r\n",
      " ---> Running in c7215e9b1c42\r\n",
      "Removing intermediate container c7215e9b1c42\r\n",
      " ---> ffc15eb1ade9\r\n",
      "Successfully built ffc15eb1ade9\r\n",
      "Successfully tagged funwave-tvd:3.2.0.dev\r\n",
      "[]\r\n"
     ]
    }
   ],
   "source": [
    "!jobs-output-get -P ${JOB_ID} funwave-build.out"
   ]
  },
  {
   "cell_type": "code",
   "execution_count": 114,
   "metadata": {},
   "outputs": [
    {
     "name": "stdout",
     "output_type": "stream",
     "text": [
      "Cloning into 'FUNWAVE-TVD'...\r\n",
      "done.\r\n",
      "fatal: A branch named 'dev' already exists.\r\n",
      "Got permission denied while trying to connect to the Docker daemon socket at unix:///var/run/docker.sock: Get http://%2Fvar%2Frun%2Fdocker.sock/v1.38/containers/funwave-tvd:3.2.0.dev/json: dial unix /var/run/docker.sock: connect: permission denied\r\n"
     ]
    }
   ],
   "source": [
    "!jobs-output-get -P ${JOB_ID} funwave-build.err"
   ]
  },
  {
   "cell_type": "code",
   "execution_count": null,
   "metadata": {},
   "outputs": [],
   "source": []
  }
 ],
 "metadata": {
  "kernelspec": {
   "display_name": "Python 3",
   "language": "python",
   "name": "python3"
  },
  "language_info": {
   "codemirror_mode": {
    "name": "ipython",
    "version": 3
   },
   "file_extension": ".py",
   "mimetype": "text/x-python",
   "name": "python",
   "nbconvert_exporter": "python",
   "pygments_lexer": "ipython3",
   "version": "3.6.2"
  }
 },
 "nbformat": 4,
 "nbformat_minor": 2
}
