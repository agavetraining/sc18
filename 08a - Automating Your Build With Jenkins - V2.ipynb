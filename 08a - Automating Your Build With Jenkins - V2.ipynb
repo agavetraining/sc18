{
 "cells": [
  {
   "cell_type": "code",
   "execution_count": 1,
   "metadata": {},
   "outputs": [
    {
     "name": "stdout",
     "output_type": "stream",
     "text": [
      "/home/jovyan/agave/funwave-tvd-jenkins-pipeline\n",
      "Requirement already up-to-date: setvar in /opt/conda/lib/python3.6/site-packages\n",
      "\u001b[33mYou are using pip version 9.0.1, however version 18.1 is available.\n",
      "You should consider upgrading via the 'pip install --upgrade pip' command.\u001b[0m\n",
      "\u001b[1;0mToken for sandbox:stevenrbrandt successfully refreshed and cached for 14400 seconds\n",
      "4478f4983138e6bab1740f311c36e6f\u001b[0m\n"
     ]
    }
   ],
   "source": [
    "!mkdir -p ~/agave/funwave-tvd-jenkins-pipeline\n",
    "\n",
    "%cd ~/agave/funwave-tvd-jenkins-pipeline\n",
    "\n",
    "!pip3 install --upgrade setvar\n",
    "\n",
    "import re\n",
    "import os\n",
    "import sys\n",
    "from setvar import *\n",
    "\n",
    "!auth-tokens-refresh"
   ]
  },
  {
   "cell_type": "markdown",
   "metadata": {},
   "source": [
    "# Everything as Code\n",
    "* Every piece of config, infrastructure, and software should be stored in VCS\n",
    "* Single source of truth\n",
    "* Reproducibility, versioning, change management\n",
    "* Avoid config drift\n",
    "* Everything is managed with the same practice and rigor as application code\n",
    "\n",
    "## Managing third-party code\n",
    "* Industry uses mono repos, which works well. But what if you don't control 100% of your code?\n",
    "* Open science is built on open-source software\n",
    "  * This means a lot of third-party dependencies that you don't have direct control of.\n",
    "  * You can't fork everything, as it becomes a maintenance hassle and makes it difficult to contribute back upstream.\n",
    "* **Solution:** Submodules, explicit version requirements, meaningful tagging schemes, and bringing it all together in a single application repo."
   ]
  },
  {
   "cell_type": "markdown",
   "metadata": {},
   "source": [
    "\n",
    "## Commit Our App Configuration\n",
    "* From here on out, all changes will be made directly in the Funwave repo.\n",
    "* Put our build app in a place that will be accessible alongside the code\n",
    "* Build process and build app can now be managed alongside code, and treated as an aspect of development."
   ]
  },
  {
   "cell_type": "code",
   "execution_count": 2,
   "metadata": {},
   "outputs": [
    {
     "name": "stdout",
     "output_type": "stream",
     "text": [
      "Warning: Permanently added 'sandbox,172.18.0.4' (ECDSA) to the list of known hosts.\n",
      "Switched to a new branch 'dev'\n",
      "M\tsrc/Makefile\n"
     ]
    }
   ],
   "source": [
    "!ssh sandbox \"cd ~/FUNWAVE-TVD && git checkout -b dev\""
   ]
  },
  {
   "cell_type": "markdown",
   "metadata": {},
   "source": [
    "## Branching, Versioning, Tagging Strategies\n",
    "\n",
    "### GitFlow\n",
    "* [GitFlow](https://datasift.github.io/gitflow/IntroducingGitFlow.html), a successful git branching workflow for teams of any size.\n",
    "\n",
    "![The GitFlow Strategy](https://datasift.github.io/gitflow/GitFlowHotfixBranch.png)"
   ]
  },
  {
   "cell_type": "markdown",
   "metadata": {},
   "source": [
    "### Semantic Versioning\n",
    "* Components of a semantic version\n",
    "* Why use a semantic versioning scheme?\n",
    "  * Sets expectations\n",
    "  * Communicates changes\n",
    "  * Meaningful version flexibility for consumer"
   ]
  },
  {
   "cell_type": "code",
   "execution_count": 7,
   "metadata": {},
   "outputs": [
    {
     "name": "stdout",
     "output_type": "stream",
     "text": [
      "Writing file `version.txt'\n",
      "Uploading version.txt...\n",
      "######################################################################## 100.0%\n",
      "Warning: Permanently added 'sandbox,172.18.0.4' (ECDSA) to the list of known hosts.\n",
      "Warning: Permanently added 'sandbox,172.18.0.4' (ECDSA) to the list of known hosts.\n",
      "Warning: Permanently added 'sandbox,172.18.0.4' (ECDSA) to the list of known hosts.\n",
      "+ cd /home/jovyan/FUNWAVE-TVD\n",
      "+ git add version.txt\n",
      "+ git commit -m 'Adding version tracker.'\n",
      "[dev 619fb0c] Adding version tracker.\n",
      " 1 file changed, 4 insertions(+)\n",
      " create mode 100644 version.txt\n",
      "+ git checkout -b build-automation\n",
      "M\tsrc/Makefile\n",
      "Switched to a new branch 'build-automation'\n"
     ]
    }
   ],
   "source": [
    "writefile(\"version.txt\",\"\"\"3\n",
    "2\n",
    "0\n",
    "dev\"\"\")\n",
    "!files-upload -S ${AGAVE_STORAGE_SYSTEM_ID} -F version.txt /home/jovyan/FUNWAVE-TVD/\n",
    "!ssh sandbox \"git config --global user.email sbrandt@cct.lsu.edu\"\n",
    "!ssh sandbox \"git config --global user.name 'Steven R. Brandt'\"\n",
    "!ssh sandbox \"set -x && cd ~/FUNWAVE-TVD && git add version.txt && git commit -m 'Adding version tracker.' && git checkout -b build-automation\""
   ]
  },
  {
   "cell_type": "markdown",
   "metadata": {},
   "source": [
    "# Improving Our App for Automation\n",
    "* Restructure Dockerfile\n",
    "  * Explicit commit requirements for FunWave, so that a single version of our Agave app will only refer to a single version of the code.\n",
    "  * Copy repo into your Dockerfile, don't clone. This ensures that the Dockerfile cannot drift from the code version it is intended to match, and the two can reflect one another in git history."
   ]
  },
  {
   "cell_type": "code",
   "execution_count": 11,
   "metadata": {},
   "outputs": [
    {
     "name": "stdout",
     "output_type": "stream",
     "text": [
      "Writing file `Dockerfile'\n",
      "Uploading Dockerfile...\n",
      "######################################################################## 100.0%\n",
      "Warning: Permanently added 'sandbox,172.18.0.4' (ECDSA) to the list of known hosts.\n",
      "+ cd /home/jovyan/FUNWAVE-TVD\n",
      "+ git add Dockerfile\n"
     ]
    }
   ],
   "source": [
    "writefile(\"Dockerfile\",\"\"\"\n",
    "FROM stevenrbrandt/science-base\n",
    "MAINTAINER Steven R. Brandt <sbrandt@cct.lsu.edu>\n",
    "\n",
    "ARG BUILD_DATE\n",
    "ARG VERSION\n",
    "\n",
    "LABEL org.agaveplatform.ax.architecture=\"x86_64\"                                \\\n",
    "      org.agaveplatform.ax.build-date=\"\\$BUILD_DATE\"                             \\\n",
    "      org.agaveplatform.ax.version=\"\\$VERSION\"                             \\\n",
    "      org.agaveplatform.ax.name=\"${AGAVE_USERNAME}/funwave-tvd\"    \\\n",
    "      org.agaveplatform.ax.summary=\"Funwave-TVD is a code to simulate the shallow water and Boussinesq equations written by Dr. Fengyan Shi.\" \\\n",
    "      org.agaveplatform.ax.vcs-type=\"git\"                                       \\\n",
    "      org.agaveplatform.ax.vcs-url=\"https://github.com/fengyanshi/FUNWAVE-TVD\" \\\n",
    "      org.agaveplatform.ax.license=\"BSD 3-clause\"\n",
    "      \n",
    "USER root\n",
    "RUN mkdir -p /home/install/FUNWAVE-TVD\n",
    "RUN chown jovyan /home/install/FUNWAVE-TVD\n",
    "COPY --chown jovyan ./* /home/install/FUNWAVE-TVD/\n",
    "USER jovyan\n",
    "\n",
    "WORKDIR /home/install/FUNWAVE-TVD/src\n",
    "RUN perl -p -i -e 's/FLAG_8 = -DCOUPLING/#$&/' Makefile && \\\n",
    "    make\n",
    "\n",
    "RUN mkdir -p /home/jovyan/rundir\n",
    "WORKDIR /home/jovyan/rundir\n",
    "\"\"\")\n",
    "!files-upload -S ${AGAVE_STORAGE_SYSTEM_ID} -F Dockerfile /home/jovyan/FUNWAVE-TVD/\n",
    "!ssh sandbox \"set -x && cd ~/FUNWAVE-TVD && git add Dockerfile\""
   ]
  },
  {
   "cell_type": "code",
   "execution_count": 19,
   "metadata": {},
   "outputs": [
    {
     "name": "stdout",
     "output_type": "stream",
     "text": [
      "Writing file `funwave-build-wrapper.txt'\n",
      "Uploading funwave-build-wrapper.txt...\n",
      "######################################################################## 100.0%\n",
      "Warning: Permanently added 'sandbox,172.18.0.4' (ECDSA) to the list of known hosts.\n"
     ]
    }
   ],
   "source": [
    "writefile(\"funwave-build-wrapper.txt\",\"\"\"\n",
    "\n",
    "VERSION=$(cat version.txt | paste -sd \".\" -)\n",
    "\n",
    "sudo docker build \\\n",
    "    --build-arg \"BUILD_DATE=\\${AGAVE_JOB_SUBMIT_TIME}\" \\\n",
    "    --build-arg \"VERSION=\\${VERSION}\" \\\n",
    "    --rm -t funwave-tvd:\\${VERSION} .\n",
    "\n",
    "docker inspect funwave-tvd:\\${VERSION}\n",
    "\n",
    "\"\"\")\n",
    "!files-upload -S ${AGAVE_STORAGE_SYSTEM_ID} -F funwave-build-wrapper.txt /home/jovyan/FUNWAVE-TVD/\n",
    "!ssh sandbox \"cd ~/FUNWAVE-TVD && git add funwave-build-wrapper.txt\""
   ]
  },
  {
   "cell_type": "code",
   "execution_count": 16,
   "metadata": {},
   "outputs": [
    {
     "name": "stdout",
     "output_type": "stream",
     "text": [
      "Writing file `funwave-build-app.txt'\n",
      "Uploading funwave-build-wrapper.txt...\n",
      "######################################################################## 100.0%\n",
      "Warning: Permanently added 'sandbox,172.18.0.4' (ECDSA) to the list of known hosts.\n",
      "+ cd /home/jovyan/FUNWAVE-TVD\n",
      "+ git add funwave-build-wrapper.txt\n"
     ]
    }
   ],
   "source": [
    "writefile(\"funwave-build-app.txt\",\"\"\"\n",
    "{  \n",
    "   \"name\":\"${AGAVE_USERNAME}-${MACHINE_NAME}-funwave-dbuild\",\n",
    "   \"version\":\"1.0\",\n",
    "   \"label\":\"Builds the funwave docker image\",\n",
    "   \"shortDescription\":\"Funwave docker build\",\n",
    "   \"longDescription\":\"\",\n",
    "   \"deploymentSystem\":\"${AGAVE_STORAGE_SYSTEM_ID}\",\n",
    "   \"deploymentPath\":\"automation/funwave-tvd-docker-automation\",\n",
    "   \"templatePath\":\"funwave-build-wrapper.txt\",\n",
    "   \"testPath\":\"test.txt\",\n",
    "   \"executionSystem\":\"${AGAVE_EXECUTION_SYSTEM_ID}\",\n",
    "   \"executionType\":\"CLI\",\n",
    "   \"parallelism\":\"SERIAL\",\n",
    "   \"modules\":[],\n",
    "   \"inputs\":[],\n",
    "   \"parameters\":[{\n",
    "     \"id\" : \"code_version\",\n",
    "     \"value\" : {\n",
    "       \"visible\":true,\n",
    "       \"required\":true,\n",
    "       \"type\":\"string\",\n",
    "       \"order\":0,\n",
    "       \"enquote\":false,\n",
    "       \"default\":\"latest\"\n",
    "     },\n",
    "     \"details\":{\n",
    "         \"label\": \"Version of the code\",\n",
    "         \"description\": \"If true, output will be packed and compressed\",\n",
    "         \"argument\": null,\n",
    "         \"showArgument\": false,\n",
    "         \"repeatArgument\": false\n",
    "     },\n",
    "     \"semantics\":{\n",
    "         \"argument\": null,\n",
    "         \"showArgument\": false,\n",
    "         \"repeatArgument\": false\n",
    "     }\n",
    "   }],\n",
    "   \"outputs\":[]\n",
    "}\n",
    "\"\"\")\n",
    "!files-upload -S ${AGAVE_STORAGE_SYSTEM_ID} -F funwave-build-wrapper.txt /home/jovyan/FUNWAVE-TVD/\n",
    "!ssh sandbox \"set  -x && cd ~/FUNWAVE-TVD && git add funwave-build-wrapper.txt\""
   ]
  },
  {
   "cell_type": "markdown",
   "metadata": {},
   "source": [
    "# Build Automatically On Each Commit\n",
    "* Intro to Jenkins\n",
    "  * What is it?\n",
    "  * What is its primary use case?\n",
    "  * Deciding if it the right solution for you. What are alternatives?"
   ]
  },
  {
   "cell_type": "markdown",
   "metadata": {},
   "source": [
    "## Components of a Build Pipeline\n",
    "* Build environment (build app you just made)\n",
    "* Jenkinsfile, automating your build\n",
    "* Triggers, starting your build\n",
    "* Tests, validating your build\n",
    "* Secrets, and site-specific configuration"
   ]
  },
  {
   "cell_type": "markdown",
   "metadata": {},
   "source": [
    "## Modularize Our Config\n",
    "* Right now the build app is set up to configure from environment variables not accessible to the Jenkins host\n",
    "* We need to make this environment accessible to the build pipline, while also making it easy to understand and maintain\n",
    "\n",
    "### Strategies for Maintaining Credentials and Config\n",
    "* Travis CI encrypted values\n",
    "* Jenkins Freestyle job, injecting config as environment variables known only to build host\n",
    "* Consider your audience. How is your code meant to be used?\n",
    "  * Is it OSS?\n",
    "  * Do you want to encourage reuse?\n",
    "  * Will it be stored publicly or privately?\n",
    "  * Where will it be built?\n",
    "* **Admin Consideration:** Vault, secrets stores\n",
    "* For simplicity, we will simply include config in the Groovy script."
   ]
  },
  {
   "cell_type": "markdown",
   "metadata": {},
   "source": [
    "## Create Our Jenkins Pipeline\n",
    "* What is a Jenkins pipeline?\n",
    "* Purpose of a Jenkinsfile\n",
    "* How is it read by Jenkins?\n",
    "* Freestyle, Pipeline, Blue Ocean\n",
    "* Navigate to https://<username\\>.sc18.training.agaveplatform.org/jenkins/job to view the associated pipeline\n",
    "* What are the different components of this job?\n",
    "  * SCM\n",
    "  * Jenkinsfile location\n",
    "  * Triggers\n",
    "  * Branches, touch on concurrent builds\n",
    "  * Notification"
   ]
  },
  {
   "cell_type": "markdown",
   "metadata": {},
   "source": [
    "### Creating A Jenkins Pipeline\n"
   ]
  },
  {
   "cell_type": "code",
   "execution_count": 18,
   "metadata": {},
   "outputs": [
    {
     "name": "stdout",
     "output_type": "stream",
     "text": [
      "Writing file `.jenkinsfile'\n",
      "Uploading .jenkinsfile...\n",
      "######################################################################## 100.0%\n",
      "Warning: Permanently added 'sandbox,172.18.0.4' (ECDSA) to the list of known hosts.\n",
      "+ cd /home/jovyan/FUNWAVE-TVD\n",
      "+ git add .jenkinsfile\n"
     ]
    }
   ],
   "source": [
    "writefile(\".jenkinsfile\",\"\"\"\n",
    "\"\"\")\n",
    "!files-upload -S ${AGAVE_STORAGE_SYSTEM_ID} -F .jenkinsfile /home/jovyan/FUNWAVE-TVD/\n",
    "!ssh sandbox \"set -x && cd ~/FUNWAVE-TVD && git add .jenkinsfile\""
   ]
  },
  {
   "cell_type": "markdown",
   "metadata": {},
   "source": [
    "### Triggering our Jenkins Pipeline From a Commit\n",
    "* Polling, webhooks, git hooks\n",
    "* We'll use a post-commit git hook for simplicity.\n",
    "* What are git hooks?"
   ]
  },
  {
   "cell_type": "code",
   "execution_count": 21,
   "metadata": {},
   "outputs": [
    {
     "name": "stdout",
     "output_type": "stream",
     "text": [
      "MINICONDA_VERSION=4.3.21\r\n",
      "MAIL=/var/mail/jovyan\r\n",
      "USER=jovyan\r\n",
      "LANGUAGE=en_US.UTF-8\r\n",
      "AGAVE_TENANTS_API_BASEURL=https://sandbox.agaveplatform.org/tenants\r\n",
      "MPLBACKEND=module://ipykernel.pylab.backend_inline\r\n",
      "AGAVE_CACHE_DIR=/home/jovyan/work/.$AGAVE_TENANT\r\n",
      "HOSTNAME=6e57ea83e04c\r\n",
      "VM_IPADDRESS=52.15.183.149\r\n",
      "AGAVE_STORAGE_HOME_DIR=/home/jovyan\r\n",
      "SHLVL=1\r\n",
      "XDG_CACHE_HOME=/home/jovyan/.cache/\r\n",
      "HOME=/home/jovyan\r\n",
      "NGROK_TOKEN=nkupApaEBZofn6LXd82_3XFuXeDBEJwvQJrh89JbB\r\n",
      "ENVIRONMENT=training\r\n",
      "VM_PORT=10022\r\n",
      "PAGER=cat\r\n",
      "AGAVE_SYSTEM_HOST=0.tcp.ngrok.io\r\n",
      "MACHINE_NAME=sandbox\r\n",
      "NB_USER=jovyan\r\n",
      "AGAVE_PASSWORD=GlaringChorus059\r\n",
      "AGAVE_APP_DEPLOYMENT_PATH=agave-deploy\r\n",
      "AGAVE_CLI_COMPLETION_SHOW_FILES=no\r\n",
      "GRANT_SUDO=yes\r\n",
      "LOGNAME=jovyan\r\n",
      "_=/usr/bin/env\r\n",
      "USE_TUNNEL=True\r\n",
      "AGAVE_SYSTEM_PORT=19781\r\n",
      "TERM=xterm-color\r\n",
      "MACHINE_USERNAME=jovyan\r\n",
      "AGAVE_CLI_COMPLETION_CACHE_LIFETIME=0\r\n",
      "ROTATE=yes\r\n",
      "AGAVE_CLI_COMPLETION_SHOW_FILE_PATHS=no\r\n",
      "PATH=/opt/conda/bin:/opt/conda/bin:/usr/local/sbin:/usr/local/bin:/usr/sbin:/usr/bin:/sbin:/bin:/usr/local/jq/bin:/home/jovyan/src/cli/bin\r\n",
      "AGAVE_JSON_PARSER=jq\r\n",
      "LANG=en_US.UTF-8\r\n",
      "DEBIAN_FRONTEND=noninteractive\r\n",
      "SHELL=/bin/bash\r\n",
      "AGAVE_EXECUTION_SYSTEM_WORK_DIR=/home/jovyan/work\r\n",
      "VM_MACHINE=sandbox\r\n",
      "AGAVE_SYSTEM_SITE_DOMAIN=localdomain\r\n",
      "AGAVE_EXECUTION_SYSTEM_SCRATCH_DIR=/home/jovyan/work\r\n",
      "AGAVE_STORAGE_WORK_DIR=/home/jovyan\r\n",
      "CONDA_DIR=/opt/conda\r\n",
      "AGAVE_USERNAME=stevenrbrandt\r\n",
      "GIT_PAGER=cat\r\n",
      "AGAVE_STORAGE_SYSTEM_ID=sandbox-storage-stevenrbrandt\r\n",
      "LC_ALL=en_US.UTF-8\r\n",
      "PWD=/home/jovyan/agave/funwave-tvd-jenkins-pipeline\r\n",
      "CLICOLOR=1\r\n",
      "AGAVE_APP_NAME=training-stevenrbrandt\r\n",
      "JULIA_PKGDIR=/opt/julia\r\n",
      "JPY_PARENT_PID=13\r\n",
      "AGAVE_EXECUTION_SYSTEM_ID=sandbox-exec-stevenrbrandt\r\n",
      "NB_UID=1000\r\n",
      "AGAVE_TENANT=agave.prod\r\n"
     ]
    }
   ],
   "source": [
    "!env"
   ]
  },
  {
   "cell_type": "code",
   "execution_count": 27,
   "metadata": {},
   "outputs": [
    {
     "name": "stdout",
     "output_type": "stream",
     "text": [
      "JENKINS_JOB_URL=\"https://stevenrbrandt.sc18.training.agaveplatform.org/jenkins/job\"\n",
      "JENKINS_JOB_NAME=\"funwave-build-pipeline\"\n",
      "BUILD_TOKEN=\"sc18-training-job\"\n",
      "Writing file `post-commit'\n",
      "\u001b[1;0mSuccessfully created folder /home/jovyan/FUNWAVE-TVD/.git/hooks\u001b[0m\n",
      "Uploading post-commit...\n",
      "######################################################################## 100.0%\n",
      "Warning: Permanently added 'sandbox,172.18.0.4' (ECDSA) to the list of known hosts.\n",
      "+ cd /home/jovyan/FUNWAVE-TVD/\n",
      "+ git add .git/hooks/post-commit\n",
      "error: Invalid path '.git/hooks/post-commit'\n",
      "error: unable to add .git/hooks/post-commit to index\n",
      "fatal: adding files failed\n"
     ]
    }
   ],
   "source": [
    "# Post-commit hook to trigger Jenkins job via curl\n",
    "setvar(\"\"\"\n",
    "JENKINS_JOB_URL=\"https://${AGAVE_USERNAME}.sc18.training.agaveplatform.org/jenkins/job\"\n",
    "JENKINS_JOB_NAME=\"funwave-build-pipeline\"\n",
    "BUILD_TOKEN=\"sc18-training-job\"\n",
    "\"\"\")\n",
    "writefile(\"post-commit\",\"\"\"#!/bin/bash\n",
    "JENKINS_JOB_URL=\"${JENKINS_JOB_URL}\"\n",
    "JEKNINS_JOB_NAME=\"${JENKINS_JOB_NAME}\"\n",
    "BUILD_TOKEN=\"${BUILD_TOKEN}\"\n",
    "curl -sk \"$JENKINS_JOB_URL/$JEKNINS_JOB_NAME/build?token=$BUILD_TOKEN\"\n",
    "\"\"\")\n",
    "!files-mkdir -S ${AGAVE_STORAGE_SYSTEM_ID} -N /home/jovyan/FUNWAVE-TVD/.git/hooks\n",
    "!files-upload -S ${AGAVE_STORAGE_SYSTEM_ID} -F post-commit /home/jovyan/FUNWAVE-TVD/.git/hooks/\n",
    "# Set the hook to executable so that it won't be ignored.\n",
    "!ssh sandbox \"set -x && cd ~/FUNWAVE-TVD/ && git add .git/hooks/post-commit && git update-index --chmod=+x post-commit\""
   ]
  },
  {
   "cell_type": "markdown",
   "metadata": {},
   "source": [
    "# Commit Your Code, Start Your Pipeline\n",
    "* We'll commit our changes and merge our feature branch back into `dev`\n",
    "* This will prompt the pipeline to start\n",
    "* Watch the pipeline run: https://<username\\>.sc18.training.agaveplatform.org/jenkins/job\n",
    "* In practice, merge requests should prompt two builds:\n",
    "  * One to validate the feature branch itself\n",
    "  * Another to validate that the build still passes after the merge\n",
    "* In the interest of time, we will only validate individual commits to the `dev` branch."
   ]
  },
  {
   "cell_type": "code",
   "execution_count": null,
   "metadata": {},
   "outputs": [],
   "source": [
    "!ssh sandbox \"cd ~/FUNWAVE-TVD && git commit -m 'Added jenkinsfile and post-commit hook.'\"\n",
    "!ssh sandbox \"cd ~/FUNWAVE-TVD && git checkout dev && git merge --squash build-automation\""
   ]
  },
  {
   "cell_type": "markdown",
   "metadata": {},
   "source": [
    "# Validating Your Build\n",
    "* Automation is great, but things can quickly go wrong.\n",
    "* This is why CI/CD strongly emphasizes good testing practices.\n",
    "* Testing is central to CI/CD\n",
    "  * It allows you assess viability of each commit\n",
    "  * It is the determination of whether or not code can be successfully integrated\n",
    "  * It allows for code to be automatically deployed to prod, without the direct oversight of a tightly controlled group of developers.\n",
    "* Production pipelines have multiple testing guards\n",
    "  * Types of tests: Unit, Functional, Acceptance, Benchmarks, ..."
   ]
  },
  {
   "cell_type": "markdown",
   "metadata": {},
   "source": [
    "## Adding a Benchmark\n",
    "* Let's add a simple benchmark to validate performance after each build.\n",
    "* We'll make a new feature branch for this benchmark"
   ]
  },
  {
   "cell_type": "code",
   "execution_count": null,
   "metadata": {},
   "outputs": [],
   "source": [
    "!ssh sandbox \"cd ~/FUNWAVE-TVD && git checkout -b benchmark\""
   ]
  },
  {
   "cell_type": "markdown",
   "metadata": {},
   "source": [
    "### Update the Jenkinsfile\n",
    "* We need to add a new stage to the Jenkins pipeline to run the benchmark if the preceeding stages of the build executed successfully."
   ]
  },
  {
   "cell_type": "code",
   "execution_count": null,
   "metadata": {},
   "outputs": [],
   "source": [
    "writefile(\".jenkinsfile\",\"\"\"\n",
    "\"\"\")\n",
    "!files-upload -S ${AGAVE_STORAGE_SYSTEM_ID} -F .jenkinsfile /home/jovyan/FUNWAVE-TVD/.jenkinsfile"
   ]
  },
  {
   "cell_type": "markdown",
   "metadata": {},
   "source": [
    "### Merge Your Benchmark\n",
    "* Let's merge our benchmark back into the `dev` branch and watch it run!"
   ]
  },
  {
   "cell_type": "code",
   "execution_count": null,
   "metadata": {},
   "outputs": [],
   "source": [
    "!ssh sandbox \"cd ~/FUNWAVE-TVD && git commit -m 'Added benchmark to pipeline.'\"\n",
    "!ssh sandbox \"cd ~/FUNWAVE-TVD && git checkout dev && git merge --squash benchmark\""
   ]
  },
  {
   "cell_type": "markdown",
   "metadata": {},
   "source": [
    "# Continuous Delivery and Deployment\n",
    "* Once your build pipeline has run, and your changeset has passed all testing guards, what do you do?\n",
    "* Continuous Delivery:\n",
    "  * Package and publish your code\n",
    "  * Singularity Registry, DockerHub, etc..\n",
    "* Continuous Deployment:\n",
    "  * Package your code and deploy it to pre-prod or prod servers."
   ]
  },
  {
   "cell_type": "code",
   "execution_count": null,
   "metadata": {},
   "outputs": [],
   "source": []
  }
 ],
 "metadata": {
  "kernelspec": {
   "display_name": "Python 3",
   "language": "python",
   "name": "python3"
  },
  "language_info": {
   "codemirror_mode": {
    "name": "ipython",
    "version": 3
   },
   "file_extension": ".py",
   "mimetype": "text/x-python",
   "name": "python",
   "nbconvert_exporter": "python",
   "pygments_lexer": "ipython3",
   "version": "3.6.2"
  }
 },
 "nbformat": 4,
 "nbformat_minor": 2
}
