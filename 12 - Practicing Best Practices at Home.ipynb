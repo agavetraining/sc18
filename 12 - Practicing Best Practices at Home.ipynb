{
 "cells": [
  {
   "cell_type": "markdown",
   "metadata": {},
   "source": [
    "# Practicing best practices at home\n",
    "\n",
    "Brief points about taking what you learned home with you."
   ]
  },
  {
   "cell_type": "markdown",
   "metadata": {},
   "source": [
    "## Data Management\n",
    "\n",
    "* Where to start  \n",
    "* where to store  \n",
    "* How to change  \n",
    "* When to change  \n",
    "* How to get help  \n",
    "* Examples of good management  \n",
    "* A note about costs  "
   ]
  },
  {
   "cell_type": "markdown",
   "metadata": {},
   "source": [
    "## Software  \n",
    "\n",
    "* Project generator\n",
    "* checklist to refer to online  \n",
    "* checklist for fixing existing ones  \n",
    "* How to get help.\n",
    "* Where to start."
   ]
  },
  {
   "cell_type": "markdown",
   "metadata": {},
   "source": [
    "## Collaboration  \n",
    "\n",
    "* Examples to point to  \n",
    "* Repos with sample starters  \n",
    "* Join our slack channel"
   ]
  },
  {
   "cell_type": "markdown",
   "metadata": {},
   "source": [
    "## Project Organization  \n",
    "\n",
    "* Git repo with sample project  \n",
    "* OSS communities for help & experience  \n",
    "* Carpentry workshops  \n"
   ]
  },
  {
   "cell_type": "markdown",
   "metadata": {},
   "source": [
    "## Keeping Track of Changes  \n",
    "\n",
    "* [Keepachangelog.org]()  \n",
    "* Branching and versioning strategies  \n",
    "* Data catalogues, metadata services\n",
    "* Document management systems  \n",
    "* SaaS vs PaaS vs University vs Roll your own  "
   ]
  },
  {
   "cell_type": "markdown",
   "metadata": {},
   "source": [
    "## Manual Versioning  \n",
    "\n",
    "* Types  \n",
    "  * SemVer (ala most things)\n",
    "  * Git hashes ( ala Agave)\n",
    "  * Date stamps ( ala Docker)  \n",
    "* Automating\n"
   ]
  },
  {
   "cell_type": "markdown",
   "metadata": {},
   "source": [
    "## Version Control Systems  \n",
    "\n",
    "Use them. That is all."
   ]
  },
  {
   "cell_type": "markdown",
   "metadata": {},
   "source": [
    "## Manuscripts  \n",
    "\n",
    "Boilerplate & checklist"
   ]
  },
  {
   "cell_type": "markdown",
   "metadata": {},
   "source": [
    "## Supplementary Materials  \n",
    "\n",
    "* App exchange  \n",
    "* Git repos with samples  \n",
    "* Third party providers  \n",
    "* consulting & engagement  \n",
    "* ECSS  "
   ]
  },
  {
   "cell_type": "markdown",
   "metadata": {},
   "source": [
    "## What We Left Out  \n",
    "\n",
    "* CI/CD services  \n",
    "* Image registries  \n",
    "* Conferences, classes  \n",
    "* References  \n",
    "* Cloud providers  \n",
    "* Git repos with samples  \n"
   ]
  },
  {
   "cell_type": "markdown",
   "metadata": {
    "collapsed": true
   },
   "source": [
    "## Links\n",
    "\n",
    "* Agave \n",
    "* Software carpentry\n",
    "* SGCI\n",
    "* Docker\n",
    "* Singularity"
   ]
  },
  {
   "cell_type": "markdown",
   "metadata": {},
   "source": [
    "## Reading list  \n",
    "\n",
    "* Duck  \n",
    "* Duck  \n",
    "* Goose  \n"
   ]
  },
  {
   "cell_type": "code",
   "execution_count": null,
   "metadata": {
    "collapsed": true
   },
   "outputs": [],
   "source": []
  }
 ],
 "metadata": {
  "kernelspec": {
   "display_name": "Python 3",
   "language": "python",
   "name": "python3"
  },
  "language_info": {
   "codemirror_mode": {
    "name": "ipython",
    "version": 3
   },
   "file_extension": ".py",
   "mimetype": "text/x-python",
   "name": "python",
   "nbconvert_exporter": "python",
   "pygments_lexer": "ipython3",
   "version": "3.6.2"
  }
 },
 "nbformat": 4,
 "nbformat_minor": 1
}
