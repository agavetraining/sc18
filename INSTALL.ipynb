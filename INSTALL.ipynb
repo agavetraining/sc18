{
 "cells": [
  {
   "cell_type": "markdown",
   "metadata": {},
   "source": [
    "# Tutorial installation  \n",
    "\n",
    "Please run this notebook to completion to install the latest version of the tutorial notebooks on this Jupyter server."
   ]
  },
  {
   "cell_type": "code",
   "execution_count": null,
   "metadata": {
    "collapsed": true
   },
   "outputs": [],
   "source": [
    "# setting up a temp directory to checkout the git repository\n",
    "export TUTORIAL_FOLDER=\"$HOME/tutorial-$(date +%s)\"\n",
    "echo $TUTORIAL_FOLDER"
   ]
  },
  {
   "cell_type": "code",
   "execution_count": null,
   "metadata": {
    "collapsed": true
   },
   "outputs": [],
   "source": [
    "# check out the git repository\n",
    "git clone --depth 1 https://github.com/agavetraining/sc18.git $TUTORIAL_FOLDER"
   ]
  },
  {
   "cell_type": "code",
   "execution_count": null,
   "metadata": {
    "collapsed": true
   },
   "outputs": [],
   "source": [
    "# the latest notebooks should all be present\n",
    "ls -l $TUTORIAL_FOLDER  | grep \".ipynb\""
   ]
  },
  {
   "cell_type": "code",
   "execution_count": null,
   "metadata": {
    "collapsed": true
   },
   "outputs": [],
   "source": [
    "# list current tutorials\n",
    "cd $HOME\n",
    "ls -l | grep \".ipynb\""
   ]
  },
  {
   "cell_type": "code",
   "execution_count": null,
   "metadata": {
    "collapsed": true
   },
   "outputs": [],
   "source": [
    "# check that the checkout completed\n",
    "if [[ -d $TUTORIAL_FOLDER ]]; then \n",
    "    # backup current tutorials\n",
    "    mkdir -p \"$HOME/work/tutorial-backup-$(date +%s)\"\n",
    "    cp $HOME/*.ipynb $HOME/work/tutorial-backup-$(date +%s)\n",
    "\n",
    "    cp -rf $TUTORIAL_FOLDER/* .\n",
    "    \n",
    "    echo \"Installation completed successfully.\"\n",
    "else\n",
    "    echo \"Tutorial checkout directory is missing. No tutorials will be updated\"\n",
    "fi"
   ]
  },
  {
   "cell_type": "markdown",
   "metadata": {},
   "source": [
    "If the installation completed successfully, you are ready to being using the Agave Jupyter server. Please open the [00 - Introduction.ipynb](/notebooks/00%20-%20Introduction.ipynb) notebook to begin the tutorial."
   ]
  },
  {
   "cell_type": "code",
   "execution_count": null,
   "metadata": {
    "collapsed": true
   },
   "outputs": [],
   "source": []
  }
 ],
 "metadata": {
  "kernelspec": {
   "display_name": "Bash",
   "language": "bash",
   "name": "bash"
  },
  "language_info": {
   "codemirror_mode": "shell",
   "file_extension": ".sh",
   "mimetype": "text/x-sh",
   "name": "bash"
  }
 },
 "nbformat": 4,
 "nbformat_minor": 2
}
