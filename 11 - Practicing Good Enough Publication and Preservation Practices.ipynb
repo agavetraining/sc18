{
 "cells": [
  {
   "cell_type": "markdown",
   "metadata": {},
   "source": [
    "# Good Enough Practices for Scientific Computing\n",
    "\n",
    "Building on our [Code, Build, and Test.ipynb] notebook, we will introduce some best practices to help us improve our existing workflow and build towards a reproducible developement cycle. The following suggestions follow largely from \"[Good Enough Practices in Scientific Computing](https://swcarpentry.github.io/good-enough-practices-in-scientific-computing/)\".\n",
    "\n",
    "    Wilson, Greg, Jennifer Bryan, Karen Cranston, Justin Kitzes, Lex Nederbragt, and Tracy K. Teal. “Good Enough Practices in Scientific Computing.” CoRR abs/1609.00037 (2016). http://arxiv.org/abs/1609.00037.\n",
    "\n"
   ]
  },
  {
   "cell_type": "markdown",
   "metadata": {},
   "source": [
    "### Data Management\n",
    "\n",
    "\n",
    "#### Submit data to a reputable DOI-issuing repository so that others can access and cite it\n"
   ]
  },
  {
   "cell_type": "markdown",
   "metadata": {},
   "source": [
    "### Software  \n",
    "\n",
    "\n",
    "#### Submit code to a reputable DOI-issuing repository\n",
    "\n",
    "\n"
   ]
  },
  {
   "cell_type": "markdown",
   "metadata": {},
   "source": [
    "### Collaboration  \n",
    "\n",
    "\n",
    "\n",
    "#### Make the project citable  \n",
    "\n",
    "\n"
   ]
  },
  {
   "cell_type": "markdown",
   "metadata": {},
   "source": [
    "### Manual Versioning  \n",
    "\n",
    "\n",
    "#### Add a file called `CHANGELOG.txt` to the project's `docs` subfolder\n",
    "\n",
    "\n",
    "#### Copy the entire project whenever a significant change has been made      \n",
    "\n"
   ]
  },
  {
   "cell_type": "markdown",
   "metadata": {},
   "source": [
    "### Manuscripts  \n",
    "\n",
    "\n",
    "#### Write manuscripts using online tools with rich formatting, change tracking, and reference management    \n",
    "\n",
    "\n",
    "#### Write the manuscript in a plain text format that permits version control      \n",
    "\n",
    "\n"
   ]
  },
  {
   "cell_type": "markdown",
   "metadata": {},
   "source": [
    "### Supplementary Materials  \n",
    "\n",
    "Separate the results that you may expect others to reuse (e.g., data in tables, data behind figures) into separate, text-format files in formats such as CSV, JSON, YAML, XML, or HDF5\n",
    "\n"
   ]
  },
  {
   "cell_type": "markdown",
   "metadata": {},
   "source": [
    "### What We Left Out  \n",
    "\n",
    "\n",
    "#### Unit Tests  \n",
    "\n",
    "\n",
    "#### Continuous Integration  \n",
    "\n",
    "\n",
    "#### Documentation  \n",
    "\n"
   ]
  },
  {
   "cell_type": "code",
   "execution_count": null,
   "metadata": {
    "collapsed": true
   },
   "outputs": [],
   "source": []
  }
 ],
 "metadata": {
  "kernelspec": {
   "display_name": "Python 3",
   "language": "python",
   "name": "python3"
  },
  "language_info": {
   "codemirror_mode": {
    "name": "ipython",
    "version": 3
   },
   "file_extension": ".py",
   "mimetype": "text/x-python",
   "name": "python",
   "nbconvert_exporter": "python",
   "pygments_lexer": "ipython3",
   "version": "3.6.2"
  }
 },
 "nbformat": 4,
 "nbformat_minor": 1
}
