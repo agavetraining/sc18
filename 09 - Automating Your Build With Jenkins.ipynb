{
 "cells": [
  {
   "cell_type": "code",
   "execution_count": null,
   "metadata": {},
   "outputs": [],
   "source": [
    "!mkdir -p ~/agave/funwave-tvd-jenkins-pipeline\n",
    "\n",
    "%cd ~/agave/funwave-tvd-jenkins-pipeline\n",
    "\n",
    "!pip3 install --upgrade setvar\n",
    "\n",
    "import re\n",
    "import os\n",
    "import sys\n",
    "from setvar import *\n",
    "\n",
    "!auth-tokens-refresh"
   ]
  },
  {
   "cell_type": "markdown",
   "metadata": {},
   "source": [
    "\n",
    "# Commit Our App Configuration\n",
    "## Everything as Code\n",
    "From here on out, every change we make will be committed to the Funwave repository, so that we can adhere to the _Everything as Code_ principle. Everything as Code is a powerful practice, as it allows for all aspects of the software lifecycle, like code, build process, documentation, etc., to be treated with the rigor as application code.\n",
    "\n",
    "We will begin by adding a version tracker to our Funwave repository to better support build automation."
   ]
  },
  {
   "cell_type": "markdown",
   "metadata": {},
   "source": [
    "## Semantic Versioning\n",
    "Our version tracker will use the very popular _Semantic Versioning_ schema. This schema composes a version out of 3 or 4 components, each with discrete meanings:\n",
    "* **Major Version:** The first number in a semantic version increments when backwards-incompatible changes are made to the public API of a software package.\n",
    "* **Minor Version:** The second number increments when backwards-compatible features are added to a package.\n",
    "* **Patch Version:** The third number increments when bugfixes are made to software in a backwards-comptable manner.\n",
    "* **Label:** The final _(optional)_ component of a semantic version is a label indicating build and release status.\n",
    "\n",
    "\n",
    "Semantic versions offer a standardized way to communicate the evolution of a software package in a way that is meaningful to dependants. For more information on Semantic Versioning, visit the [official page](https://semver.org/).\n",
    "\n",
    "The version of funwave we're using is currently pinned at `3.1.0`. Once we add the version tracker and start working on our build automation branch we're going to be working on version `3.2.0-dev`, as we're adding backwards-compatible features that are not yet ready for release."
   ]
  },
  {
   "cell_type": "code",
   "execution_count": null,
   "metadata": {},
   "outputs": [],
   "source": [
    "!ssh sandbox \"cd ~/FUNWAVE-TVD && git checkout -b dev\"\n",
    "writefile(\"version.txt\",\"\"\"3\n",
    "2\n",
    "0\n",
    "dev\"\"\")\n",
    "!files-upload -S ${AGAVE_STORAGE_SYSTEM_ID} -F version.txt /home/jovyan/FUNWAVE-TVD/"
   ]
  },
  {
   "cell_type": "code",
   "execution_count": null,
   "metadata": {},
   "outputs": [],
   "source": [
    "!ssh sandbox \"git config --global user.email ${AGAVE_USERNAME}@sc18-demo.org\"\n",
    "!ssh sandbox \"git config --global user.name '${AGAVE_USERNAME}'\"\n",
    "!ssh sandbox \"set -x && cd ~/FUNWAVE-TVD && git add version.txt && git commit -m 'Adding version tracker.' && git checkout -b build-automation\""
   ]
  },
  {
   "cell_type": "markdown",
   "metadata": {},
   "source": [
    "# Improving Our App for Automation\n",
    "\n",
    "## Incorporate Our Version Tracker\n",
    "Now that we have a version tracker, let's restructure our Dockerfile, build wrapper, and build app to incorporate it. \n",
    "\n",
    "We'll start by modifying our Dockerfile to _copy_ the Funwave TVD code into the container, instead of cloning from the upstream repository as it was before. This ensures that the Dockerfile and resulting image won't drift from the version of the code they are intended to package. This also makes it possible to reproduce a given version of the container from the git repository, as the git history of the image and code reflect one another directly now."
   ]
  },
  {
   "cell_type": "code",
   "execution_count": null,
   "metadata": {},
   "outputs": [],
   "source": [
    "writefile(\"Dockerfile\",\"\"\"\n",
    "FROM stevenrbrandt/science-base\n",
    "MAINTAINER Steven R. Brandt <sbrandt@cct.lsu.edu>\n",
    "\n",
    "ARG BUILD_DATE\n",
    "ARG VERSION\n",
    "\n",
    "LABEL org.agaveplatform.ax.architecture=\"x86_64\"                                \\\n",
    "      org.agaveplatform.ax.build-date=\"\\$BUILD_DATE\"                             \\\n",
    "      org.agaveplatform.ax.version=\"\\$VERSION\"                             \\\n",
    "      org.agaveplatform.ax.name=\"${AGAVE_USERNAME}/funwave-tvd\"    \\\n",
    "      org.agaveplatform.ax.summary=\"Funwave-TVD is a code to simulate the shallow water and Boussinesq equations written by Dr. Fengyan Shi.\" \\\n",
    "      org.agaveplatform.ax.vcs-type=\"git\"                                       \\\n",
    "      org.agaveplatform.ax.vcs-url=\"https://github.com/fengyanshi/FUNWAVE-TVD\" \\\n",
    "      org.agaveplatform.ax.license=\"BSD 3-clause\"\n",
    "      \n",
    "USER root\n",
    "RUN mkdir -p /home/install/FUNWAVE-TVD\n",
    "RUN chown jovyan /home/install/FUNWAVE-TVD\n",
    "COPY --chown jovyan ./* /home/install/FUNWAVE-TVD/\n",
    "USER jovyan\n",
    "\n",
    "WORKDIR /home/install/FUNWAVE-TVD/src\n",
    "RUN perl -p -i -e 's/FLAG_8 = -DCOUPLING/#$&/' Makefile && \\\n",
    "    make\n",
    "\n",
    "RUN mkdir -p /home/jovyan/rundir\n",
    "WORKDIR /home/jovyan/rundir\n",
    "\"\"\")\n",
    "!files-upload -S ${AGAVE_STORAGE_SYSTEM_ID} -F Dockerfile /home/jovyan/FUNWAVE-TVD/"
   ]
  },
  {
   "cell_type": "markdown",
   "metadata": {},
   "source": [
    "## Applying the Version to Every Build\n",
    "Let's also modify our build wrapper to construct the app version from the version tracker in a given commit, and then assign that constructed version to the Docker build arguments. After this change, we will have a single build wrapper that will always build a Docker image with the correct version for the commit."
   ]
  },
  {
   "cell_type": "code",
   "execution_count": null,
   "metadata": {},
   "outputs": [],
   "source": [
    "writefile(\"funwave-build-wrapper.txt\",\"\"\"\n",
    "\n",
    "VERSION=$(cat version.txt | paste -sd \".\" -)\n",
    "\n",
    "sudo docker build \\\n",
    "    --build-arg \"BUILD_DATE=\\${AGAVE_JOB_SUBMIT_TIME}\" \\\n",
    "    --build-arg \"VERSION=\\${VERSION}\" \\\n",
    "    --rm -t funwave-tvd:\\${VERSION} .\n",
    "\n",
    "docker inspect funwave-tvd:\\${VERSION}\n",
    "\n",
    "\"\"\")\n",
    "!files-upload -S ${AGAVE_STORAGE_SYSTEM_ID} -F funwave-build-wrapper.txt /home/jovyan/FUNWAVE-TVD/"
   ]
  },
  {
   "cell_type": "code",
   "execution_count": null,
   "metadata": {},
   "outputs": [],
   "source": [
    "writefile(\"funwave-build-app.txt\",\"\"\"\n",
    "{  \n",
    "   \"name\":\"${AGAVE_USERNAME}-${MACHINE_NAME}-funwave-dbuild\",\n",
    "   \"version\":\"1.0\",\n",
    "   \"label\":\"Builds the funwave docker image\",\n",
    "   \"shortDescription\":\"Funwave docker build\",\n",
    "   \"longDescription\":\"\",\n",
    "   \"deploymentSystem\":\"${AGAVE_STORAGE_SYSTEM_ID}\",\n",
    "   \"deploymentPath\":\"automation/funwave-tvd-docker-automation\",\n",
    "   \"templatePath\":\"funwave-build-wrapper.txt\",\n",
    "   \"testPath\":\"test.txt\",\n",
    "   \"executionSystem\":\"${AGAVE_EXECUTION_SYSTEM_ID}\",\n",
    "   \"executionType\":\"CLI\",\n",
    "   \"parallelism\":\"SERIAL\",\n",
    "   \"modules\":[],\n",
    "   \"inputs\":[],\n",
    "   \"parameters\":[{\n",
    "     \"id\" : \"code_version\",\n",
    "     \"value\" : {\n",
    "       \"visible\":true,\n",
    "       \"required\":true,\n",
    "       \"type\":\"string\",\n",
    "       \"order\":0,\n",
    "       \"enquote\":false,\n",
    "       \"default\":\"latest\"\n",
    "     },\n",
    "     \"details\":{\n",
    "         \"label\": \"Version of the code\",\n",
    "         \"description\": \"If true, output will be packed and compressed\",\n",
    "         \"argument\": null,\n",
    "         \"showArgument\": false,\n",
    "         \"repeatArgument\": false\n",
    "     },\n",
    "     \"semantics\":{\n",
    "         \"argument\": null,\n",
    "         \"showArgument\": false,\n",
    "         \"repeatArgument\": false\n",
    "     }\n",
    "   }],\n",
    "   \"outputs\":[]\n",
    "}\n",
    "\"\"\")\n",
    "!files-upload -S ${AGAVE_STORAGE_SYSTEM_ID} -F funwave-build-app.txt /home/jovyan/FUNWAVE-TVD/"
   ]
  },
  {
   "cell_type": "markdown",
   "metadata": {},
   "source": [
    "# Build Automatically On Each Commit\n",
    "We now have a build app that will build a Docker image containing Funwave at a given point in git history, and apply meaningful metadata about the app and version derived from repository contents. It's all repeatable too, so the next step is to perform this process automatically upon each repository events, like commits, merges, and so forth."
   ]
  },
  {
   "cell_type": "markdown",
   "metadata": {},
   "source": [
    "## Jenkins: An Automation Platform\n",
    "Jenkins is a widely-used platform for task automation that evolved from a software build system. Jenkins is open-source, free-to-use, and its feature set is largely driven by third-party extensions. The platform forms the backbone of many CI/CD architectures.\n",
    "\n",
    "There are many alternatives ranging from cloud services like CircleCI and Travis CI, to locally-installable software like GoCD. For this tutorial we'll be using Jenkins, as it it is locally-installable and tends to be the most widely used option."
   ]
  },
  {
   "cell_type": "markdown",
   "metadata": {},
   "source": [
    "## Components of a Build Pipeline\n",
    "The fundamental component of Jenkins task automation is a job, which defines a series of steps that jenkins will execute when triggered. There are two primary types of jobs supported by Jenkins: the freestyle job, and the pipeline job. Freestyle jobs are the easiest to set up initially, but they are difficult to manage over time and they necessarily separate build and deployment code from application code, giving you a split perspective on your project.\n",
    "\n",
    "Pipeline jobs provide a mechanism to package the steps you wish Jenkins to automate directly into your application repository, more closely following the Everything as Code principle. Pipeline jobs are the direction that the Jenkins community is moving towards, and makes up the foundation of Blue Ocean. We'll be focusing on pipeline jobs in this tutorial.\n",
    "\n",
    "A Jenkins pipeline consists of the following components:\n",
    "* **Jenkinsfile:** This is a Groovy script named `Jenkinsfile` that exists in the root level of your repository, and defines the steps that Jenkins will execute when a pipeline is started.\n",
    "* **Source Repository:** The VCS system or repository that contains the content you wish to automate. In our case, it is the Funwave TVD repository containing the application code, build app, and Dockerfile.\n",
    "* **Triggers:** These are events, often time-based events or git lifecycle events, that Jenkins will watch for. When a trigger event occurs, Jenkins will start the associated pipeline.\n",
    "* **Build environment:** The environment that your build process will be executed in. In our case, it is the Agave build app.\n",
    "* **Secrets and Config:** Credentials and site-specific configuration necessary for your build pipeline. There are a variety of strategies for managing these, some of which are discussed in the _Recommended Reading_ for this section. For simplicity, we will simply include config and secrets in the pipeline in the tutorial pipeline.\n",
    "* **Notifications:** This is how Jenkins will _(or won't)_ alert users of build status. Often email, Slack, etc."
   ]
  },
  {
   "cell_type": "markdown",
   "metadata": {},
   "source": [
    "## Create Our Jenkins Pipeline\n",
    "We have already configured a pipeline in the tutorial Jenkins instance for you, so all that's left is to upload the Jenkinsfile it will be looking for when triggered. You can view the Jenkinsfile [here](/edit/notebooks/Jenkinsfile): "
   ]
  },
  {
   "cell_type": "code",
   "execution_count": null,
   "metadata": {},
   "outputs": [],
   "source": [
    "!files-upload -S ${AGAVE_STORAGE_SYSTEM_ID} -F /home/jovyan/notebooks/Jenkinsfile /home/jovyan/FUNWAVE-TVD/"
   ]
  },
  {
   "cell_type": "markdown",
   "metadata": {},
   "source": [
    "### Triggering our Jenkins Pipeline From a Commit\n",
    "Now that we've added a Jenkinsfile to our repository we need to set up a trigger that starts the Jenkins pipeline after a `git commit`. Normally, this trigger would either be a cron-style process that checks for changes to a repository at regular intervals, or a GitHub webhook our Jenkins server has been attached to. Since our local repository is neither publicly-accessible in its current nor do we have the time to wait for a polling interval, we will instead trigger the build pipeline post-commit by way of _Git Hooks_.\n",
    "\n",
    "A Git Hook is a user-definable script that executes during particular git repository lifecycle events. Hooks are defined by adding an executable script bearing the named of a particular hook  to a directory named `$GIT_DIR/hooks`. Non-executable hook scripts are ignored. Further documentation on Git Hooks can be found on [git-scm](https://git-scm.com/docs/githooks).\n",
    "\n",
    "For our use case, we'll want to use the `post-commit` hook, which will fire after each commit. The below hook script will perform a simple curl on the Jenkins URL for our pipeline to kick off the build. We'll also do a `git update-index` to make sure that the post-commit hook is always executable after cloning."
   ]
  },
  {
   "cell_type": "code",
   "execution_count": null,
   "metadata": {},
   "outputs": [],
   "source": [
    "# Post-commit hook to trigger Jenkins job via curl\n",
    "\n",
    "import os\n",
    "\n",
    "agave_username = os.environ.get('AGAVE_USERNAME', '')\n",
    "agave_password = os.environ.get('AGAVE_PASSWORD', '')\n",
    "\n",
    "script_template = \"\"\"#!/bin/bash\n",
    "wget --auth-no-challenge \\\n",
    "     --http-user='{}' \\\n",
    "     --http-password='{}' \\\n",
    "     'jenkins:8080/jenkins/job/funwave-build-pipeline/build?token=sc18-training-job'\n",
    "\"\"\"\n",
    "\n",
    "script_content = script_template.format(agave_username, agave_password)\n",
    "with open('post-commit', 'w') as post_commit_script:\n",
    "    post_commit_script.write(script_content)\n",
    "\n",
    "!files-mkdir -S ${AGAVE_STORAGE_SYSTEM_ID} -N /home/jovyan/FUNWAVE-TVD/.git/hooks\n",
    "!files-upload -S ${AGAVE_STORAGE_SYSTEM_ID} -F post-commit /home/jovyan/FUNWAVE-TVD/.git/hooks/"
   ]
  },
  {
   "cell_type": "code",
   "execution_count": null,
   "metadata": {},
   "outputs": [],
   "source": [
    "# Set the hook to executable so that it won't be ignored.\n",
    "!ssh sandbox \"set -x && cd ~/FUNWAVE-TVD/ && chmod +x .git/hooks/post-commit\""
   ]
  },
  {
   "cell_type": "markdown",
   "metadata": {},
   "source": [
    "# Commit Your Code, Start Your Pipeline\n",
    "We've updated our build app for automation and added it to the repo, added a pipeline definition, and a mechanism to trigger the build on each commit. Now all that's left for us to do is commit our changes and watch the pipeline run! Once you've committed your changes, you can view the running pipeline by navigating to the Jenkins pipeline URL:\n",
    "\n",
    "https://<username\\>.sc18.training.agaveplatform.org/jenkins/job"
   ]
  },
  {
   "cell_type": "code",
   "execution_count": null,
   "metadata": {},
   "outputs": [],
   "source": [
    "!ssh sandbox \"set -x && cd ~/FUNWAVE-TVD && git add Dockerfile funwave-build-wrapper.txt funwave-build-app.txt Jenkinsfile\"\n",
    "!ssh sandbox \"cd ~/FUNWAVE-TVD && git commit -m 'Added jenkinsfile and post-commit hook.'\""
   ]
  },
  {
   "cell_type": "code",
   "execution_count": null,
   "metadata": {},
   "outputs": [],
   "source": [
    "!ssh sandbox \"cd ~/FUNWAVE-TVD && git checkout dev && git merge --squash build-automation\""
   ]
  }
 ],
 "metadata": {
  "kernelspec": {
   "display_name": "Python 3",
   "language": "python",
   "name": "python3"
  },
  "language_info": {
   "codemirror_mode": {
    "name": "ipython",
    "version": 3
   },
   "file_extension": ".py",
   "mimetype": "text/x-python",
   "name": "python",
   "nbconvert_exporter": "python",
   "pygments_lexer": "ipython3",
   "version": "3.6.2"
  }
 },
 "nbformat": 4,
 "nbformat_minor": 2
}
