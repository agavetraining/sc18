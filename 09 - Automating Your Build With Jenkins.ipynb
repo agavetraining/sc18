{
 "cells": [
  {
   "cell_type": "code",
   "execution_count": null,
   "metadata": {},
   "outputs": [],
   "source": [
    "!mkdir -p ~/agave/funwave-tvd-jenkins-pipeline\n",
    "\n",
    "%cd ~/agave/funwave-tvd-jenkins-pipeline\n",
    "\n",
    "!pip3 install --upgrade setvar\n",
    "\n",
    "import re\n",
    "import os\n",
    "import sys\n",
    "import time\n",
    "from setvar import *\n",
    "\n",
    "!auth-tokens-refresh"
   ]
  },
  {
   "cell_type": "markdown",
   "metadata": {},
   "source": [
    "\n",
    "# Commit Our App Configuration\n",
    "## Everything as Code\n",
    "From here on out, every change we make will be committed to the Funwave repository, so that we can adhere to the _Everything as Code_ principle. Everything as Code is a powerful practice, as it allows for all aspects of the software lifecycle, like code, build process, documentation, etc., to be treated with the rigor as application code.\n",
    "\n",
    "We will begin by adding a version tracker to our Funwave repository to better support build automation."
   ]
  },
  {
   "cell_type": "markdown",
   "metadata": {},
   "source": [
    "## Semantic Versioning\n",
    "Our version tracker will use the very popular _Semantic Versioning_ schema. This schema composes a version out of 3 or 4 components, each with discrete meanings:\n",
    "* **Major Version:** The first number in a semantic version increments when backwards-incompatible changes are made to the public API of a software package.\n",
    "* **Minor Version:** The second number increments when backwards-compatible features are added to a package.\n",
    "* **Patch Version:** The third number increments when bugfixes are made to software in a backwards-comptable manner.\n",
    "* **Label:** The final _(optional)_ component of a semantic version is a label indicating build and release status.\n",
    "\n",
    "\n",
    "Semantic versions offer a standardized way to communicate the evolution of a software package in a way that is meaningful to dependants. For more information on Semantic Versioning, visit the [official page](https://semver.org/).\n",
    "\n",
    "The version of funwave we're using is currently pinned at `3.1.0`. Once we add the version tracker and start working on our build automation branch we're going to be working on version `3.2.0-dev`, as we're adding backwards-compatible features that are not yet ready for release."
   ]
  },
  {
   "cell_type": "code",
   "execution_count": null,
   "metadata": {},
   "outputs": [],
   "source": [
    "!ssh sandbox \"cd ~/FUNWAVE-TVD && git checkout -b dev\"\n",
    "writefile(\"version.txt\",\"\"\"3\n",
    "2\n",
    "0\n",
    "dev\"\"\")\n",
    "!files-upload -S ${AGAVE_STORAGE_SYSTEM_ID} -F version.txt /home/jovyan/FUNWAVE-TVD/\n",
    "time.sleep(2)"
   ]
  },
  {
   "cell_type": "code",
   "execution_count": null,
   "metadata": {},
   "outputs": [],
   "source": [
    "!ssh sandbox \"git config --global user.email ${AGAVE_USERNAME}@sc18-demo.org\"\n",
    "!ssh sandbox \"git config --global user.name '${AGAVE_USERNAME}'\"\n",
    "!ssh sandbox \"set -x && cd ~/FUNWAVE-TVD && git add version.txt && git commit -m 'Adding version tracker.' && git checkout -b build-automation\""
   ]
  },
  {
   "cell_type": "markdown",
   "metadata": {},
   "source": [
    "# Improving Our App for Automation\n",
    "\n",
    "## Incorporate Our Version Tracker\n",
    "Now that we have a version tracker, let's restructure our Dockerfile, build wrapper, and build app to incorporate it. \n",
    "\n",
    "We'll start by modifying our Dockerfile to _copy_ the Funwave TVD code into the container, instead of cloning from the upstream repository as it was before. This ensures that the Dockerfile and resulting image won't drift from the version of the code they are intended to package. This also makes it possible to reproduce a given version of the container from the git repository, as the git history of the image and code reflect one another directly now."
   ]
  },
  {
   "cell_type": "code",
   "execution_count": null,
   "metadata": {},
   "outputs": [],
   "source": [
    "writefile(\"Dockerfile\",\"\"\"\n",
    "FROM stevenrbrandt/science-base\n",
    "MAINTAINER Steven R. Brandt <sbrandt@cct.lsu.edu>\n",
    "\n",
    "ARG BUILD_DATE\n",
    "ARG VERSION\n",
    "\n",
    "\n",
    "LABEL org.agaveplatform.ax.architecture=\"x86_64\"                                \\\n",
    "      org.agaveplatform.ax.build-date=\"\\$BUILD_DATE\"                             \\\n",
    "      org.agaveplatform.ax.version=\"\\$VERSION\"                             \\\n",
    "      org.agaveplatform.ax.name=\"${AGAVE_USERNAME}/funwave-tvd\"    \\\n",
    "      org.agaveplatform.ax.summary=\"Funwave-TVD is a code to simulate the shallow water and Boussinesq equations written by Dr. Fengyan Shi.\" \\\n",
    "      org.agaveplatform.ax.vcs-type=\"git\"                                       \\\n",
    "      org.agaveplatform.ax.vcs-url=\"https://github.com/fengyanshi/FUNWAVE-TVD\" \\\n",
    "      org.agaveplatform.ax.license=\"BSD 3-clause\"\n",
    "      \n",
    "USER root\n",
    "RUN mkdir -p /home/install/FUNWAVE-TVD/\n",
    "RUN chown jovyan /home/install/FUNWAVE-TVD/\n",
    "COPY --chown=jovyan:jovyan ./ /home/install/FUNWAVE-TVD\n",
    "USER jovyan\n",
    "\n",
    "WORKDIR /home/install/FUNWAVE-TVD/src\n",
    "RUN perl -p -i -e 's/FLAG_8 = -DCOUPLING/#$&/' Makefile && \\\n",
    "    make\n",
    "\n",
    "RUN mkdir -p /home/jovyan/rundir\n",
    "WORKDIR /home/jovyan/rundir\n",
    "\"\"\")\n",
    "!files-mkdir -S ${AGAVE_STORAGE_SYSTEM_ID} -N /home/jovyan/FUNWAVE-TVD/build/\n",
    "!files-upload -S ${AGAVE_STORAGE_SYSTEM_ID} -F Dockerfile /home/jovyan/FUNWAVE-TVD/"
   ]
  },
  {
   "cell_type": "markdown",
   "metadata": {},
   "source": [
    "## Applying the Version to Every Build\n",
    "Let's also modify our build wrapper to construct the app version from the version tracker in a given commit, and then assign that constructed version to the Docker build arguments. After this change, we will have a single build wrapper that will always build a Docker image with the correct version for the commit.\n",
    "\n",
    "We'll also make sure that the Funwave commit is the same in both the Jenkins build and the deploy environment by supplying the commit hash in a file called `commit.txt`, which will be defined dynamically in the Jenkins pipeline. More on this later."
   ]
  },
  {
   "cell_type": "code",
   "execution_count": null,
   "metadata": {},
   "outputs": [],
   "source": [
    "writefile(\"funwave-build-wrapper.txt\",\"\"\"\n",
    "\n",
    "VERSION=\\$(cat version.txt | paste -sd \"..-\" -)\n",
    "COMMIT=\\$(cat commit.txt)\n",
    "\n",
    "git clone /home/jovyan/FUNWAVE-TVD\n",
    "cd FUNWAVE-TVD\n",
    "git checkout \\$COMMIT\n",
    "\n",
    "sudo docker build \\\n",
    "    --build-arg \"BUILD_DATE=\\${AGAVE_JOB_SUBMIT_TIME}\" \\\n",
    "    --build-arg \"VERSION=\\${VERSION}\" \\\n",
    "    --rm -t funwave-tvd:\\${VERSION} .\n",
    "\n",
    "docker inspect funwave-tvd:\\${VERSION}\n",
    "\n",
    "\"\"\")\n",
    "!files-upload -S ${AGAVE_STORAGE_SYSTEM_ID} -F funwave-build-wrapper.txt /home/jovyan/FUNWAVE-TVD/build/"
   ]
  },
  {
   "cell_type": "code",
   "execution_count": null,
   "metadata": {},
   "outputs": [],
   "source": [
    "writefile(\"funwave-build-app.txt\",\"\"\"\n",
    "{  \n",
    "   \"name\":\"${AGAVE_USERNAME}-${MACHINE_NAME}-funwave-dbuild\",\n",
    "   \"version\":\"3.2.0\",\n",
    "   \"label\":\"Builds the funwave docker image\",\n",
    "   \"shortDescription\":\"Funwave docker build\",\n",
    "   \"longDescription\":\"\",\n",
    "   \"deploymentSystem\":\"${AGAVE_STORAGE_SYSTEM_ID}\",\n",
    "   \"deploymentPath\":\"funwave-jenkins-build/\",\n",
    "   \"templatePath\":\"funwave-build-wrapper.txt\",\n",
    "   \"testPath\":\"version.txt\",\n",
    "   \"executionSystem\":\"${AGAVE_EXECUTION_SYSTEM_ID}\",\n",
    "   \"executionType\":\"CLI\",\n",
    "   \"parallelism\":\"SERIAL\",\n",
    "   \"modules\":[],\n",
    "   \"inputs\":[],\n",
    "   \"parameters\":[{\n",
    "     \"id\" : \"code_version\",\n",
    "     \"value\" : {\n",
    "       \"visible\":true,\n",
    "       \"required\":true,\n",
    "       \"type\":\"string\",\n",
    "       \"order\":0,\n",
    "       \"enquote\":false,\n",
    "       \"default\":\"latest\"\n",
    "     },\n",
    "     \"details\":{\n",
    "         \"label\": \"Version of the code\",\n",
    "         \"description\": \"If true, output will be packed and compressed\",\n",
    "         \"argument\": null,\n",
    "         \"showArgument\": false,\n",
    "         \"repeatArgument\": false\n",
    "     },\n",
    "     \"semantics\":{\n",
    "         \"argument\": null,\n",
    "         \"showArgument\": false,\n",
    "         \"repeatArgument\": false\n",
    "     }\n",
    "   }],\n",
    "   \"outputs\":[]\n",
    "}\n",
    "\"\"\")\n",
    "!files-upload -S ${AGAVE_STORAGE_SYSTEM_ID} -F funwave-build-app.txt /home/jovyan/FUNWAVE-TVD/build/"
   ]
  },
  {
   "cell_type": "markdown",
   "metadata": {},
   "source": [
    "# Build Automatically On Each Commit\n",
    "We now have a build app that will build a Docker image containing Funwave at a given point in git history, and apply meaningful metadata about the app and version derived from repository contents. It's all repeatable too, so the next step is to perform this process automatically upon each repository events, like commits, merges, and so forth."
   ]
  },
  {
   "cell_type": "markdown",
   "metadata": {},
   "source": [
    "## Jenkins: An Automation Platform\n",
    "Jenkins is a widely-used platform for task automation that evolved from a software build system. Jenkins is open-source, free-to-use, and its feature set is largely driven by third-party extensions. The platform forms the backbone of many CI/CD architectures.\n",
    "\n",
    "There are many alternatives ranging from cloud services like CircleCI and Travis CI, to locally-installable software like GoCD. For this tutorial we'll be using Jenkins, as it it is locally-installable and tends to be the most widely used option."
   ]
  },
  {
   "cell_type": "markdown",
   "metadata": {},
   "source": [
    "## Components of a Build Pipeline\n",
    "The fundamental component of Jenkins task automation is a job, which defines a series of steps that jenkins will execute when triggered. There are two primary types of jobs supported by Jenkins: the freestyle job, and the pipeline job. Freestyle jobs are the easiest to set up initially, but they are difficult to manage over time and they necessarily separate build and deployment code from application code, giving you a split perspective on your project.\n",
    "\n",
    "Pipeline jobs provide a mechanism to package the steps you wish Jenkins to automate directly into your application repository, more closely following the Everything as Code principle. Pipeline jobs are the direction that the Jenkins community is moving towards, and makes up the foundation of Blue Ocean. We'll be focusing on pipeline jobs in this tutorial.\n",
    "\n",
    "A Jenkins pipeline consists of the following components:\n",
    "* **Jenkinsfile:** This is a Groovy script named `Jenkinsfile` that exists in the root level of your repository, and defines the steps that Jenkins will execute when a pipeline is started.\n",
    "* **Source Repository:** The VCS system or repository that contains the content you wish to automate. In our case, it is the Funwave TVD repository containing the application code, build app, and Dockerfile.\n",
    "* **Triggers:** These are events, often time-based events or git lifecycle events, that Jenkins will watch for. When a trigger event occurs, Jenkins will start the associated pipeline.\n",
    "* **Build environment:** The environment that your build process will be executed in. In our case, it is the Agave build app.\n",
    "* **Parameters:** Arguments supplied to the job at runtime that exposed to the pipeline script as environment variables.\n",
    "* **Secrets and Config:** Credentials and site-specific configuration necessary for your build pipeline. There are a variety of strategies for managing these, some of which are discussed in the _Recommended Reading_ for this section. For simplicity, we will simply include config and secrets in the pipeline in the tutorial pipeline.\n",
    "* **Notifications:** This is how Jenkins will _(or won't)_ alert users of build status. Often email, Slack, etc."
   ]
  },
  {
   "cell_type": "markdown",
   "metadata": {},
   "source": [
    "## Create Our Jenkins Pipeline\n",
    "We have already configured a pipeline in the tutorial Jenkins instance for you, so all that's left is to upload the Jenkinsfile it will be looking for when triggered. You can view the Jenkinsfile [here](/edit/notebooks/build/Jenkinsfile): "
   ]
  },
  {
   "cell_type": "code",
   "execution_count": null,
   "metadata": {},
   "outputs": [],
   "source": [
    "!files-upload -S ${AGAVE_STORAGE_SYSTEM_ID} -F /home/jovyan/notebooks/build/Jenkinsfile /home/jovyan/FUNWAVE-TVD/build/"
   ]
  },
  {
   "cell_type": "markdown",
   "metadata": {},
   "source": [
    "### Triggering our Jenkins Pipeline From a Commit\n",
    "Now that we've added a Jenkinsfile to our repository we need to set up a trigger that starts the Jenkins pipeline after a `git commit`. Normally, this trigger would either be a cron-style process that checks for changes to a repository at regular intervals, or a GitHub webhook our Jenkins server has been attached to. Since our local repository is neither publicly-accessible in its current nor do we have the time to wait for a polling interval, we will instead trigger the build pipeline post-commit by way of _Git Hooks_.\n",
    "\n",
    "A Git Hook is a user-definable script that executes during particular git repository lifecycle events. Hooks are defined by adding an executable script bearing the named of a particular hook  to a directory named `$GIT_DIR/hooks`. Non-executable hook scripts are ignored. Further documentation on Git Hooks can be found on [git-scm](https://git-scm.com/docs/githooks).\n",
    "\n",
    "For our use case, we'll want to use the `post-commit` hook, which will fire after each commit. The below hook script will perform a simple curl on the Jenkins URL for our pipeline to kick off the build. We'll also do a `git update-index` to make sure that the post-commit hook is always executable after cloning."
   ]
  },
  {
   "cell_type": "code",
   "execution_count": null,
   "metadata": {},
   "outputs": [],
   "source": [
    "# Post-commit hook to trigger Jenkins job via curl\n",
    "\n",
    "import os\n",
    "\n",
    "agave_username = os.environ.get('AGAVE_USERNAME', '')\n",
    "agave_password = os.environ.get('AGAVE_PASSWORD', '')\n",
    "\n",
    "script_template = \"\"\"#!/bin/bash\n",
    "wget --auth-no-challenge \\\n",
    "     --http-user='{}' \\\n",
    "     --http-password='{}' \\\n",
    "     'jenkins:8080/jenkins/job/funwave-build-pipeline/buildWithParameters?token=sc18-training-job&JOB_TYPE=build'\n",
    "\"\"\"\n",
    "\n",
    "script_content = script_template.format(agave_username, agave_password)\n",
    "with open('post-commit', 'w') as post_commit_script:\n",
    "    post_commit_script.write(script_content)\n",
    "\n",
    "!files-mkdir -S ${AGAVE_STORAGE_SYSTEM_ID} -N /home/jovyan/FUNWAVE-TVD/.git/hooks\n",
    "!files-upload -S ${AGAVE_STORAGE_SYSTEM_ID} -F post-commit /home/jovyan/FUNWAVE-TVD/.git/hooks/\n",
    "time.sleep(2)"
   ]
  },
  {
   "cell_type": "code",
   "execution_count": null,
   "metadata": {},
   "outputs": [],
   "source": [
    "# Set the hook to executable so that it won't be ignored.\n",
    "!ssh sandbox \"set -x && cd ~/FUNWAVE-TVD/ && chmod +x .git/hooks/post-commit\""
   ]
  },
  {
   "cell_type": "markdown",
   "metadata": {},
   "source": [
    "# Commit Your Code, Start Your Pipeline\n",
    "We've updated our build app for automation and added it to the repo, added a pipeline definition, and a mechanism to trigger the build on each commit. Now all that's left for us to do is commit our changes and watch the pipeline run! Once you've committed your changes, you can view the running pipeline by navigating to the Jenkins pipeline URL:\n",
    "\n",
    "https://<username\\>.sc18.training.agaveplatform.org/jenkins/job"
   ]
  },
  {
   "cell_type": "code",
   "execution_count": null,
   "metadata": {},
   "outputs": [],
   "source": [
    "!ssh sandbox \"set -x && cd ~/FUNWAVE-TVD && git add Dockerfile build\"\n",
    "!ssh sandbox \"cd ~/FUNWAVE-TVD && git commit -m 'Added jenkinsfile and post-commit hook.'\""
   ]
  },
  {
   "cell_type": "code",
   "execution_count": null,
   "metadata": {},
   "outputs": [],
   "source": [
    "!ssh sandbox \"cd ~/FUNWAVE-TVD && git checkout dev && git merge --squash build-automation\""
   ]
  },
  {
   "cell_type": "markdown",
   "metadata": {},
   "source": [
    "# Our Jenkinsfile, explained\n",
    "Let's review the contents of our Jenkinsfile, and discuss some of it's key components. For a full view of the Jenkinsfile, you can open it up in the [file editor](/edit/notebooks/Jenkinsfile).\n",
    "\n",
    "## Pipeline syntaxes\n",
    "Jenkinsfiles may be authored in one of two discrete syntaxes: _[Scripted](https://jenkins.io/doc/book/pipeline/syntax/#scripted-pipeline)_ or _[Declarative](https://jenkins.io/doc/book/pipeline/syntax/#declarative-pipeline)_. For this pipeline we elected to use the Scripted syntax due to its flexibility and closer resemblance to typical build scripts.\n",
    "\n",
    "At a high level Scripted pipelines are comprised of a Jenkins DSL written in Groovy, and with a few exceptions Groovy functionality is available for use within the pipeline script."
   ]
  },
  {
   "cell_type": "markdown",
   "metadata": {},
   "source": [
    "## Build workspaces, flow control, and parameters\n",
    "Each Jenkins pipeline requires a declaration of where the stages within will run. For our pipeline we used the `node` directive to wrap all stages, which tells Jenkins that any agent will suffice, and that all the build stages should be run on the same agent.\n",
    "\n",
    "We use the common try/catch/finally pattern for state and flow control in our pipeline. If any unhandled error occurs, or if an error and caught and thrown again, the pipeline status will be set to `FAILURE` and the pipeline will terminate. This pattern is frequently used for Scripted pipelines.\n",
    "\n",
    "An extremely important object to most pipelines is `env`. The `env` object exposes environment variables to the build script as instance attributes with the same name. We've parameterized our Jenkins job so we can specify `JOB_TYPE` at runtime to eliminate code duplication between build and benchmark jobs, as the two vary only by a keyword. Parameters are exposed to the pipeline script as environment variables, so we can access them via the `env` object.\n",
    "\n",
    "```groovy\n",
    "import groovy.json.JsonOutput\n",
    "\n",
    "\n",
    "node {\n",
    "  currentBuild.result = \"SUCCESS\"\n",
    "\n",
    "  env.AGAVE_TENANTS_API_BASEURL = \"https://sandbox.agaveplatform.org/tenants\"\n",
    "  env.MACHINE_NAME = \"sandbox\"\n",
    "  env.AGAVE_APP_NAME = \"funwave-tvd-${env.JOB_TYPE}-${env.AGAVE_USERNAME}\"\n",
    "  env.AGAVE_CLIENT_NAME = \"jenkins-cli-${env.AGAVE_USERNAME}\"\n",
    "  env.AGAVE_STORAGE_SYSTEM_ID = \"sandbox-storage-${env.AGAVE_USERNAME}\"\n",
    "  env.DEPLOYMENT_PATH = \"/home/jovyan/funwave-jenkins-${env.JOB_TYPE}/\"\n",
    "\n",
    "  try {\n",
    "    // ... Build stages\n",
    "  } catch (error) {\n",
    "    currentBuild.result = \"FAILURE\"\n",
    "    throw error\n",
    "  }\n",
    "}\n",
    "// ... Post-build triggers\n",
    "```"
   ]
  },
  {
   "cell_type": "markdown",
   "metadata": {},
   "source": [
    "## Stages, and setting up the Agave CLI\n",
    "Jenkins pipelines group individual _Steps_ of work into _Stages_. Stages allow for subsets of your build steps to be provided with environment, agents, and configuration that are distinct from other stages. In the first stage of our pipeline, we go through the process illustrated in Notebook 05 to set up the Agave CLI so that the Jenkins environment can interact with our Agave app.\n",
    "\n",
    "After we've set up the Agave CLI, the next stage of our pipeline uses the `checkout scm` DSL command to clone the commit being built from the SCM configuration in the Jenkins job.\n",
    "\n",
    "```groovy\n",
    "stage(\"Set up Agave CLI\") {\n",
    "  try {\n",
    "    sh \"tenants-list\"\n",
    "    sh \"tenants-init -t sandbox\"\n",
    "  } catch (error) {\n",
    "    print \"Tenant already initialized\"\n",
    "  }\n",
    "\n",
    "  try {\n",
    "    sh \"clients-delete -u '${env.AGAVE_USERNAME}' -p '${env.AGAVE_PASSWORD}' ${env.AGAVE_APP_NAME}\"\n",
    "  } catch (error) {\n",
    "    print \"Cannot delete client: ${env.AGAVE_APP_NAME} does not exist\"\n",
    "  }\n",
    "\n",
    "  try {\n",
    "    sh \"clients-create -u '${env.AGAVE_USERNAME}' -p '${env.AGAVE_PASSWORD}' -N '${env.AGAVE_APP_NAME}' -S\"\n",
    "  } catch (error) {\n",
    "    print \"Cannot create client: ${env.AGAVE_APP_NAME} already exists\"\n",
    "  }\n",
    "\n",
    "  try {\n",
    "    sh \"auth-tokens-create -u '${env.AGAVE_USERNAME}' -p '${env.AGAVE_PASSWORD}' \"\n",
    "  } catch (error) {\n",
    "    print \"Cannot create auth tokens for CLI. Aborting...\"\n",
    "    throw error\n",
    "  }\n",
    "}\n",
    "\n",
    "stage(\"Clone Funwave TVD\") {\n",
    "  checkout scm\n",
    "}\n",
    "```"
   ]
  },
  {
   "cell_type": "markdown",
   "metadata": {},
   "source": [
    "## Configuring the deployment path and updating the Agave app\n",
    "The third stage of our pipeline generates and uploads all of the resources needed to bootstrap our Agave build app to the Agave deployment path. These resources include the Dockerfile, wrapper script, app spec, and version tracker we committed above. We've also added a new file that Jenkins dynamically generates on each build called `commit.txt`. This file stores the hash of the commit currently being built so that the `git clone` step of the wrapper script will be operating on the same version of the code as the Jenkins pipeline.\n",
    "\n",
    "Once all the necessary resources have been uploaded to the deploy path successfully, the Agave build app is updated from the new spec.\n",
    "\n",
    "As mentioned above, the Jenkins pipeline runs a DSL implemented in Groovy, and not _all_ of Groovy's built-ins are available for use in your pipeline. An example of a Groovy feature that cannot be used is the `File` object. Instead, if you wish to write to a file in your pipeline you must use the [`writeFile` function](https://jenkins.io/doc/pipeline/steps/workflow-basic-steps/#writefile-write-file-to-workspace) provided by the DSL.\n",
    "\n",
    "```groovy\n",
    "stage(\"Configure deployment path\") {\n",
    "  try {\n",
    "    sh \"files-mkdir -S ${env.AGAVE_STORAGE_SYSTEM_ID} -N ${env.DEPLOYMENT_PATH}\"\n",
    "    sh \"files-upload -S ${env.AGAVE_STORAGE_SYSTEM_ID} -F build/funwave-${env.JOB_TYPE}-wrapper.txt ${env.DEPLOYMENT_PATH}\"\n",
    "    sh \"files-upload -S ${env.AGAVE_STORAGE_SYSTEM_ID} -F build/funwave-${env.JOB_TYPE}-app.txt ${env.DEPLOYMENT_PATH}\"\n",
    "    sh \"files-upload -S ${env.AGAVE_STORAGE_SYSTEM_ID} -F version.txt ${env.DEPLOYMENT_PATH}\"\n",
    "\n",
    "    // We need to make sure that we're building the correct commit on the deploy system\n",
    "    env.GIT_COMMIT = sh(returnStdout: true, script: \"git log -n 1 --pretty=format:'%h'\")\n",
    "    env.GIT_COMMIT = env.GIT_COMMIT.trim()\n",
    "    writeFile(file: \"build/commit.txt\", text: env.GIT_COMMIT)\n",
    "    sh \"files-upload -S ${env.AGAVE_STORAGE_SYSTEM_ID} -F build/commit.txt ${env.DEPLOYMENT_PATH}\"\n",
    "\n",
    "  } catch (error) {\n",
    "    print \"Could not configure deployment path.\"\n",
    "    throw error\n",
    "  }\n",
    "\n",
    "  sh \"apps-addupdate -F build/funwave-${env.JOB_TYPE}-app.txt\"\n",
    "}\n",
    "```"
   ]
  },
  {
   "cell_type": "markdown",
   "metadata": {},
   "source": [
    "## Submitting the job and grabbing output\n",
    "The next stage builds the job JSON dynamically and writes it out to a file in the Jenkins agent. This JSON is then used to submit the build job to the app we configured and updated in the previous stage. The job is polled  for up to 4 minutes or until a terminal state is reached, at which point the pipeline either fails or the job output is printed to the Jenkins pipeline log.\n",
    "\n",
    "```groovy\n",
    "stage(\"Submit job\") {\n",
    "  env.WEBHOOK_URL = sh(returnStdout: true, script: \"requestbin-create\")\n",
    "  env.WEBHOOK_URL = env.WEBHOOK_URL.trim()\n",
    "  env.VERSION = sh(returnStdout: true, script: 'cat version.txt | paste -sd \"..-\" -')\n",
    "\n",
    "  def notificationsSpecs = [\n",
    "    url: env.WEBHOOK_URL,\n",
    "    event: \"*\",\n",
    "    persistent: \"true\"\n",
    "  ]\n",
    "\n",
    "  def parametersSpecs = [\n",
    "    code_version: \"latest\"\n",
    "  ]\n",
    "\n",
    "  def appSpecs = [\n",
    "    name: \"funwave-${env.JOB_TYPE}\",\n",
    "    appId: \"${env.AGAVE_USERNAME}-${env.MACHINE_NAME}-funwave-d${env.JOB_TYPE}-3.2.0\",\n",
    "    maxRunTime: \"00:10:00\",\n",
    "    archive: false,\n",
    "    notifications: [notificationsSpecs],\n",
    "    parameters: parametersSpecs\n",
    "  ]\n",
    "\n",
    "  def jsonContent = JsonOutput.toJson(appSpecs)\n",
    "  writeFile(file: \"build/funwave-${env.JOB_TYPE}-job.json\", text: jsonContent)\n",
    "\n",
    "  def submitOutput = sh(returnStdout: true, script: \"jobs-submit -F build/funwave-${env.JOB_TYPE}-job.json\")\n",
    "  def jobId = submitOutput.split(\" \")[-1]\n",
    "  env.JOB_ID = jobId.trim()\n",
    "\n",
    "  def jobState = 'SUBMITTING'\n",
    "  for (i = 0; i < 48; i++) {\n",
    "    sleep 5\n",
    "    jobState = sh(returnStdout: true, script: \"jobs-status ${env.JOB_ID}\").trim()\n",
    "    print jobState\n",
    "    if (jobState == 'FINISHED' || jobState == 'FAILED' || jobState == 'STOPPED') {\n",
    "      break\n",
    "    }\n",
    "  }\n",
    "\n",
    "  assert jobState == 'FINISHED'\n",
    "\n",
    "  try {\n",
    "    sh \"jobs-output-list --rich --filter=type,length,name ${env.JOB_ID}\"\n",
    "    sh \"jobs-output-get -P ${env.JOB_ID} funwave-${env.JOB_TYPE}.out\"\n",
    "  } catch (error) {\n",
    "    print \"Could not get output from job id: ${env.JOB_ID}\"\n",
    "  }\n",
    "}\n",
    "```"
   ]
  },
  {
   "cell_type": "markdown",
   "metadata": {},
   "source": [
    "## Triggering other pipelines\n",
    "The last stage of our Jenkins pipeline triggers a benchmarking pipeline upon a successful build using the [build step](https://jenkins.io/doc/pipeline/steps/pipeline-build-step/). We've parameterized both the build and benchmarking pipelines so that they can use the same Jenkinsfile while still deploying distinct Agave apps. As a result, our post-build pipeline trigger must also supply the appropriate `JOB_TYPE` parameter for the benchmarking pipeline.\n",
    "\n",
    "```groovy\n",
    "// This is covered in notebook 10\n",
    "if (currentBuild.result == 'SUCCESS' && env.JOB_TYPE == 'build') {\n",
    "  stage('Run benchmarks') {\n",
    "    def benchmarkPipeline = build job: 'funwave-benchmark-pipeline', parameters: [\n",
    "      [\n",
    "        $class: 'StringParameterValue',\n",
    "        name: 'JOB_TYPE',\n",
    "        value: 'benchmark'\n",
    "      ]\n",
    "    ]\n",
    "  }\n",
    "}\n",
    "```"
   ]
  },
  {
   "cell_type": "code",
   "execution_count": null,
   "metadata": {},
   "outputs": [],
   "source": []
  }
 ],
 "metadata": {
  "kernelspec": {
   "display_name": "Python 3",
   "language": "python",
   "name": "python3"
  },
  "language_info": {
   "codemirror_mode": {
    "name": "ipython",
    "version": 3
   },
   "file_extension": ".py",
   "mimetype": "text/x-python",
   "name": "python",
   "nbconvert_exporter": "python",
   "pygments_lexer": "ipython3",
   "version": "3.6.2"
  }
 },
 "nbformat": 4,
 "nbformat_minor": 2
}
