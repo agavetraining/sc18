{
 "cells": [
  {
   "cell_type": "markdown",
   "metadata": {},
   "source": [
    "<h2>Setting Stuff Up</h2>\n",
    "\n",
    "Here we import some packages that we'll need in various places."
   ]
  },
  {
   "cell_type": "code",
   "execution_count": 1,
   "metadata": {},
   "outputs": [
    {
     "name": "stdout",
     "output_type": "stream",
     "text": [
      "/home/jovyan/agave\n",
      "Requirement already up-to-date: setvar in /opt/conda/lib/python3.6/site-packages\n",
      "\u001b[33mYou are using pip version 9.0.1, however version 10.0.1 is available.\n",
      "You should consider upgrading via the 'pip install --upgrade pip' command.\u001b[0m\n"
     ]
    }
   ],
   "source": [
    "!mkdir -p ~/agave\n",
    "\n",
    "%cd ~/agave\n",
    "\n",
    "!pip3 install --upgrade setvar\n",
    "\n",
    "import re\n",
    "import os\n",
    "import sys\n",
    "from setvar import *\n",
    "from time import sleep\n",
    "\n",
    "# This cell enables inline plotting in the notebook\n",
    "%matplotlib inline\n",
    "\n",
    "import matplotlib\n",
    "import numpy as np\n",
    "import matplotlib.pyplot as plt"
   ]
  },
  {
   "cell_type": "markdown",
   "metadata": {},
   "source": [
    "<h2>Set Variables</h2>\n",
    "\n",
    "The setvar() package gives us a bash-like way of setting environment variables in Python. It's a lot easier to type `PORT=10022` than it is to type `os.environ[\"PORT\"]=\"10022\"`. The setvar package also supports comments and running a command in the background and getting its output."
   ]
  },
  {
   "cell_type": "code",
   "execution_count": 19,
   "metadata": {},
   "outputs": [
    {
     "name": "stdout",
     "output_type": "stream",
     "text": [
      "AGAVE_USERNAME=dooley\n",
      "MACHINE_IP=204.90.47.30\n",
      "MACHINE_NAME=jupyter\n",
      "DOMAIN=agaveplatform.org\n",
      "EMAIL=deardooley@gmail.com\n",
      "MACHINE_USERNAME=jovyan\n",
      "PORT=10022\n",
      "DOCKERHUB_NAME=dooley\n",
      "WORK_DIR=/home/jovyan\n",
      "HOME_DIR=/home/jovyan\n",
      "SCRATCH_DIR=/home/jovyan\n",
      "DEPLOYMENT_PATH=agave-deployment\n",
      "AGAVE_JSON_PARSER=jq\n",
      "AGAVE_TENANTS_API_BASEURL=https://public.agaveapi.co/tenants\n",
      "APP_NAME=funwave-tvd-jupyter-dooley\n",
      "STORAGE_MACHINE=jupyter-storage-dooley\n",
      "EXEC_MACHINE=jupyter-exec-dooley\n",
      "REQUESTBIN_URL=https://requestbin.agaveapi.co/1nf2h871\n"
     ]
    }
   ],
   "source": [
    "setvar(\"\"\"\n",
    "AGAVE_USERNAME=dooley\n",
    "MACHINE_IP=$VM_IPADDRESS\n",
    "MACHINE_NAME=jupyter\n",
    "DOMAIN=agaveplatform.org\n",
    "EMAIL=deardooley@gmail.com\n",
    "MACHINE_USERNAME=jovyan\n",
    "PORT=10022\n",
    "\n",
    "DOCKERHUB_NAME=dooley\n",
    "WORK_DIR=/home/${MACHINE_USERNAME}\n",
    "HOME_DIR=/home/${MACHINE_USERNAME}\n",
    "SCRATCH_DIR=/home/${MACHINE_USERNAME}\n",
    "DEPLOYMENT_PATH=agave-deployment\n",
    "AGAVE_JSON_PARSER=jq\n",
    "AGAVE_TENANTS_API_BASEURL=https://public.agaveapi.co/tenants\n",
    "APP_NAME=funwave-tvd-${MACHINE_NAME}-${AGAVE_USERNAME}\n",
    "STORAGE_MACHINE=${MACHINE_NAME}-storage-${AGAVE_USERNAME}\n",
    "EXEC_MACHINE=${MACHINE_NAME}-exec-${AGAVE_USERNAME}\n",
    "REQUESTBIN_URL=$(requestbin-create)\n",
    "\"\"\")"
   ]
  },
  {
   "cell_type": "markdown",
   "metadata": {},
   "source": [
    "If you are running locally using Docker Compose, you will need to pull the ip and port of your reverse tunnel from the sandbox. Uncomment the following command, and enter below"
   ]
  },
  {
   "cell_type": "code",
   "execution_count": 20,
   "metadata": {},
   "outputs": [
    {
     "name": "stdout",
     "output_type": "stream",
     "text": [
      "Warning: Permanently added 'sandbox,172.29.0.3' (ECDSA) to the list of known hosts.\n",
      "MACHINE_IP=0.tcp.ngrok.io\n",
      "PORT=12873\n"
     ]
    }
   ],
   "source": [
    "if os.environ.get('USE_TUNNEL') == \"True\" :\n",
    "    !ssh -o StrictHostKeyChecking=no -o UserKnownHostsFile=/dev/null sandbox 'curl -s  http://localhost:4040/api/tunnels | jq -r '.tunnels[0].public_url'' > ngrok_url.txt\n",
    "    !cat ngrok_url.txt | sed 's|^tcp://||' | sed -r 's#(.*):(.*)#\\1#' > ngrok_host.txt\n",
    "    !cat ngrok_url.txt | sed 's|^tcp://||' | sed -r 's#(.*):(.*)#\\2#'  > ngrok_port.txt\n",
    "\n",
    "    setvar(\"\"\"\n",
    "    MACHINE_IP=$(cat ngrok_host.txt)\n",
    "    PORT=$(cat ngrok_port.txt)\n",
    "    \"\"\")"
   ]
  },
  {
   "cell_type": "markdown",
   "metadata": {},
   "source": [
    "<h2>PushBullet</h2>\n",
    "If you wish to use pushbullet to receive status updates, then run the cell below and enter your pushbullet token."
   ]
  },
  {
   "cell_type": "code",
   "execution_count": 21,
   "metadata": {},
   "outputs": [
    {
     "name": "stdout",
     "output_type": "stream",
     "text": [
      "Password or secret: PBTOK\n",
      "Reading file `PBTOK.txt'\n"
     ]
    }
   ],
   "source": [
    "readpass(\"PBTOK\")"
   ]
  },
  {
   "cell_type": "markdown",
   "metadata": {},
   "source": [
    "<h2>Agave Password</h2>\n",
    "\n",
    "We'll be running several commands that require the Agave password. We'll store it here for convenience."
   ]
  },
  {
   "cell_type": "code",
   "execution_count": 22,
   "metadata": {},
   "outputs": [],
   "source": [
    "if not os.environ.get('AGAVE_PASSWORD') :\n",
    "    readpass(\"AGAVE_PASSWORD\")"
   ]
  },
  {
   "cell_type": "markdown",
   "metadata": {},
   "source": [
    "<h2>Setting up Agave</h2>\n",
    "Agave uses machines called \"tenants\" to manage user login and authentication. In this step, we tell Agave we are using the standard proction tenant."
   ]
  },
  {
   "cell_type": "code",
   "execution_count": 23,
   "metadata": {},
   "outputs": [
    {
     "name": "stdout",
     "output_type": "stream",
     "text": [
      "\u001b[1;0mYou are now configured to interact with the APIs at https://public.agaveapi.co/\u001b[0m\r\n"
     ]
    }
   ],
   "source": [
    "!tenants-init -t agave.prod"
   ]
  },
  {
   "cell_type": "markdown",
   "metadata": {},
   "source": [
    "<h3>Create the Client</h3>"
   ]
  },
  {
   "cell_type": "markdown",
   "metadata": {},
   "source": [
    "In this next step we delete the client if it exists. Chances are, yours doesn't yet. We put this command here in case, for some reason, you want to re-create your client later on. If you delete the client you intend to create before you create it, no harm is done."
   ]
  },
  {
   "cell_type": "code",
   "execution_count": 24,
   "metadata": {},
   "outputs": [
    {
     "name": "stdout",
     "output_type": "stream",
     "text": [
      "\u001b[1;0mSuccessfully deleted client funwave-tvd-jupyter-dooley\u001b[0m\r\n"
     ]
    }
   ],
   "source": [
    "!clients-delete $APP_NAME"
   ]
  },
  {
   "cell_type": "markdown",
   "metadata": {},
   "source": [
    "In this step we create the client. Clients provide a way of encapsulating resources connected to a single project. Through the client, you will receive a token which you can use to run most of the Agave commands."
   ]
  },
  {
   "cell_type": "code",
   "execution_count": null,
   "metadata": {},
   "outputs": [],
   "source": [
    "!clients-create -S -N $APP_NAME"
   ]
  },
  {
   "cell_type": "markdown",
   "metadata": {},
   "source": [
    "Create the token for your client. You will, from this point on, use this token to run the remainder of the Agave commands in this tutorial."
   ]
  },
  {
   "cell_type": "code",
   "execution_count": null,
   "metadata": {},
   "outputs": [],
   "source": [
    "!auth-tokens-create "
   ]
  },
  {
   "cell_type": "code",
   "execution_count": null,
   "metadata": {
    "collapsed": true
   },
   "outputs": [],
   "source": []
  }
 ],
 "metadata": {
  "kernelspec": {
   "display_name": "Python 3",
   "language": "python",
   "name": "python3"
  },
  "language_info": {
   "codemirror_mode": {
    "name": "ipython",
    "version": 3
   },
   "file_extension": ".py",
   "mimetype": "text/x-python",
   "name": "python",
   "nbconvert_exporter": "python",
   "pygments_lexer": "ipython3",
   "version": "3.6.2"
  }
 },
 "nbformat": 4,
 "nbformat_minor": 2
}
