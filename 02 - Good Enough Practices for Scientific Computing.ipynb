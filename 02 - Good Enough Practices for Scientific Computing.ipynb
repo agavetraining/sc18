{
 "cells": [
  {
   "cell_type": "markdown",
   "metadata": {},
   "source": [
    "# Good Enough Practices for Scientific Computing\n",
    "\n",
    "Building on our sample application in this tutorial, FUNWAVE-TVD, we will introduce some pragmatically-oriented best practices to help us improve our existing software quality and build towards a fully reproducible digital research and developement process. We will draw heavily from community-drivene recommndations published by organizations such as [The Software Carpentry Foundation](https://software-carpentry.org/), [Github](https://github.com), [Singularity](http://singularity.lbl.gov), [RedHat](https://redhat.com), [The Open Science Foundation](http://osf.io), [The Open Container Initiative](https://www.opencontainers.org), and the [FORCE11 Software Citation Working Group](https://www.force11.org/group/software-citation-working-group). In doing so, we build upon community defined specifications and open source technologies readiy available to the open science community, while focusing on how to realize their promise within the context of a tangible use case. \n",
    "\n",
    "In their white paper, \"[Good Enough Practices in Scientific Computing](https://swcarpentry.github.io/good-enough-practices-in-scientific-computing/),\" the authors succinctly lay out recommenations that beginning researchers can adopt regardless of their current level of computational skill. Throughout this tutorial we will look at a traditional build, test, and run workflow with our FUNWAVE-TVD, then examine what we need to do to improve various aspects of our devleopment cycle, portability, reproducibility, automation, collaboration, and publication using the Good Enough recommendations. We will adjust our example app as we go to address the Good Enough recommendations using real-world solutions with open source technologies that adhere as closely as possible to any standards available today.\n",
    "\n",
    "We briefly lay out the Good Enough recommendations that we will touch in the remainder off this notebook for reference. "
   ]
  },
  {
   "cell_type": "markdown",
   "metadata": {},
   "source": [
    "## Data Management\n",
    "\n",
    "1. Save the raw data and ensure that raw data is backed up in more than one location.\n",
    "\n",
    "2. Create the data you wish to see in the world  \n",
    "\n",
    "3. Create analysis-friendly data  \n",
    "\n",
    "4. Record all the steps used to process data  \n",
    "\n",
    "5. Submit data to a reputable DOI-issuing repository so that others can access and cite it\n"
   ]
  },
  {
   "cell_type": "markdown",
   "metadata": {},
   "source": [
    "## Software  \n",
    "\n",
    "1. Place a brief explanatory comment at the start of every program  \n",
    "2. Provide a simple example or test data set\n",
    "3. Submit code to a reputable DOI-issuing repository  "
   ]
  },
  {
   "cell_type": "markdown",
   "metadata": {},
   "source": [
    "## Collaboration  \n",
    "\n",
    "1. Create an overview of your project\n",
    "2. Create a shared \"to-do\" list   \n",
    "3. Decide on communication strategies  \n",
    "4. Make the license explicit   \n",
    "5. Make the project citable  "
   ]
  },
  {
   "cell_type": "markdown",
   "metadata": {},
   "source": [
    "## Project Organization  \n",
    "\n",
    "1. Put each project in its own directory, which is named after the project  \n",
    "2. Put text documents associated with the project in the doc directory    \n",
    "3. Put raw data and metadata in a data directory, and files generated during cleanup and analysis in a results directory\n",
    "4. Put project source code in the src directory  \n",
    "5. Put compiled programs in the bin directory  \n",
    "6. Name all files to reflect their content or function   "
   ]
  },
  {
   "cell_type": "markdown",
   "metadata": {},
   "source": [
    "## Keeping Track of Changes  \n",
    "\n",
    "1. Back up (almost) everything created by a human being as soon as it is created   \n",
    "2. Share changes frequently  \n",
    "3. Create, maintain, and use a checklist for saving and sharing changes to the project  \n",
    "4. Store each project in a folder that is mirrored off the researcher's working machine     "
   ]
  },
  {
   "cell_type": "markdown",
   "metadata": {},
   "source": [
    "## Manual Versioning  \n",
    "\n",
    "1. Add a file called `CHANGELOG.txt` to the project's `docs` subfolder\n",
    "2. Copy the entire project whenever a significant change has been made "
   ]
  },
  {
   "cell_type": "markdown",
   "metadata": {},
   "source": [
    "## Version Control Systems  \n",
    "\n",
    "1. Use a version control system\n",
    "2. What not to put under version control  "
   ]
  },
  {
   "cell_type": "markdown",
   "metadata": {},
   "source": [
    "## Manuscripts  \n",
    "\n",
    "1. Write manuscripts using online tools with rich formatting, change tracking, and reference management    \n",
    "2. Write the manuscript in a plain text format that permits version control  "
   ]
  },
  {
   "cell_type": "markdown",
   "metadata": {},
   "source": [
    "## Supplementary Materials  \n",
    "\n",
    "Separate the results that you may expect others to reuse (e.g., data in tables, data behind figures) into separate, text-format files in formats such as CSV, JSON, YAML, XML, or HDF5\n",
    "\n"
   ]
  },
  {
   "cell_type": "markdown",
   "metadata": {},
   "source": [
    "## What We Left Out  \n",
    "\n",
    "1. Build Tools\n",
    "2. Unit Tests  \n",
    "3. Continuous Integration  \n",
    "4. Unit Tests  \n",
    "5. Profiling and Performance Tuning  \n",
    "6. Documentation  "
   ]
  },
  {
   "cell_type": "markdown",
   "metadata": {
    "collapsed": true
   },
   "source": [
    "## References  \n",
    "\n",
    "* Wilson, Greg, Jennifer Bryan, Karen Cranston, Justin Kitzes, Lex Nederbragt, and Tracy K. Teal. “Good Enough Practices in Scientific Computing.” CoRR abs/1609.00037 (2016). [http://arxiv.org/abs/1609.00037]().  \n",
    "\n",
    "\n",
    "* Smith AM, Katz DS, Niemeyer KE, FORCE11 Software Citation Working Group. (2016) Software citation principles. PeerJ Computer Science 2:e86 [https://doi.org/10.7717/peerj-cs.86]().  \n",
    "\n",
    "\n",
    "* Github. “Making Your Code Citable.” Github Guides (blog), October 2016. [https://guides.github.com/activities/citable-code/]().  \n",
    "\n",
    "\n",
    "* Sochat, Vanessa. “Scientific Filesystem.” The Scientific Filesystem, 8 Jan. 2018, [http://sci-f.github.io/]().  \n",
    "\n"
   ]
  },
  {
   "cell_type": "markdown",
   "metadata": {},
   "source": []
  }
 ],
 "metadata": {
  "kernelspec": {
   "display_name": "Python 3",
   "language": "python",
   "name": "python3"
  },
  "language_info": {
   "codemirror_mode": {
    "name": "ipython",
    "version": 3
   },
   "file_extension": ".py",
   "mimetype": "text/x-python",
   "name": "python",
   "nbconvert_exporter": "python",
   "pygments_lexer": "ipython3",
   "version": "3.6.2"
  }
 },
 "nbformat": 4,
 "nbformat_minor": 1
}
